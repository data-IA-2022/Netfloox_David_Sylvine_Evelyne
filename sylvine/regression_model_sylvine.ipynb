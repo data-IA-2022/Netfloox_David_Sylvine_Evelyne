{
 "cells": [
  {
   "cell_type": "code",
   "execution_count": 5,
   "metadata": {},
   "outputs": [],
   "source": [
    "import pandas as pd\n",
    "import numpy as np\n",
    "\n",
    "# Preprocessing et pipeline\n",
    "from sklearn.preprocessing import RobustScaler\n",
    "from category_encoders import TargetEncoder\n",
    "from sklearn.pipeline import Pipeline\n",
    "from sklearn import set_config\n",
    "from sklearn.impute import SimpleImputer\n",
    "from sklearn.feature_extraction.text import CountVectorizer\n",
    "from sklearn.compose import ColumnTransformer\n",
    "from sklearn.model_selection import train_test_split, GridSearchCV, RandomizedSearchCV\n",
    "from sklearn import metrics\n",
    "\n",
    "# Modeles\n",
    "from sklearn.ensemble import GradientBoostingRegressor, RandomForestRegressor, AdaBoostRegressor\n",
    "from sklearn.cluster import KMeans\n",
    "from sklearn.linear_model import LinearRegression, Ridge, Lasso, ElasticNet\n",
    "\n",
    "from sklearn.metrics import r2_score, mean_absolute_error\n",
    "\n",
    "#data viz\n",
    "import matplotlib.pyplot as plt\n",
    "import seaborn as sns"
   ]
  },
  {
   "cell_type": "code",
   "execution_count": 6,
   "metadata": {},
   "outputs": [],
   "source": [
    "# fonction pour tester un modèle\n",
    "\n",
    "def model_testing(data, model, parameters):\n",
    "    # Numerical variables\n",
    "    column_num = ['decade', 'runtimeMinutes', \"isAdult\"]\n",
    "    transfo_num = Pipeline(steps=[\n",
    "        ('scaling', RobustScaler())\n",
    "    ])\n",
    "\n",
    "    # Categorical variables\n",
    "    column_tex1 = 'genres'\n",
    "    column_tex2 = 'actors'\n",
    "    column_tex3 = 'actress'\n",
    "    column_tex4 = 'directors'\n",
    "\n",
    "    transfo_tex = Pipeline(steps=[\n",
    "        ('countvec', CountVectorizer(tokenizer=lambda x: x.split(',')))\n",
    "        ])\n",
    "\n",
    "    # Class ColumnTransformer : apply alls steps on the whole dataset\n",
    "    preparation = ColumnTransformer(\n",
    "        transformers=[\n",
    "            ('data_tex1', transfo_tex , column_tex1),\n",
    "            ('data_tex2', transfo_tex , column_tex2),\n",
    "            ('data_tex3', transfo_tex , column_tex3),\n",
    "            ('data_tex4', transfo_tex , column_tex4),\n",
    "            ('data_num', transfo_num , column_num)\n",
    "        ])\n",
    "\n",
    "    # Create pipeline\n",
    "    pipe = Pipeline(steps=[('preparation', preparation),\n",
    "                            ('model', model)])\n",
    "\n",
    "\n",
    "    # Declare the Grid Search method\n",
    "    grid = GridSearchCV(pipe, parameters, scoring='r2', cv = 3, n_jobs =-1, verbose = 1)\n",
    "\n",
    "    # Fit the model\n",
    "    y = data['averageRating']\n",
    "    X = data.drop(columns='averageRating')\n",
    "    X_train, X_test, y_train, y_test = train_test_split(X, y, test_size=0.2, random_state=0)\n",
    "\n",
    "    # fit le gridsearch\n",
    "    grid.fit(X_train, y_train)\n",
    "\n",
    "\n",
    "    # print resultats:\n",
    "\n",
    "    # Evaluate model performance with predictions\n",
    "    y_pred = grid.predict(X_test)\n",
    "\n",
    "    # Evaluate cross validation performance \n",
    "    print(\"CV parameters:\", grid.best_params_)\n",
    "    print(\"CV score - R2:\", grid.best_score_)\n",
    "    print(\"Test score r2\", r2_score(y_test, y_pred))\n",
    "    print(\"Test score MAE\", mean_absolute_error(y_test, y_pred))"
   ]
  },
  {
   "cell_type": "code",
   "execution_count": 7,
   "metadata": {},
   "outputs": [],
   "source": [
    "# fonction pour tester les 3 clusters à la suite: \n",
    "def model_testing_cluster(cluster_datasets, model, parameters):\n",
    "    num = 0\n",
    "    for i in cluster_datasets:\n",
    "        print(\"__________________________________________\")\n",
    "        print(f\"Pour le dataset {num}, le meilleur modèle est:\")\n",
    "        model_testing(i, model, parameters)\n",
    "        num += 1"
   ]
  },
  {
   "attachments": {},
   "cell_type": "markdown",
   "metadata": {},
   "source": [
    "# I. Création du dataset"
   ]
  },
  {
   "cell_type": "code",
   "execution_count": 8,
   "metadata": {},
   "outputs": [
    {
     "data": {
      "text/html": [
       "<div>\n",
       "<style scoped>\n",
       "    .dataframe tbody tr th:only-of-type {\n",
       "        vertical-align: middle;\n",
       "    }\n",
       "\n",
       "    .dataframe tbody tr th {\n",
       "        vertical-align: top;\n",
       "    }\n",
       "\n",
       "    .dataframe thead th {\n",
       "        text-align: right;\n",
       "    }\n",
       "</style>\n",
       "<table border=\"1\" class=\"dataframe\">\n",
       "  <thead>\n",
       "    <tr style=\"text-align: right;\">\n",
       "      <th></th>\n",
       "      <th>actors</th>\n",
       "      <th>averageRating</th>\n",
       "      <th>numVotes</th>\n",
       "      <th>decade</th>\n",
       "      <th>runtimeMinutes</th>\n",
       "      <th>isAdult</th>\n",
       "      <th>genres</th>\n",
       "      <th>directors</th>\n",
       "      <th>actress</th>\n",
       "    </tr>\n",
       "  </thead>\n",
       "  <tbody>\n",
       "    <tr>\n",
       "      <th>0</th>\n",
       "      <td>nm0585785,nm0707778,nm0166547,nm0473134</td>\n",
       "      <td>6.2</td>\n",
       "      <td>31</td>\n",
       "      <td>191.0</td>\n",
       "      <td>45.0</td>\n",
       "      <td>0</td>\n",
       "      <td>NaN</td>\n",
       "      <td>nm0300487</td>\n",
       "      <td>nm0631025,nm0003425,nm1270556,nm1495634</td>\n",
       "    </tr>\n",
       "    <tr>\n",
       "      <th>1</th>\n",
       "      <td>nm0846894,nm1431224,nm3002376</td>\n",
       "      <td>6.0</td>\n",
       "      <td>808</td>\n",
       "      <td>190.0</td>\n",
       "      <td>70.0</td>\n",
       "      <td>0</td>\n",
       "      <td>Action,Adventure,Biography</td>\n",
       "      <td>nm0846879</td>\n",
       "      <td>nm0846887</td>\n",
       "    </tr>\n",
       "    <tr>\n",
       "      <th>2</th>\n",
       "      <td>nm0064953,nm0085066,nm0169878,nm0299757,nm1834...</td>\n",
       "      <td>4.6</td>\n",
       "      <td>19</td>\n",
       "      <td>191.0</td>\n",
       "      <td>NaN</td>\n",
       "      <td>0</td>\n",
       "      <td>Crime</td>\n",
       "      <td>nm0375839</td>\n",
       "      <td>nm0630641</td>\n",
       "    </tr>\n",
       "    <tr>\n",
       "      <th>3</th>\n",
       "      <td>nm0104856,nm0251436,nm0526190,nm5188470,nm5217890</td>\n",
       "      <td>3.5</td>\n",
       "      <td>17</td>\n",
       "      <td>190.0</td>\n",
       "      <td>NaN</td>\n",
       "      <td>0</td>\n",
       "      <td>Drama,War</td>\n",
       "      <td>nm0022607</td>\n",
       "      <td>nm1834127,nm0280746,nm0762935</td>\n",
       "    </tr>\n",
       "    <tr>\n",
       "      <th>4</th>\n",
       "      <td>nm0735618</td>\n",
       "      <td>3.8</td>\n",
       "      <td>21</td>\n",
       "      <td>191.0</td>\n",
       "      <td>58.0</td>\n",
       "      <td>0</td>\n",
       "      <td>Adventure,Drama</td>\n",
       "      <td>nm0063413,nm0550220</td>\n",
       "      <td>nm0699807</td>\n",
       "    </tr>\n",
       "  </tbody>\n",
       "</table>\n",
       "</div>"
      ],
      "text/plain": [
       "                                              actors  averageRating  numVotes  \\\n",
       "0            nm0585785,nm0707778,nm0166547,nm0473134            6.2        31   \n",
       "1                      nm0846894,nm1431224,nm3002376            6.0       808   \n",
       "2  nm0064953,nm0085066,nm0169878,nm0299757,nm1834...            4.6        19   \n",
       "3  nm0104856,nm0251436,nm0526190,nm5188470,nm5217890            3.5        17   \n",
       "4                                          nm0735618            3.8        21   \n",
       "\n",
       "   decade  runtimeMinutes  isAdult                      genres  \\\n",
       "0   191.0            45.0        0                         NaN   \n",
       "1   190.0            70.0        0  Action,Adventure,Biography   \n",
       "2   191.0             NaN        0                       Crime   \n",
       "3   190.0             NaN        0                   Drama,War   \n",
       "4   191.0            58.0        0             Adventure,Drama   \n",
       "\n",
       "             directors                                  actress  \n",
       "0            nm0300487  nm0631025,nm0003425,nm1270556,nm1495634  \n",
       "1            nm0846879                                nm0846887  \n",
       "2            nm0375839                                nm0630641  \n",
       "3            nm0022607            nm1834127,nm0280746,nm0762935  \n",
       "4  nm0063413,nm0550220                                nm0699807  "
      ]
     },
     "execution_count": 8,
     "metadata": {},
     "output_type": "execute_result"
    }
   ],
   "source": [
    "# Creation du dataset\n",
    "df_all = pd.read_csv('../datasets/data_regression_sylvine.csv', index_col=0)\n",
    "df_all = df_all.drop('tconst', axis=1)\n",
    "df_all.head()"
   ]
  },
  {
   "cell_type": "code",
   "execution_count": 9,
   "metadata": {},
   "outputs": [
    {
     "data": {
      "text/html": [
       "<div>\n",
       "<style scoped>\n",
       "    .dataframe tbody tr th:only-of-type {\n",
       "        vertical-align: middle;\n",
       "    }\n",
       "\n",
       "    .dataframe tbody tr th {\n",
       "        vertical-align: top;\n",
       "    }\n",
       "\n",
       "    .dataframe thead th {\n",
       "        text-align: right;\n",
       "    }\n",
       "</style>\n",
       "<table border=\"1\" class=\"dataframe\">\n",
       "  <thead>\n",
       "    <tr style=\"text-align: right;\">\n",
       "      <th></th>\n",
       "      <th>actors</th>\n",
       "      <th>averageRating</th>\n",
       "      <th>decade</th>\n",
       "      <th>runtimeMinutes</th>\n",
       "      <th>isAdult</th>\n",
       "      <th>genres</th>\n",
       "      <th>directors</th>\n",
       "      <th>actress</th>\n",
       "    </tr>\n",
       "  </thead>\n",
       "  <tbody>\n",
       "    <tr>\n",
       "      <th>0</th>\n",
       "      <td>nm0585785,nm0707778,nm0166547,nm0473134</td>\n",
       "      <td>6.2</td>\n",
       "      <td>191.0</td>\n",
       "      <td>45.0</td>\n",
       "      <td>0</td>\n",
       "      <td>NaN</td>\n",
       "      <td>nm0300487</td>\n",
       "      <td>nm0631025,nm0003425,nm1270556,nm1495634</td>\n",
       "    </tr>\n",
       "    <tr>\n",
       "      <th>1</th>\n",
       "      <td>nm0846894,nm1431224,nm3002376</td>\n",
       "      <td>6.0</td>\n",
       "      <td>190.0</td>\n",
       "      <td>70.0</td>\n",
       "      <td>0</td>\n",
       "      <td>Action,Adventure,Biography</td>\n",
       "      <td>nm0846879</td>\n",
       "      <td>nm0846887</td>\n",
       "    </tr>\n",
       "    <tr>\n",
       "      <th>2</th>\n",
       "      <td>nm0064953,nm0085066,nm0169878,nm0299757,nm1834...</td>\n",
       "      <td>4.6</td>\n",
       "      <td>191.0</td>\n",
       "      <td>NaN</td>\n",
       "      <td>0</td>\n",
       "      <td>Crime</td>\n",
       "      <td>nm0375839</td>\n",
       "      <td>nm0630641</td>\n",
       "    </tr>\n",
       "    <tr>\n",
       "      <th>3</th>\n",
       "      <td>nm0104856,nm0251436,nm0526190,nm5188470,nm5217890</td>\n",
       "      <td>3.5</td>\n",
       "      <td>190.0</td>\n",
       "      <td>NaN</td>\n",
       "      <td>0</td>\n",
       "      <td>Drama,War</td>\n",
       "      <td>nm0022607</td>\n",
       "      <td>nm1834127,nm0280746,nm0762935</td>\n",
       "    </tr>\n",
       "    <tr>\n",
       "      <th>4</th>\n",
       "      <td>nm0735618</td>\n",
       "      <td>3.8</td>\n",
       "      <td>191.0</td>\n",
       "      <td>58.0</td>\n",
       "      <td>0</td>\n",
       "      <td>Adventure,Drama</td>\n",
       "      <td>nm0063413,nm0550220</td>\n",
       "      <td>nm0699807</td>\n",
       "    </tr>\n",
       "  </tbody>\n",
       "</table>\n",
       "</div>"
      ],
      "text/plain": [
       "                                              actors  averageRating  decade  \\\n",
       "0            nm0585785,nm0707778,nm0166547,nm0473134            6.2   191.0   \n",
       "1                      nm0846894,nm1431224,nm3002376            6.0   190.0   \n",
       "2  nm0064953,nm0085066,nm0169878,nm0299757,nm1834...            4.6   191.0   \n",
       "3  nm0104856,nm0251436,nm0526190,nm5188470,nm5217890            3.5   190.0   \n",
       "4                                          nm0735618            3.8   191.0   \n",
       "\n",
       "   runtimeMinutes  isAdult                      genres            directors  \\\n",
       "0            45.0        0                         NaN            nm0300487   \n",
       "1            70.0        0  Action,Adventure,Biography            nm0846879   \n",
       "2             NaN        0                       Crime            nm0375839   \n",
       "3             NaN        0                   Drama,War            nm0022607   \n",
       "4            58.0        0             Adventure,Drama  nm0063413,nm0550220   \n",
       "\n",
       "                                   actress  \n",
       "0  nm0631025,nm0003425,nm1270556,nm1495634  \n",
       "1                                nm0846887  \n",
       "2                                nm0630641  \n",
       "3            nm1834127,nm0280746,nm0762935  \n",
       "4                                nm0699807  "
      ]
     },
     "execution_count": 9,
     "metadata": {},
     "output_type": "execute_result"
    }
   ],
   "source": [
    "df_3000 = df_all[df_all['numVotes'] > 3000]\n",
    "df_3000 = df_3000.drop('numVotes', axis=1).dropna(subset=\"averageRating\")\n",
    "\n",
    "df_all = df_all.drop('numVotes', axis=1).dropna(subset=\"averageRating\")\n",
    "df_all.head()"
   ]
  },
  {
   "cell_type": "code",
   "execution_count": 10,
   "metadata": {},
   "outputs": [
    {
     "data": {
      "text/html": [
       "<div>\n",
       "<style scoped>\n",
       "    .dataframe tbody tr th:only-of-type {\n",
       "        vertical-align: middle;\n",
       "    }\n",
       "\n",
       "    .dataframe tbody tr th {\n",
       "        vertical-align: top;\n",
       "    }\n",
       "\n",
       "    .dataframe thead th {\n",
       "        text-align: right;\n",
       "    }\n",
       "</style>\n",
       "<table border=\"1\" class=\"dataframe\">\n",
       "  <thead>\n",
       "    <tr style=\"text-align: right;\">\n",
       "      <th></th>\n",
       "      <th>actors</th>\n",
       "      <th>averageRating</th>\n",
       "      <th>numVotes</th>\n",
       "      <th>decade</th>\n",
       "      <th>runtimeMinutes</th>\n",
       "      <th>isAdult</th>\n",
       "      <th>genres</th>\n",
       "      <th>directors</th>\n",
       "      <th>actress</th>\n",
       "    </tr>\n",
       "  </thead>\n",
       "  <tbody>\n",
       "    <tr>\n",
       "      <th>0</th>\n",
       "      <td>nm0585785,nm0707778,nm0166547,nm0473134</td>\n",
       "      <td>6.2</td>\n",
       "      <td>31</td>\n",
       "      <td>191.0</td>\n",
       "      <td>45.0</td>\n",
       "      <td>0</td>\n",
       "      <td>NaN</td>\n",
       "      <td>nm0300487</td>\n",
       "      <td>nm0631025,nm0003425,nm1270556,nm1495634</td>\n",
       "    </tr>\n",
       "    <tr>\n",
       "      <th>1</th>\n",
       "      <td>nm0846894,nm1431224,nm3002376</td>\n",
       "      <td>6.0</td>\n",
       "      <td>808</td>\n",
       "      <td>190.0</td>\n",
       "      <td>70.0</td>\n",
       "      <td>0</td>\n",
       "      <td>Action,Adventure,Biography</td>\n",
       "      <td>nm0846879</td>\n",
       "      <td>nm0846887</td>\n",
       "    </tr>\n",
       "    <tr>\n",
       "      <th>2</th>\n",
       "      <td>nm0064953,nm0085066,nm0169878,nm0299757,nm1834...</td>\n",
       "      <td>4.6</td>\n",
       "      <td>19</td>\n",
       "      <td>191.0</td>\n",
       "      <td>NaN</td>\n",
       "      <td>0</td>\n",
       "      <td>Crime</td>\n",
       "      <td>nm0375839</td>\n",
       "      <td>nm0630641</td>\n",
       "    </tr>\n",
       "    <tr>\n",
       "      <th>3</th>\n",
       "      <td>nm0104856,nm0251436,nm0526190,nm5188470,nm5217890</td>\n",
       "      <td>3.5</td>\n",
       "      <td>17</td>\n",
       "      <td>190.0</td>\n",
       "      <td>NaN</td>\n",
       "      <td>0</td>\n",
       "      <td>Drama,War</td>\n",
       "      <td>nm0022607</td>\n",
       "      <td>nm1834127,nm0280746,nm0762935</td>\n",
       "    </tr>\n",
       "    <tr>\n",
       "      <th>4</th>\n",
       "      <td>nm0735618</td>\n",
       "      <td>3.8</td>\n",
       "      <td>21</td>\n",
       "      <td>191.0</td>\n",
       "      <td>58.0</td>\n",
       "      <td>0</td>\n",
       "      <td>Adventure,Drama</td>\n",
       "      <td>nm0063413,nm0550220</td>\n",
       "      <td>nm0699807</td>\n",
       "    </tr>\n",
       "  </tbody>\n",
       "</table>\n",
       "</div>"
      ],
      "text/plain": [
       "                                              actors  averageRating  numVotes  \\\n",
       "0            nm0585785,nm0707778,nm0166547,nm0473134            6.2        31   \n",
       "1                      nm0846894,nm1431224,nm3002376            6.0       808   \n",
       "2  nm0064953,nm0085066,nm0169878,nm0299757,nm1834...            4.6        19   \n",
       "3  nm0104856,nm0251436,nm0526190,nm5188470,nm5217890            3.5        17   \n",
       "4                                          nm0735618            3.8        21   \n",
       "\n",
       "   decade  runtimeMinutes  isAdult                      genres  \\\n",
       "0   191.0            45.0        0                         NaN   \n",
       "1   190.0            70.0        0  Action,Adventure,Biography   \n",
       "2   191.0             NaN        0                       Crime   \n",
       "3   190.0             NaN        0                   Drama,War   \n",
       "4   191.0            58.0        0             Adventure,Drama   \n",
       "\n",
       "             directors                                  actress  \n",
       "0            nm0300487  nm0631025,nm0003425,nm1270556,nm1495634  \n",
       "1            nm0846879                                nm0846887  \n",
       "2            nm0375839                                nm0630641  \n",
       "3            nm0022607            nm1834127,nm0280746,nm0762935  \n",
       "4  nm0063413,nm0550220                                nm0699807  "
      ]
     },
     "execution_count": 10,
     "metadata": {},
     "output_type": "execute_result"
    }
   ],
   "source": [
    "# Creation du dataset\n",
    "df_all = pd.read_csv('../datasets/data_regression_sylvine.csv', index_col=0)\n",
    "df_all = df_all.drop('tconst', axis=1)\n",
    "df_all.head()"
   ]
  },
  {
   "cell_type": "code",
   "execution_count": 11,
   "metadata": {},
   "outputs": [
    {
     "data": {
      "text/plain": [
       "(64301, 8)"
      ]
     },
     "execution_count": 11,
     "metadata": {},
     "output_type": "execute_result"
    }
   ],
   "source": [
    "df_3000 = df_all[df_all['numVotes'] > 3000]\n",
    "df_3000 = df_3000.drop('numVotes', axis=1).dropna(subset=\"averageRating\")\n",
    "\n",
    "df_250 = df_all[df_all['numVotes'] > 250]\n",
    "df_250 = df_250.drop('numVotes', axis=1).dropna()\n",
    "df_250.shape"
   ]
  },
  {
   "attachments": {},
   "cell_type": "markdown",
   "metadata": {},
   "source": [
    "# II. Application d'un modèle avec une pipeline incluant GridSearch, étape par étape"
   ]
  },
  {
   "cell_type": "code",
   "execution_count": 12,
   "metadata": {},
   "outputs": [
    {
     "data": {
      "text/html": [
       "<div>\n",
       "<style scoped>\n",
       "    .dataframe tbody tr th:only-of-type {\n",
       "        vertical-align: middle;\n",
       "    }\n",
       "\n",
       "    .dataframe tbody tr th {\n",
       "        vertical-align: top;\n",
       "    }\n",
       "\n",
       "    .dataframe thead th {\n",
       "        text-align: right;\n",
       "    }\n",
       "</style>\n",
       "<table border=\"1\" class=\"dataframe\">\n",
       "  <thead>\n",
       "    <tr style=\"text-align: right;\">\n",
       "      <th></th>\n",
       "      <th>actors</th>\n",
       "      <th>averageRating</th>\n",
       "      <th>decade</th>\n",
       "      <th>runtimeMinutes</th>\n",
       "      <th>isAdult</th>\n",
       "      <th>genres</th>\n",
       "      <th>directors</th>\n",
       "      <th>actress</th>\n",
       "    </tr>\n",
       "  </thead>\n",
       "  <tbody>\n",
       "    <tr>\n",
       "      <th>89</th>\n",
       "      <td>nm0130740,nm0513325,nm0835738</td>\n",
       "      <td>5.7</td>\n",
       "      <td>193.0</td>\n",
       "      <td>66.0</td>\n",
       "      <td>0</td>\n",
       "      <td>Crime,Mystery,Thriller</td>\n",
       "      <td>nm0000033</td>\n",
       "      <td>nm0340514</td>\n",
       "    </tr>\n",
       "    <tr>\n",
       "      <th>203</th>\n",
       "      <td>nm0001196,nm0250366,nm0067634</td>\n",
       "      <td>7.7</td>\n",
       "      <td>192.0</td>\n",
       "      <td>155.0</td>\n",
       "      <td>0</td>\n",
       "      <td>Adventure,Family,Fantasy</td>\n",
       "      <td>nm0909825</td>\n",
       "      <td>nm0426710</td>\n",
       "    </tr>\n",
       "    <tr>\n",
       "      <th>231</th>\n",
       "      <td>nm0454558,nm0437304</td>\n",
       "      <td>5.6</td>\n",
       "      <td>192.0</td>\n",
       "      <td>100.0</td>\n",
       "      <td>0</td>\n",
       "      <td>Drama,Musical,Romance</td>\n",
       "      <td>nm0064600</td>\n",
       "      <td>nm0522281,nm0656105</td>\n",
       "    </tr>\n",
       "    <tr>\n",
       "      <th>234</th>\n",
       "      <td>nm0800302,nm0280961,nm0301224</td>\n",
       "      <td>7.5</td>\n",
       "      <td>193.0</td>\n",
       "      <td>91.0</td>\n",
       "      <td>0</td>\n",
       "      <td>Crime,Drama</td>\n",
       "      <td>nm0719756</td>\n",
       "      <td>nm0546516</td>\n",
       "    </tr>\n",
       "    <tr>\n",
       "      <th>235</th>\n",
       "      <td>nm0109895,nm0444602,nm0044024</td>\n",
       "      <td>6.2</td>\n",
       "      <td>192.0</td>\n",
       "      <td>110.0</td>\n",
       "      <td>0</td>\n",
       "      <td>Drama,Romance</td>\n",
       "      <td>nm0000033</td>\n",
       "      <td>nm0339504,nm0648565</td>\n",
       "    </tr>\n",
       "  </tbody>\n",
       "</table>\n",
       "</div>"
      ],
      "text/plain": [
       "                            actors  averageRating  decade  runtimeMinutes  \\\n",
       "89   nm0130740,nm0513325,nm0835738            5.7   193.0            66.0   \n",
       "203  nm0001196,nm0250366,nm0067634            7.7   192.0           155.0   \n",
       "231            nm0454558,nm0437304            5.6   192.0           100.0   \n",
       "234  nm0800302,nm0280961,nm0301224            7.5   193.0            91.0   \n",
       "235  nm0109895,nm0444602,nm0044024            6.2   192.0           110.0   \n",
       "\n",
       "     isAdult                    genres  directors              actress  \n",
       "89         0    Crime,Mystery,Thriller  nm0000033            nm0340514  \n",
       "203        0  Adventure,Family,Fantasy  nm0909825            nm0426710  \n",
       "231        0     Drama,Musical,Romance  nm0064600  nm0522281,nm0656105  \n",
       "234        0               Crime,Drama  nm0719756            nm0546516  \n",
       "235        0             Drama,Romance  nm0000033  nm0339504,nm0648565  "
      ]
     },
     "execution_count": 12,
     "metadata": {},
     "output_type": "execute_result"
    }
   ],
   "source": [
    "df_3000.head()"
   ]
  },
  {
   "cell_type": "code",
   "execution_count": 13,
   "metadata": {},
   "outputs": [
    {
     "data": {
      "text/plain": [
       "(17570, 8)"
      ]
     },
     "execution_count": 13,
     "metadata": {},
     "output_type": "execute_result"
    }
   ],
   "source": [
    "df_3000.dropna(inplace = True)\n",
    "df_3000.shape"
   ]
  },
  {
   "cell_type": "code",
   "execution_count": 14,
   "metadata": {},
   "outputs": [],
   "source": [
    "# Numerical variables\n",
    "column_num = ['decade', 'runtimeMinutes', \"isAdult\"]\n",
    "transfo_num = Pipeline(steps=[\n",
    "    ('scaling', RobustScaler())\n",
    "])"
   ]
  },
  {
   "cell_type": "code",
   "execution_count": 15,
   "metadata": {},
   "outputs": [],
   "source": [
    "# Categorical variables\n",
    "column_tex1 = 'genres'\n",
    "column_tex2 = 'actors'\n",
    "column_tex3 = 'actress'\n",
    "column_tex4 = 'directors'\n",
    "\n",
    "transfo_tex = Pipeline(steps=[\n",
    "    ('countvec', CountVectorizer(tokenizer=lambda x: x.split(',')))\n",
    " \n",
    "    ])"
   ]
  },
  {
   "cell_type": "code",
   "execution_count": 16,
   "metadata": {},
   "outputs": [],
   "source": [
    "# Class ColumnTransformer : apply alls steps on the whole dataset\n",
    "preparation = ColumnTransformer(\n",
    "    transformers=[\n",
    "        ('data_tex1', transfo_tex , column_tex1),\n",
    "        ('data_tex2', transfo_tex , column_tex2),\n",
    "        ('data_tex3', transfo_tex , column_tex3),\n",
    "        ('data_tex4', transfo_tex , column_tex4),\n",
    "        ('data_num', transfo_num , column_num)\n",
    "    ])"
   ]
  },
  {
   "cell_type": "code",
   "execution_count": 17,
   "metadata": {},
   "outputs": [
    {
     "data": {
      "text/html": [
       "<style>#sk-container-id-1 {color: black;background-color: white;}#sk-container-id-1 pre{padding: 0;}#sk-container-id-1 div.sk-toggleable {background-color: white;}#sk-container-id-1 label.sk-toggleable__label {cursor: pointer;display: block;width: 100%;margin-bottom: 0;padding: 0.3em;box-sizing: border-box;text-align: center;}#sk-container-id-1 label.sk-toggleable__label-arrow:before {content: \"▸\";float: left;margin-right: 0.25em;color: #696969;}#sk-container-id-1 label.sk-toggleable__label-arrow:hover:before {color: black;}#sk-container-id-1 div.sk-estimator:hover label.sk-toggleable__label-arrow:before {color: black;}#sk-container-id-1 div.sk-toggleable__content {max-height: 0;max-width: 0;overflow: hidden;text-align: left;background-color: #f0f8ff;}#sk-container-id-1 div.sk-toggleable__content pre {margin: 0.2em;color: black;border-radius: 0.25em;background-color: #f0f8ff;}#sk-container-id-1 input.sk-toggleable__control:checked~div.sk-toggleable__content {max-height: 200px;max-width: 100%;overflow: auto;}#sk-container-id-1 input.sk-toggleable__control:checked~label.sk-toggleable__label-arrow:before {content: \"▾\";}#sk-container-id-1 div.sk-estimator input.sk-toggleable__control:checked~label.sk-toggleable__label {background-color: #d4ebff;}#sk-container-id-1 div.sk-label input.sk-toggleable__control:checked~label.sk-toggleable__label {background-color: #d4ebff;}#sk-container-id-1 input.sk-hidden--visually {border: 0;clip: rect(1px 1px 1px 1px);clip: rect(1px, 1px, 1px, 1px);height: 1px;margin: -1px;overflow: hidden;padding: 0;position: absolute;width: 1px;}#sk-container-id-1 div.sk-estimator {font-family: monospace;background-color: #f0f8ff;border: 1px dotted black;border-radius: 0.25em;box-sizing: border-box;margin-bottom: 0.5em;}#sk-container-id-1 div.sk-estimator:hover {background-color: #d4ebff;}#sk-container-id-1 div.sk-parallel-item::after {content: \"\";width: 100%;border-bottom: 1px solid gray;flex-grow: 1;}#sk-container-id-1 div.sk-label:hover label.sk-toggleable__label {background-color: #d4ebff;}#sk-container-id-1 div.sk-serial::before {content: \"\";position: absolute;border-left: 1px solid gray;box-sizing: border-box;top: 0;bottom: 0;left: 50%;z-index: 0;}#sk-container-id-1 div.sk-serial {display: flex;flex-direction: column;align-items: center;background-color: white;padding-right: 0.2em;padding-left: 0.2em;position: relative;}#sk-container-id-1 div.sk-item {position: relative;z-index: 1;}#sk-container-id-1 div.sk-parallel {display: flex;align-items: stretch;justify-content: center;background-color: white;position: relative;}#sk-container-id-1 div.sk-item::before, #sk-container-id-1 div.sk-parallel-item::before {content: \"\";position: absolute;border-left: 1px solid gray;box-sizing: border-box;top: 0;bottom: 0;left: 50%;z-index: -1;}#sk-container-id-1 div.sk-parallel-item {display: flex;flex-direction: column;z-index: 1;position: relative;background-color: white;}#sk-container-id-1 div.sk-parallel-item:first-child::after {align-self: flex-end;width: 50%;}#sk-container-id-1 div.sk-parallel-item:last-child::after {align-self: flex-start;width: 50%;}#sk-container-id-1 div.sk-parallel-item:only-child::after {width: 0;}#sk-container-id-1 div.sk-dashed-wrapped {border: 1px dashed gray;margin: 0 0.4em 0.5em 0.4em;box-sizing: border-box;padding-bottom: 0.4em;background-color: white;}#sk-container-id-1 div.sk-label label {font-family: monospace;font-weight: bold;display: inline-block;line-height: 1.2em;}#sk-container-id-1 div.sk-label-container {text-align: center;}#sk-container-id-1 div.sk-container {/* jupyter's `normalize.less` sets `[hidden] { display: none; }` but bootstrap.min.css set `[hidden] { display: none !important; }` so we also need the `!important` here to be able to override the default hidden behavior on the sphinx rendered scikit-learn.org. See: https://github.com/scikit-learn/scikit-learn/issues/21755 */display: inline-block !important;position: relative;}#sk-container-id-1 div.sk-text-repr-fallback {display: none;}</style><div id=\"sk-container-id-1\" class=\"sk-top-container\"><div class=\"sk-text-repr-fallback\"><pre>ColumnTransformer(transformers=[(&#x27;data_tex1&#x27;,\n",
       "                                 Pipeline(steps=[(&#x27;countvec&#x27;,\n",
       "                                                  CountVectorizer(tokenizer=&lt;function &lt;lambda&gt; at 0x7f14b402b8b0&gt;))]),\n",
       "                                 &#x27;genres&#x27;),\n",
       "                                (&#x27;data_tex2&#x27;,\n",
       "                                 Pipeline(steps=[(&#x27;countvec&#x27;,\n",
       "                                                  CountVectorizer(tokenizer=&lt;function &lt;lambda&gt; at 0x7f14b402b8b0&gt;))]),\n",
       "                                 &#x27;actors&#x27;),\n",
       "                                (&#x27;data_tex3&#x27;,\n",
       "                                 Pipeline(steps=[(&#x27;countvec&#x27;,\n",
       "                                                  CountVectorizer(tokenizer=&lt;function &lt;lambda&gt; at 0x7f14b402b8b0&gt;))]),\n",
       "                                 &#x27;actress&#x27;),\n",
       "                                (&#x27;data_tex4&#x27;,\n",
       "                                 Pipeline(steps=[(&#x27;countvec&#x27;,\n",
       "                                                  CountVectorizer(tokenizer=&lt;function &lt;lambda&gt; at 0x7f14b402b8b0&gt;))]),\n",
       "                                 &#x27;directors&#x27;),\n",
       "                                (&#x27;data_num&#x27;,\n",
       "                                 Pipeline(steps=[(&#x27;scaling&#x27;, RobustScaler())]),\n",
       "                                 [&#x27;decade&#x27;, &#x27;runtimeMinutes&#x27;, &#x27;isAdult&#x27;])])</pre><b>In a Jupyter environment, please rerun this cell to show the HTML representation or trust the notebook. <br />On GitHub, the HTML representation is unable to render, please try loading this page with nbviewer.org.</b></div><div class=\"sk-container\" hidden><div class=\"sk-item sk-dashed-wrapped\"><div class=\"sk-label-container\"><div class=\"sk-label sk-toggleable\"><input class=\"sk-toggleable__control sk-hidden--visually\" id=\"sk-estimator-id-1\" type=\"checkbox\" ><label for=\"sk-estimator-id-1\" class=\"sk-toggleable__label sk-toggleable__label-arrow\">ColumnTransformer</label><div class=\"sk-toggleable__content\"><pre>ColumnTransformer(transformers=[(&#x27;data_tex1&#x27;,\n",
       "                                 Pipeline(steps=[(&#x27;countvec&#x27;,\n",
       "                                                  CountVectorizer(tokenizer=&lt;function &lt;lambda&gt; at 0x7f14b402b8b0&gt;))]),\n",
       "                                 &#x27;genres&#x27;),\n",
       "                                (&#x27;data_tex2&#x27;,\n",
       "                                 Pipeline(steps=[(&#x27;countvec&#x27;,\n",
       "                                                  CountVectorizer(tokenizer=&lt;function &lt;lambda&gt; at 0x7f14b402b8b0&gt;))]),\n",
       "                                 &#x27;actors&#x27;),\n",
       "                                (&#x27;data_tex3&#x27;,\n",
       "                                 Pipeline(steps=[(&#x27;countvec&#x27;,\n",
       "                                                  CountVectorizer(tokenizer=&lt;function &lt;lambda&gt; at 0x7f14b402b8b0&gt;))]),\n",
       "                                 &#x27;actress&#x27;),\n",
       "                                (&#x27;data_tex4&#x27;,\n",
       "                                 Pipeline(steps=[(&#x27;countvec&#x27;,\n",
       "                                                  CountVectorizer(tokenizer=&lt;function &lt;lambda&gt; at 0x7f14b402b8b0&gt;))]),\n",
       "                                 &#x27;directors&#x27;),\n",
       "                                (&#x27;data_num&#x27;,\n",
       "                                 Pipeline(steps=[(&#x27;scaling&#x27;, RobustScaler())]),\n",
       "                                 [&#x27;decade&#x27;, &#x27;runtimeMinutes&#x27;, &#x27;isAdult&#x27;])])</pre></div></div></div><div class=\"sk-parallel\"><div class=\"sk-parallel-item\"><div class=\"sk-item\"><div class=\"sk-label-container\"><div class=\"sk-label sk-toggleable\"><input class=\"sk-toggleable__control sk-hidden--visually\" id=\"sk-estimator-id-2\" type=\"checkbox\" ><label for=\"sk-estimator-id-2\" class=\"sk-toggleable__label sk-toggleable__label-arrow\">data_tex1</label><div class=\"sk-toggleable__content\"><pre>genres</pre></div></div></div><div class=\"sk-serial\"><div class=\"sk-item\"><div class=\"sk-serial\"><div class=\"sk-item\"><div class=\"sk-estimator sk-toggleable\"><input class=\"sk-toggleable__control sk-hidden--visually\" id=\"sk-estimator-id-3\" type=\"checkbox\" ><label for=\"sk-estimator-id-3\" class=\"sk-toggleable__label sk-toggleable__label-arrow\">CountVectorizer</label><div class=\"sk-toggleable__content\"><pre>CountVectorizer(tokenizer=&lt;function &lt;lambda&gt; at 0x7f14b402b8b0&gt;)</pre></div></div></div></div></div></div></div></div><div class=\"sk-parallel-item\"><div class=\"sk-item\"><div class=\"sk-label-container\"><div class=\"sk-label sk-toggleable\"><input class=\"sk-toggleable__control sk-hidden--visually\" id=\"sk-estimator-id-4\" type=\"checkbox\" ><label for=\"sk-estimator-id-4\" class=\"sk-toggleable__label sk-toggleable__label-arrow\">data_tex2</label><div class=\"sk-toggleable__content\"><pre>actors</pre></div></div></div><div class=\"sk-serial\"><div class=\"sk-item\"><div class=\"sk-serial\"><div class=\"sk-item\"><div class=\"sk-estimator sk-toggleable\"><input class=\"sk-toggleable__control sk-hidden--visually\" id=\"sk-estimator-id-5\" type=\"checkbox\" ><label for=\"sk-estimator-id-5\" class=\"sk-toggleable__label sk-toggleable__label-arrow\">CountVectorizer</label><div class=\"sk-toggleable__content\"><pre>CountVectorizer(tokenizer=&lt;function &lt;lambda&gt; at 0x7f14b402b8b0&gt;)</pre></div></div></div></div></div></div></div></div><div class=\"sk-parallel-item\"><div class=\"sk-item\"><div class=\"sk-label-container\"><div class=\"sk-label sk-toggleable\"><input class=\"sk-toggleable__control sk-hidden--visually\" id=\"sk-estimator-id-6\" type=\"checkbox\" ><label for=\"sk-estimator-id-6\" class=\"sk-toggleable__label sk-toggleable__label-arrow\">data_tex3</label><div class=\"sk-toggleable__content\"><pre>actress</pre></div></div></div><div class=\"sk-serial\"><div class=\"sk-item\"><div class=\"sk-serial\"><div class=\"sk-item\"><div class=\"sk-estimator sk-toggleable\"><input class=\"sk-toggleable__control sk-hidden--visually\" id=\"sk-estimator-id-7\" type=\"checkbox\" ><label for=\"sk-estimator-id-7\" class=\"sk-toggleable__label sk-toggleable__label-arrow\">CountVectorizer</label><div class=\"sk-toggleable__content\"><pre>CountVectorizer(tokenizer=&lt;function &lt;lambda&gt; at 0x7f14b402b8b0&gt;)</pre></div></div></div></div></div></div></div></div><div class=\"sk-parallel-item\"><div class=\"sk-item\"><div class=\"sk-label-container\"><div class=\"sk-label sk-toggleable\"><input class=\"sk-toggleable__control sk-hidden--visually\" id=\"sk-estimator-id-8\" type=\"checkbox\" ><label for=\"sk-estimator-id-8\" class=\"sk-toggleable__label sk-toggleable__label-arrow\">data_tex4</label><div class=\"sk-toggleable__content\"><pre>directors</pre></div></div></div><div class=\"sk-serial\"><div class=\"sk-item\"><div class=\"sk-serial\"><div class=\"sk-item\"><div class=\"sk-estimator sk-toggleable\"><input class=\"sk-toggleable__control sk-hidden--visually\" id=\"sk-estimator-id-9\" type=\"checkbox\" ><label for=\"sk-estimator-id-9\" class=\"sk-toggleable__label sk-toggleable__label-arrow\">CountVectorizer</label><div class=\"sk-toggleable__content\"><pre>CountVectorizer(tokenizer=&lt;function &lt;lambda&gt; at 0x7f14b402b8b0&gt;)</pre></div></div></div></div></div></div></div></div><div class=\"sk-parallel-item\"><div class=\"sk-item\"><div class=\"sk-label-container\"><div class=\"sk-label sk-toggleable\"><input class=\"sk-toggleable__control sk-hidden--visually\" id=\"sk-estimator-id-10\" type=\"checkbox\" ><label for=\"sk-estimator-id-10\" class=\"sk-toggleable__label sk-toggleable__label-arrow\">data_num</label><div class=\"sk-toggleable__content\"><pre>[&#x27;decade&#x27;, &#x27;runtimeMinutes&#x27;, &#x27;isAdult&#x27;]</pre></div></div></div><div class=\"sk-serial\"><div class=\"sk-item\"><div class=\"sk-serial\"><div class=\"sk-item\"><div class=\"sk-estimator sk-toggleable\"><input class=\"sk-toggleable__control sk-hidden--visually\" id=\"sk-estimator-id-11\" type=\"checkbox\" ><label for=\"sk-estimator-id-11\" class=\"sk-toggleable__label sk-toggleable__label-arrow\">RobustScaler</label><div class=\"sk-toggleable__content\"><pre>RobustScaler()</pre></div></div></div></div></div></div></div></div></div></div></div></div>"
      ],
      "text/plain": [
       "ColumnTransformer(transformers=[('data_tex1',\n",
       "                                 Pipeline(steps=[('countvec',\n",
       "                                                  CountVectorizer(tokenizer=<function <lambda> at 0x7f14b402b8b0>))]),\n",
       "                                 'genres'),\n",
       "                                ('data_tex2',\n",
       "                                 Pipeline(steps=[('countvec',\n",
       "                                                  CountVectorizer(tokenizer=<function <lambda> at 0x7f14b402b8b0>))]),\n",
       "                                 'actors'),\n",
       "                                ('data_tex3',\n",
       "                                 Pipeline(steps=[('countvec',\n",
       "                                                  CountVectorizer(tokenizer=<function <lambda> at 0x7f14b402b8b0>))]),\n",
       "                                 'actress'),\n",
       "                                ('data_tex4',\n",
       "                                 Pipeline(steps=[('countvec',\n",
       "                                                  CountVectorizer(tokenizer=<function <lambda> at 0x7f14b402b8b0>))]),\n",
       "                                 'directors'),\n",
       "                                ('data_num',\n",
       "                                 Pipeline(steps=[('scaling', RobustScaler())]),\n",
       "                                 ['decade', 'runtimeMinutes', 'isAdult'])])"
      ]
     },
     "execution_count": 17,
     "metadata": {},
     "output_type": "execute_result"
    }
   ],
   "source": [
    "# Display diagram\n",
    "set_config(display=\"diagram\")\n",
    "preparation"
   ]
  },
  {
   "cell_type": "code",
   "execution_count": 18,
   "metadata": {},
   "outputs": [
    {
     "data": {
      "text/html": [
       "<style>#sk-container-id-2 {color: black;background-color: white;}#sk-container-id-2 pre{padding: 0;}#sk-container-id-2 div.sk-toggleable {background-color: white;}#sk-container-id-2 label.sk-toggleable__label {cursor: pointer;display: block;width: 100%;margin-bottom: 0;padding: 0.3em;box-sizing: border-box;text-align: center;}#sk-container-id-2 label.sk-toggleable__label-arrow:before {content: \"▸\";float: left;margin-right: 0.25em;color: #696969;}#sk-container-id-2 label.sk-toggleable__label-arrow:hover:before {color: black;}#sk-container-id-2 div.sk-estimator:hover label.sk-toggleable__label-arrow:before {color: black;}#sk-container-id-2 div.sk-toggleable__content {max-height: 0;max-width: 0;overflow: hidden;text-align: left;background-color: #f0f8ff;}#sk-container-id-2 div.sk-toggleable__content pre {margin: 0.2em;color: black;border-radius: 0.25em;background-color: #f0f8ff;}#sk-container-id-2 input.sk-toggleable__control:checked~div.sk-toggleable__content {max-height: 200px;max-width: 100%;overflow: auto;}#sk-container-id-2 input.sk-toggleable__control:checked~label.sk-toggleable__label-arrow:before {content: \"▾\";}#sk-container-id-2 div.sk-estimator input.sk-toggleable__control:checked~label.sk-toggleable__label {background-color: #d4ebff;}#sk-container-id-2 div.sk-label input.sk-toggleable__control:checked~label.sk-toggleable__label {background-color: #d4ebff;}#sk-container-id-2 input.sk-hidden--visually {border: 0;clip: rect(1px 1px 1px 1px);clip: rect(1px, 1px, 1px, 1px);height: 1px;margin: -1px;overflow: hidden;padding: 0;position: absolute;width: 1px;}#sk-container-id-2 div.sk-estimator {font-family: monospace;background-color: #f0f8ff;border: 1px dotted black;border-radius: 0.25em;box-sizing: border-box;margin-bottom: 0.5em;}#sk-container-id-2 div.sk-estimator:hover {background-color: #d4ebff;}#sk-container-id-2 div.sk-parallel-item::after {content: \"\";width: 100%;border-bottom: 1px solid gray;flex-grow: 1;}#sk-container-id-2 div.sk-label:hover label.sk-toggleable__label {background-color: #d4ebff;}#sk-container-id-2 div.sk-serial::before {content: \"\";position: absolute;border-left: 1px solid gray;box-sizing: border-box;top: 0;bottom: 0;left: 50%;z-index: 0;}#sk-container-id-2 div.sk-serial {display: flex;flex-direction: column;align-items: center;background-color: white;padding-right: 0.2em;padding-left: 0.2em;position: relative;}#sk-container-id-2 div.sk-item {position: relative;z-index: 1;}#sk-container-id-2 div.sk-parallel {display: flex;align-items: stretch;justify-content: center;background-color: white;position: relative;}#sk-container-id-2 div.sk-item::before, #sk-container-id-2 div.sk-parallel-item::before {content: \"\";position: absolute;border-left: 1px solid gray;box-sizing: border-box;top: 0;bottom: 0;left: 50%;z-index: -1;}#sk-container-id-2 div.sk-parallel-item {display: flex;flex-direction: column;z-index: 1;position: relative;background-color: white;}#sk-container-id-2 div.sk-parallel-item:first-child::after {align-self: flex-end;width: 50%;}#sk-container-id-2 div.sk-parallel-item:last-child::after {align-self: flex-start;width: 50%;}#sk-container-id-2 div.sk-parallel-item:only-child::after {width: 0;}#sk-container-id-2 div.sk-dashed-wrapped {border: 1px dashed gray;margin: 0 0.4em 0.5em 0.4em;box-sizing: border-box;padding-bottom: 0.4em;background-color: white;}#sk-container-id-2 div.sk-label label {font-family: monospace;font-weight: bold;display: inline-block;line-height: 1.2em;}#sk-container-id-2 div.sk-label-container {text-align: center;}#sk-container-id-2 div.sk-container {/* jupyter's `normalize.less` sets `[hidden] { display: none; }` but bootstrap.min.css set `[hidden] { display: none !important; }` so we also need the `!important` here to be able to override the default hidden behavior on the sphinx rendered scikit-learn.org. See: https://github.com/scikit-learn/scikit-learn/issues/21755 */display: inline-block !important;position: relative;}#sk-container-id-2 div.sk-text-repr-fallback {display: none;}</style><div id=\"sk-container-id-2\" class=\"sk-top-container\"><div class=\"sk-text-repr-fallback\"><pre>Pipeline(steps=[(&#x27;preparation&#x27;,\n",
       "                 ColumnTransformer(transformers=[(&#x27;data_tex1&#x27;,\n",
       "                                                  Pipeline(steps=[(&#x27;countvec&#x27;,\n",
       "                                                                   CountVectorizer(tokenizer=&lt;function &lt;lambda&gt; at 0x7f14b402b8b0&gt;))]),\n",
       "                                                  &#x27;genres&#x27;),\n",
       "                                                 (&#x27;data_tex2&#x27;,\n",
       "                                                  Pipeline(steps=[(&#x27;countvec&#x27;,\n",
       "                                                                   CountVectorizer(tokenizer=&lt;function &lt;lambda&gt; at 0x7f14b402b8b0&gt;))]),\n",
       "                                                  &#x27;actors&#x27;),\n",
       "                                                 (&#x27;data_tex3&#x27;,\n",
       "                                                  Pipeline(steps=[(&#x27;countvec&#x27;,\n",
       "                                                                   CountVectorizer(tokenizer=&lt;function &lt;lambda&gt; at 0x7f14b402b8b0&gt;))]),\n",
       "                                                  &#x27;actress&#x27;),\n",
       "                                                 (&#x27;data_tex4&#x27;,\n",
       "                                                  Pipeline(steps=[(&#x27;countvec&#x27;,\n",
       "                                                                   CountVectorizer(tokenizer=&lt;function &lt;lambda&gt; at 0x7f14b402b8b0&gt;))]),\n",
       "                                                  &#x27;directors&#x27;),\n",
       "                                                 (&#x27;data_num&#x27;,\n",
       "                                                  Pipeline(steps=[(&#x27;scaling&#x27;,\n",
       "                                                                   RobustScaler())]),\n",
       "                                                  [&#x27;decade&#x27;, &#x27;runtimeMinutes&#x27;,\n",
       "                                                   &#x27;isAdult&#x27;])])),\n",
       "                (&#x27;model&#x27;, GradientBoostingRegressor())])</pre><b>In a Jupyter environment, please rerun this cell to show the HTML representation or trust the notebook. <br />On GitHub, the HTML representation is unable to render, please try loading this page with nbviewer.org.</b></div><div class=\"sk-container\" hidden><div class=\"sk-item sk-dashed-wrapped\"><div class=\"sk-label-container\"><div class=\"sk-label sk-toggleable\"><input class=\"sk-toggleable__control sk-hidden--visually\" id=\"sk-estimator-id-12\" type=\"checkbox\" ><label for=\"sk-estimator-id-12\" class=\"sk-toggleable__label sk-toggleable__label-arrow\">Pipeline</label><div class=\"sk-toggleable__content\"><pre>Pipeline(steps=[(&#x27;preparation&#x27;,\n",
       "                 ColumnTransformer(transformers=[(&#x27;data_tex1&#x27;,\n",
       "                                                  Pipeline(steps=[(&#x27;countvec&#x27;,\n",
       "                                                                   CountVectorizer(tokenizer=&lt;function &lt;lambda&gt; at 0x7f14b402b8b0&gt;))]),\n",
       "                                                  &#x27;genres&#x27;),\n",
       "                                                 (&#x27;data_tex2&#x27;,\n",
       "                                                  Pipeline(steps=[(&#x27;countvec&#x27;,\n",
       "                                                                   CountVectorizer(tokenizer=&lt;function &lt;lambda&gt; at 0x7f14b402b8b0&gt;))]),\n",
       "                                                  &#x27;actors&#x27;),\n",
       "                                                 (&#x27;data_tex3&#x27;,\n",
       "                                                  Pipeline(steps=[(&#x27;countvec&#x27;,\n",
       "                                                                   CountVectorizer(tokenizer=&lt;function &lt;lambda&gt; at 0x7f14b402b8b0&gt;))]),\n",
       "                                                  &#x27;actress&#x27;),\n",
       "                                                 (&#x27;data_tex4&#x27;,\n",
       "                                                  Pipeline(steps=[(&#x27;countvec&#x27;,\n",
       "                                                                   CountVectorizer(tokenizer=&lt;function &lt;lambda&gt; at 0x7f14b402b8b0&gt;))]),\n",
       "                                                  &#x27;directors&#x27;),\n",
       "                                                 (&#x27;data_num&#x27;,\n",
       "                                                  Pipeline(steps=[(&#x27;scaling&#x27;,\n",
       "                                                                   RobustScaler())]),\n",
       "                                                  [&#x27;decade&#x27;, &#x27;runtimeMinutes&#x27;,\n",
       "                                                   &#x27;isAdult&#x27;])])),\n",
       "                (&#x27;model&#x27;, GradientBoostingRegressor())])</pre></div></div></div><div class=\"sk-serial\"><div class=\"sk-item sk-dashed-wrapped\"><div class=\"sk-label-container\"><div class=\"sk-label sk-toggleable\"><input class=\"sk-toggleable__control sk-hidden--visually\" id=\"sk-estimator-id-13\" type=\"checkbox\" ><label for=\"sk-estimator-id-13\" class=\"sk-toggleable__label sk-toggleable__label-arrow\">preparation: ColumnTransformer</label><div class=\"sk-toggleable__content\"><pre>ColumnTransformer(transformers=[(&#x27;data_tex1&#x27;,\n",
       "                                 Pipeline(steps=[(&#x27;countvec&#x27;,\n",
       "                                                  CountVectorizer(tokenizer=&lt;function &lt;lambda&gt; at 0x7f14b402b8b0&gt;))]),\n",
       "                                 &#x27;genres&#x27;),\n",
       "                                (&#x27;data_tex2&#x27;,\n",
       "                                 Pipeline(steps=[(&#x27;countvec&#x27;,\n",
       "                                                  CountVectorizer(tokenizer=&lt;function &lt;lambda&gt; at 0x7f14b402b8b0&gt;))]),\n",
       "                                 &#x27;actors&#x27;),\n",
       "                                (&#x27;data_tex3&#x27;,\n",
       "                                 Pipeline(steps=[(&#x27;countvec&#x27;,\n",
       "                                                  CountVectorizer(tokenizer=&lt;function &lt;lambda&gt; at 0x7f14b402b8b0&gt;))]),\n",
       "                                 &#x27;actress&#x27;),\n",
       "                                (&#x27;data_tex4&#x27;,\n",
       "                                 Pipeline(steps=[(&#x27;countvec&#x27;,\n",
       "                                                  CountVectorizer(tokenizer=&lt;function &lt;lambda&gt; at 0x7f14b402b8b0&gt;))]),\n",
       "                                 &#x27;directors&#x27;),\n",
       "                                (&#x27;data_num&#x27;,\n",
       "                                 Pipeline(steps=[(&#x27;scaling&#x27;, RobustScaler())]),\n",
       "                                 [&#x27;decade&#x27;, &#x27;runtimeMinutes&#x27;, &#x27;isAdult&#x27;])])</pre></div></div></div><div class=\"sk-parallel\"><div class=\"sk-parallel-item\"><div class=\"sk-item\"><div class=\"sk-label-container\"><div class=\"sk-label sk-toggleable\"><input class=\"sk-toggleable__control sk-hidden--visually\" id=\"sk-estimator-id-14\" type=\"checkbox\" ><label for=\"sk-estimator-id-14\" class=\"sk-toggleable__label sk-toggleable__label-arrow\">data_tex1</label><div class=\"sk-toggleable__content\"><pre>genres</pre></div></div></div><div class=\"sk-serial\"><div class=\"sk-item\"><div class=\"sk-serial\"><div class=\"sk-item\"><div class=\"sk-estimator sk-toggleable\"><input class=\"sk-toggleable__control sk-hidden--visually\" id=\"sk-estimator-id-15\" type=\"checkbox\" ><label for=\"sk-estimator-id-15\" class=\"sk-toggleable__label sk-toggleable__label-arrow\">CountVectorizer</label><div class=\"sk-toggleable__content\"><pre>CountVectorizer(tokenizer=&lt;function &lt;lambda&gt; at 0x7f14b402b8b0&gt;)</pre></div></div></div></div></div></div></div></div><div class=\"sk-parallel-item\"><div class=\"sk-item\"><div class=\"sk-label-container\"><div class=\"sk-label sk-toggleable\"><input class=\"sk-toggleable__control sk-hidden--visually\" id=\"sk-estimator-id-16\" type=\"checkbox\" ><label for=\"sk-estimator-id-16\" class=\"sk-toggleable__label sk-toggleable__label-arrow\">data_tex2</label><div class=\"sk-toggleable__content\"><pre>actors</pre></div></div></div><div class=\"sk-serial\"><div class=\"sk-item\"><div class=\"sk-serial\"><div class=\"sk-item\"><div class=\"sk-estimator sk-toggleable\"><input class=\"sk-toggleable__control sk-hidden--visually\" id=\"sk-estimator-id-17\" type=\"checkbox\" ><label for=\"sk-estimator-id-17\" class=\"sk-toggleable__label sk-toggleable__label-arrow\">CountVectorizer</label><div class=\"sk-toggleable__content\"><pre>CountVectorizer(tokenizer=&lt;function &lt;lambda&gt; at 0x7f14b402b8b0&gt;)</pre></div></div></div></div></div></div></div></div><div class=\"sk-parallel-item\"><div class=\"sk-item\"><div class=\"sk-label-container\"><div class=\"sk-label sk-toggleable\"><input class=\"sk-toggleable__control sk-hidden--visually\" id=\"sk-estimator-id-18\" type=\"checkbox\" ><label for=\"sk-estimator-id-18\" class=\"sk-toggleable__label sk-toggleable__label-arrow\">data_tex3</label><div class=\"sk-toggleable__content\"><pre>actress</pre></div></div></div><div class=\"sk-serial\"><div class=\"sk-item\"><div class=\"sk-serial\"><div class=\"sk-item\"><div class=\"sk-estimator sk-toggleable\"><input class=\"sk-toggleable__control sk-hidden--visually\" id=\"sk-estimator-id-19\" type=\"checkbox\" ><label for=\"sk-estimator-id-19\" class=\"sk-toggleable__label sk-toggleable__label-arrow\">CountVectorizer</label><div class=\"sk-toggleable__content\"><pre>CountVectorizer(tokenizer=&lt;function &lt;lambda&gt; at 0x7f14b402b8b0&gt;)</pre></div></div></div></div></div></div></div></div><div class=\"sk-parallel-item\"><div class=\"sk-item\"><div class=\"sk-label-container\"><div class=\"sk-label sk-toggleable\"><input class=\"sk-toggleable__control sk-hidden--visually\" id=\"sk-estimator-id-20\" type=\"checkbox\" ><label for=\"sk-estimator-id-20\" class=\"sk-toggleable__label sk-toggleable__label-arrow\">data_tex4</label><div class=\"sk-toggleable__content\"><pre>directors</pre></div></div></div><div class=\"sk-serial\"><div class=\"sk-item\"><div class=\"sk-serial\"><div class=\"sk-item\"><div class=\"sk-estimator sk-toggleable\"><input class=\"sk-toggleable__control sk-hidden--visually\" id=\"sk-estimator-id-21\" type=\"checkbox\" ><label for=\"sk-estimator-id-21\" class=\"sk-toggleable__label sk-toggleable__label-arrow\">CountVectorizer</label><div class=\"sk-toggleable__content\"><pre>CountVectorizer(tokenizer=&lt;function &lt;lambda&gt; at 0x7f14b402b8b0&gt;)</pre></div></div></div></div></div></div></div></div><div class=\"sk-parallel-item\"><div class=\"sk-item\"><div class=\"sk-label-container\"><div class=\"sk-label sk-toggleable\"><input class=\"sk-toggleable__control sk-hidden--visually\" id=\"sk-estimator-id-22\" type=\"checkbox\" ><label for=\"sk-estimator-id-22\" class=\"sk-toggleable__label sk-toggleable__label-arrow\">data_num</label><div class=\"sk-toggleable__content\"><pre>[&#x27;decade&#x27;, &#x27;runtimeMinutes&#x27;, &#x27;isAdult&#x27;]</pre></div></div></div><div class=\"sk-serial\"><div class=\"sk-item\"><div class=\"sk-serial\"><div class=\"sk-item\"><div class=\"sk-estimator sk-toggleable\"><input class=\"sk-toggleable__control sk-hidden--visually\" id=\"sk-estimator-id-23\" type=\"checkbox\" ><label for=\"sk-estimator-id-23\" class=\"sk-toggleable__label sk-toggleable__label-arrow\">RobustScaler</label><div class=\"sk-toggleable__content\"><pre>RobustScaler()</pre></div></div></div></div></div></div></div></div></div></div><div class=\"sk-item\"><div class=\"sk-estimator sk-toggleable\"><input class=\"sk-toggleable__control sk-hidden--visually\" id=\"sk-estimator-id-24\" type=\"checkbox\" ><label for=\"sk-estimator-id-24\" class=\"sk-toggleable__label sk-toggleable__label-arrow\">GradientBoostingRegressor</label><div class=\"sk-toggleable__content\"><pre>GradientBoostingRegressor()</pre></div></div></div></div></div></div></div>"
      ],
      "text/plain": [
       "Pipeline(steps=[('preparation',\n",
       "                 ColumnTransformer(transformers=[('data_tex1',\n",
       "                                                  Pipeline(steps=[('countvec',\n",
       "                                                                   CountVectorizer(tokenizer=<function <lambda> at 0x7f14b402b8b0>))]),\n",
       "                                                  'genres'),\n",
       "                                                 ('data_tex2',\n",
       "                                                  Pipeline(steps=[('countvec',\n",
       "                                                                   CountVectorizer(tokenizer=<function <lambda> at 0x7f14b402b8b0>))]),\n",
       "                                                  'actors'),\n",
       "                                                 ('data_tex3',\n",
       "                                                  Pipeline(steps=[('countvec',\n",
       "                                                                   CountVectorizer(tokenizer=<function <lambda> at 0x7f14b402b8b0>))]),\n",
       "                                                  'actress'),\n",
       "                                                 ('data_tex4',\n",
       "                                                  Pipeline(steps=[('countvec',\n",
       "                                                                   CountVectorizer(tokenizer=<function <lambda> at 0x7f14b402b8b0>))]),\n",
       "                                                  'directors'),\n",
       "                                                 ('data_num',\n",
       "                                                  Pipeline(steps=[('scaling',\n",
       "                                                                   RobustScaler())]),\n",
       "                                                  ['decade', 'runtimeMinutes',\n",
       "                                                   'isAdult'])])),\n",
       "                ('model', GradientBoostingRegressor())])"
      ]
     },
     "execution_count": 18,
     "metadata": {},
     "output_type": "execute_result"
    }
   ],
   "source": [
    "pipe = Pipeline(steps=[('preparation', preparation),\n",
    "                        ('model', GradientBoostingRegressor())])\n",
    "pipe"
   ]
  },
  {
   "cell_type": "code",
   "execution_count": 19,
   "metadata": {},
   "outputs": [],
   "source": [
    "# Declare model and parameter for Grid Search\n",
    "parameters = {'model__n_estimators': range(140, 150, 10), 'model__max_depth': range(6,7)}"
   ]
  },
  {
   "cell_type": "code",
   "execution_count": 20,
   "metadata": {},
   "outputs": [],
   "source": [
    "# Declare the Grid Search method\n",
    "grid = GridSearchCV(pipe, parameters, scoring='r2', cv = 5, n_jobs =-1, verbose = 1)"
   ]
  },
  {
   "cell_type": "code",
   "execution_count": 21,
   "metadata": {},
   "outputs": [],
   "source": [
    "# Fit the model\n",
    "y = df_3000['averageRating']\n",
    "X = df_3000.drop(columns='averageRating')\n",
    "X_train, X_test, y_train, y_test = train_test_split(X, y, test_size=0.2, random_state=0)"
   ]
  },
  {
   "cell_type": "code",
   "execution_count": 22,
   "metadata": {},
   "outputs": [
    {
     "name": "stdout",
     "output_type": "stream",
     "text": [
      "Fitting 5 folds for each of 1 candidates, totalling 5 fits\n"
     ]
    },
    {
     "name": "stderr",
     "output_type": "stream",
     "text": [
      "/home/dakoro/anaconda3/envs/Netfloox/lib/python3.9/site-packages/sklearn/feature_extraction/text.py:528: UserWarning: The parameter 'token_pattern' will not be used since 'tokenizer' is not None'\n",
      "  warnings.warn(\n",
      "/home/dakoro/anaconda3/envs/Netfloox/lib/python3.9/site-packages/sklearn/feature_extraction/text.py:528: UserWarning: The parameter 'token_pattern' will not be used since 'tokenizer' is not None'\n",
      "  warnings.warn(\n",
      "/home/dakoro/anaconda3/envs/Netfloox/lib/python3.9/site-packages/sklearn/feature_extraction/text.py:528: UserWarning: The parameter 'token_pattern' will not be used since 'tokenizer' is not None'\n",
      "  warnings.warn(\n",
      "/home/dakoro/anaconda3/envs/Netfloox/lib/python3.9/site-packages/sklearn/feature_extraction/text.py:528: UserWarning: The parameter 'token_pattern' will not be used since 'tokenizer' is not None'\n",
      "  warnings.warn(\n",
      "/home/dakoro/anaconda3/envs/Netfloox/lib/python3.9/site-packages/sklearn/feature_extraction/text.py:528: UserWarning: The parameter 'token_pattern' will not be used since 'tokenizer' is not None'\n",
      "  warnings.warn(\n"
     ]
    },
    {
     "ename": "KeyboardInterrupt",
     "evalue": "",
     "output_type": "error",
     "traceback": [
      "\u001b[0;31m---------------------------------------------------------------------------\u001b[0m",
      "\u001b[0;31mKeyboardInterrupt\u001b[0m                         Traceback (most recent call last)",
      "Cell \u001b[0;32mIn[22], line 1\u001b[0m\n\u001b[0;32m----> 1\u001b[0m grid\u001b[39m.\u001b[39;49mfit(X_train, y_train)\n",
      "File \u001b[0;32m~/anaconda3/envs/Netfloox/lib/python3.9/site-packages/sklearn/model_selection/_search.py:875\u001b[0m, in \u001b[0;36mBaseSearchCV.fit\u001b[0;34m(self, X, y, groups, **fit_params)\u001b[0m\n\u001b[1;32m    869\u001b[0m     results \u001b[39m=\u001b[39m \u001b[39mself\u001b[39m\u001b[39m.\u001b[39m_format_results(\n\u001b[1;32m    870\u001b[0m         all_candidate_params, n_splits, all_out, all_more_results\n\u001b[1;32m    871\u001b[0m     )\n\u001b[1;32m    873\u001b[0m     \u001b[39mreturn\u001b[39;00m results\n\u001b[0;32m--> 875\u001b[0m \u001b[39mself\u001b[39;49m\u001b[39m.\u001b[39;49m_run_search(evaluate_candidates)\n\u001b[1;32m    877\u001b[0m \u001b[39m# multimetric is determined here because in the case of a callable\u001b[39;00m\n\u001b[1;32m    878\u001b[0m \u001b[39m# self.scoring the return type is only known after calling\u001b[39;00m\n\u001b[1;32m    879\u001b[0m first_test_score \u001b[39m=\u001b[39m all_out[\u001b[39m0\u001b[39m][\u001b[39m\"\u001b[39m\u001b[39mtest_scores\u001b[39m\u001b[39m\"\u001b[39m]\n",
      "File \u001b[0;32m~/anaconda3/envs/Netfloox/lib/python3.9/site-packages/sklearn/model_selection/_search.py:1389\u001b[0m, in \u001b[0;36mGridSearchCV._run_search\u001b[0;34m(self, evaluate_candidates)\u001b[0m\n\u001b[1;32m   1387\u001b[0m \u001b[39mdef\u001b[39;00m \u001b[39m_run_search\u001b[39m(\u001b[39mself\u001b[39m, evaluate_candidates):\n\u001b[1;32m   1388\u001b[0m \u001b[39m    \u001b[39m\u001b[39m\"\"\"Search all candidates in param_grid\"\"\"\u001b[39;00m\n\u001b[0;32m-> 1389\u001b[0m     evaluate_candidates(ParameterGrid(\u001b[39mself\u001b[39;49m\u001b[39m.\u001b[39;49mparam_grid))\n",
      "File \u001b[0;32m~/anaconda3/envs/Netfloox/lib/python3.9/site-packages/sklearn/model_selection/_search.py:822\u001b[0m, in \u001b[0;36mBaseSearchCV.fit.<locals>.evaluate_candidates\u001b[0;34m(candidate_params, cv, more_results)\u001b[0m\n\u001b[1;32m    814\u001b[0m \u001b[39mif\u001b[39;00m \u001b[39mself\u001b[39m\u001b[39m.\u001b[39mverbose \u001b[39m>\u001b[39m \u001b[39m0\u001b[39m:\n\u001b[1;32m    815\u001b[0m     \u001b[39mprint\u001b[39m(\n\u001b[1;32m    816\u001b[0m         \u001b[39m\"\u001b[39m\u001b[39mFitting \u001b[39m\u001b[39m{0}\u001b[39;00m\u001b[39m folds for each of \u001b[39m\u001b[39m{1}\u001b[39;00m\u001b[39m candidates,\u001b[39m\u001b[39m\"\u001b[39m\n\u001b[1;32m    817\u001b[0m         \u001b[39m\"\u001b[39m\u001b[39m totalling \u001b[39m\u001b[39m{2}\u001b[39;00m\u001b[39m fits\u001b[39m\u001b[39m\"\u001b[39m\u001b[39m.\u001b[39mformat(\n\u001b[1;32m    818\u001b[0m             n_splits, n_candidates, n_candidates \u001b[39m*\u001b[39m n_splits\n\u001b[1;32m    819\u001b[0m         )\n\u001b[1;32m    820\u001b[0m     )\n\u001b[0;32m--> 822\u001b[0m out \u001b[39m=\u001b[39m parallel(\n\u001b[1;32m    823\u001b[0m     delayed(_fit_and_score)(\n\u001b[1;32m    824\u001b[0m         clone(base_estimator),\n\u001b[1;32m    825\u001b[0m         X,\n\u001b[1;32m    826\u001b[0m         y,\n\u001b[1;32m    827\u001b[0m         train\u001b[39m=\u001b[39;49mtrain,\n\u001b[1;32m    828\u001b[0m         test\u001b[39m=\u001b[39;49mtest,\n\u001b[1;32m    829\u001b[0m         parameters\u001b[39m=\u001b[39;49mparameters,\n\u001b[1;32m    830\u001b[0m         split_progress\u001b[39m=\u001b[39;49m(split_idx, n_splits),\n\u001b[1;32m    831\u001b[0m         candidate_progress\u001b[39m=\u001b[39;49m(cand_idx, n_candidates),\n\u001b[1;32m    832\u001b[0m         \u001b[39m*\u001b[39;49m\u001b[39m*\u001b[39;49mfit_and_score_kwargs,\n\u001b[1;32m    833\u001b[0m     )\n\u001b[1;32m    834\u001b[0m     \u001b[39mfor\u001b[39;49;00m (cand_idx, parameters), (split_idx, (train, test)) \u001b[39min\u001b[39;49;00m product(\n\u001b[1;32m    835\u001b[0m         \u001b[39menumerate\u001b[39;49m(candidate_params), \u001b[39menumerate\u001b[39;49m(cv\u001b[39m.\u001b[39;49msplit(X, y, groups))\n\u001b[1;32m    836\u001b[0m     )\n\u001b[1;32m    837\u001b[0m )\n\u001b[1;32m    839\u001b[0m \u001b[39mif\u001b[39;00m \u001b[39mlen\u001b[39m(out) \u001b[39m<\u001b[39m \u001b[39m1\u001b[39m:\n\u001b[1;32m    840\u001b[0m     \u001b[39mraise\u001b[39;00m \u001b[39mValueError\u001b[39;00m(\n\u001b[1;32m    841\u001b[0m         \u001b[39m\"\u001b[39m\u001b[39mNo fits were performed. \u001b[39m\u001b[39m\"\u001b[39m\n\u001b[1;32m    842\u001b[0m         \u001b[39m\"\u001b[39m\u001b[39mWas the CV iterator empty? \u001b[39m\u001b[39m\"\u001b[39m\n\u001b[1;32m    843\u001b[0m         \u001b[39m\"\u001b[39m\u001b[39mWere there no candidates?\u001b[39m\u001b[39m\"\u001b[39m\n\u001b[1;32m    844\u001b[0m     )\n",
      "File \u001b[0;32m~/anaconda3/envs/Netfloox/lib/python3.9/site-packages/joblib/parallel.py:1061\u001b[0m, in \u001b[0;36mParallel.__call__\u001b[0;34m(self, iterable)\u001b[0m\n\u001b[1;32m   1058\u001b[0m     \u001b[39mself\u001b[39m\u001b[39m.\u001b[39m_iterating \u001b[39m=\u001b[39m \u001b[39mFalse\u001b[39;00m\n\u001b[1;32m   1060\u001b[0m \u001b[39mwith\u001b[39;00m \u001b[39mself\u001b[39m\u001b[39m.\u001b[39m_backend\u001b[39m.\u001b[39mretrieval_context():\n\u001b[0;32m-> 1061\u001b[0m     \u001b[39mself\u001b[39;49m\u001b[39m.\u001b[39;49mretrieve()\n\u001b[1;32m   1062\u001b[0m \u001b[39m# Make sure that we get a last message telling us we are done\u001b[39;00m\n\u001b[1;32m   1063\u001b[0m elapsed_time \u001b[39m=\u001b[39m time\u001b[39m.\u001b[39mtime() \u001b[39m-\u001b[39m \u001b[39mself\u001b[39m\u001b[39m.\u001b[39m_start_time\n",
      "File \u001b[0;32m~/anaconda3/envs/Netfloox/lib/python3.9/site-packages/joblib/parallel.py:938\u001b[0m, in \u001b[0;36mParallel.retrieve\u001b[0;34m(self)\u001b[0m\n\u001b[1;32m    936\u001b[0m \u001b[39mtry\u001b[39;00m:\n\u001b[1;32m    937\u001b[0m     \u001b[39mif\u001b[39;00m \u001b[39mgetattr\u001b[39m(\u001b[39mself\u001b[39m\u001b[39m.\u001b[39m_backend, \u001b[39m'\u001b[39m\u001b[39msupports_timeout\u001b[39m\u001b[39m'\u001b[39m, \u001b[39mFalse\u001b[39;00m):\n\u001b[0;32m--> 938\u001b[0m         \u001b[39mself\u001b[39m\u001b[39m.\u001b[39m_output\u001b[39m.\u001b[39mextend(job\u001b[39m.\u001b[39;49mget(timeout\u001b[39m=\u001b[39;49m\u001b[39mself\u001b[39;49m\u001b[39m.\u001b[39;49mtimeout))\n\u001b[1;32m    939\u001b[0m     \u001b[39melse\u001b[39;00m:\n\u001b[1;32m    940\u001b[0m         \u001b[39mself\u001b[39m\u001b[39m.\u001b[39m_output\u001b[39m.\u001b[39mextend(job\u001b[39m.\u001b[39mget())\n",
      "File \u001b[0;32m~/anaconda3/envs/Netfloox/lib/python3.9/site-packages/joblib/_parallel_backends.py:542\u001b[0m, in \u001b[0;36mLokyBackend.wrap_future_result\u001b[0;34m(future, timeout)\u001b[0m\n\u001b[1;32m    539\u001b[0m \u001b[39m\u001b[39m\u001b[39m\"\"\"Wrapper for Future.result to implement the same behaviour as\u001b[39;00m\n\u001b[1;32m    540\u001b[0m \u001b[39mAsyncResults.get from multiprocessing.\"\"\"\u001b[39;00m\n\u001b[1;32m    541\u001b[0m \u001b[39mtry\u001b[39;00m:\n\u001b[0;32m--> 542\u001b[0m     \u001b[39mreturn\u001b[39;00m future\u001b[39m.\u001b[39;49mresult(timeout\u001b[39m=\u001b[39;49mtimeout)\n\u001b[1;32m    543\u001b[0m \u001b[39mexcept\u001b[39;00m CfTimeoutError \u001b[39mas\u001b[39;00m e:\n\u001b[1;32m    544\u001b[0m     \u001b[39mraise\u001b[39;00m \u001b[39mTimeoutError\u001b[39;00m \u001b[39mfrom\u001b[39;00m \u001b[39me\u001b[39;00m\n",
      "File \u001b[0;32m~/anaconda3/envs/Netfloox/lib/python3.9/concurrent/futures/_base.py:441\u001b[0m, in \u001b[0;36mFuture.result\u001b[0;34m(self, timeout)\u001b[0m\n\u001b[1;32m    438\u001b[0m \u001b[39melif\u001b[39;00m \u001b[39mself\u001b[39m\u001b[39m.\u001b[39m_state \u001b[39m==\u001b[39m FINISHED:\n\u001b[1;32m    439\u001b[0m     \u001b[39mreturn\u001b[39;00m \u001b[39mself\u001b[39m\u001b[39m.\u001b[39m__get_result()\n\u001b[0;32m--> 441\u001b[0m \u001b[39mself\u001b[39;49m\u001b[39m.\u001b[39;49m_condition\u001b[39m.\u001b[39;49mwait(timeout)\n\u001b[1;32m    443\u001b[0m \u001b[39mif\u001b[39;00m \u001b[39mself\u001b[39m\u001b[39m.\u001b[39m_state \u001b[39min\u001b[39;00m [CANCELLED, CANCELLED_AND_NOTIFIED]:\n\u001b[1;32m    444\u001b[0m     \u001b[39mraise\u001b[39;00m CancelledError()\n",
      "File \u001b[0;32m~/anaconda3/envs/Netfloox/lib/python3.9/threading.py:312\u001b[0m, in \u001b[0;36mCondition.wait\u001b[0;34m(self, timeout)\u001b[0m\n\u001b[1;32m    310\u001b[0m \u001b[39mtry\u001b[39;00m:    \u001b[39m# restore state no matter what (e.g., KeyboardInterrupt)\u001b[39;00m\n\u001b[1;32m    311\u001b[0m     \u001b[39mif\u001b[39;00m timeout \u001b[39mis\u001b[39;00m \u001b[39mNone\u001b[39;00m:\n\u001b[0;32m--> 312\u001b[0m         waiter\u001b[39m.\u001b[39;49macquire()\n\u001b[1;32m    313\u001b[0m         gotit \u001b[39m=\u001b[39m \u001b[39mTrue\u001b[39;00m\n\u001b[1;32m    314\u001b[0m     \u001b[39melse\u001b[39;00m:\n",
      "\u001b[0;31mKeyboardInterrupt\u001b[0m: "
     ]
    }
   ],
   "source": [
    "grid.fit(X_train, y_train)"
   ]
  },
  {
   "cell_type": "code",
   "execution_count": null,
   "metadata": {},
   "outputs": [
    {
     "name": "stdout",
     "output_type": "stream",
     "text": [
      "CV parameters: {'model__max_depth': 6, 'model__n_estimators': 140}\n"
     ]
    }
   ],
   "source": [
    "# Evaluate cross validation performance \n",
    "print(\"CV parameters:\", grid.best_params_)"
   ]
  },
  {
   "cell_type": "code",
   "execution_count": null,
   "metadata": {},
   "outputs": [],
   "source": [
    "# Make predictions\n",
    "y_pred = grid.predict(X_test)"
   ]
  },
  {
   "cell_type": "code",
   "execution_count": null,
   "metadata": {},
   "outputs": [
    {
     "name": "stdout",
     "output_type": "stream",
     "text": [
      "Test score r2 0.37677030097383135\n",
      "Test score MAE 0.6389165366189253\n"
     ]
    }
   ],
   "source": [
    "# Evaluate model performance\n",
    "print(\"Test score r2\", r2_score(y_test, y_pred))\n",
    "print(\"Test score MAE\", mean_absolute_error(y_test, y_pred))"
   ]
  },
  {
   "attachments": {},
   "cell_type": "markdown",
   "metadata": {},
   "source": [
    "## Test du gradient boosting"
   ]
  },
  {
   "cell_type": "code",
   "execution_count": null,
   "metadata": {},
   "outputs": [],
   "source": [
    "data = df_250\n",
    "model = GradientBoostingRegressor()\n",
    "parameters = {'model__n_estimators': range(140, 150, 10), 'model__max_depth': range(6,7)}"
   ]
  },
  {
   "cell_type": "code",
   "execution_count": null,
   "metadata": {},
   "outputs": [
    {
     "name": "stdout",
     "output_type": "stream",
     "text": [
      "Fitting 5 folds for each of 1 candidates, totalling 5 fits\n",
      "CV parameters: {'model__max_depth': 6, 'model__n_estimators': 140}\n",
      "CV score - R2: 0.3698111594741954\n",
      "Test score r2 0.37479287545025786\n",
      "Test score MAE 0.7472450657174414\n"
     ]
    }
   ],
   "source": [
    "model_testing(data, model, parameters) # ça tourne"
   ]
  },
  {
   "attachments": {},
   "cell_type": "markdown",
   "metadata": {},
   "source": [
    "## Test de Adaboost"
   ]
  },
  {
   "cell_type": "code",
   "execution_count": null,
   "metadata": {},
   "outputs": [],
   "source": [
    "data = df_250\n",
    "# model = AdaBoostRegressor()\n",
    "# parameters = {'model__n_estimators': range(100, 201, 20)}\n",
    "\n",
    "model = AdaBoostRegressor(n_estimators=175)\n",
    "parameters = {}\n",
    "\n",
    "model_testing(data, model, parameters)"
   ]
  },
  {
   "attachments": {},
   "cell_type": "markdown",
   "metadata": {},
   "source": [
    "# III. Approche par clustering"
   ]
  },
  {
   "attachments": {},
   "cell_type": "markdown",
   "metadata": {},
   "source": [
    "## (1) Détermination des clusters"
   ]
  },
  {
   "cell_type": "code",
   "execution_count": null,
   "metadata": {},
   "outputs": [],
   "source": [
    "# on récupère une pipeline qui fait juste la tranformation\n",
    "pipe_prep = Pipeline(steps=[('preparation', preparation)\n",
    "                        ])"
   ]
  },
  {
   "cell_type": "code",
   "execution_count": null,
   "metadata": {},
   "outputs": [],
   "source": [
    "# on l'applique sur le dataset avec transform \n",
    "res = pipe_prep.transform(df_250)"
   ]
  },
  {
   "cell_type": "code",
   "execution_count": null,
   "metadata": {},
   "outputs": [
    {
     "data": {
      "text/plain": [
       "<64301x131040 sparse matrix of type '<class 'numpy.float64'>'\n",
       "\twith 590318 stored elements in Compressed Sparse Row format>"
      ]
     },
     "execution_count": 71,
     "metadata": {},
     "output_type": "execute_result"
    }
   ],
   "source": [
    "res\n",
    "# génère une sparse matrix qu'on pourra utiliser dans les analyses après"
   ]
  },
  {
   "cell_type": "code",
   "execution_count": null,
   "metadata": {},
   "outputs": [
    {
     "data": {
      "image/png": "[encoded data removed]",
      "text/plain": [
       "<Figure size 640x480 with 1 Axes>"
      ]
     },
     "metadata": {},
     "output_type": "display_data"
    }
   ],
   "source": [
    "# Nombre optimal de cluster \n",
    "def kOptimal(a, b, X):\n",
    "    inertie = list()\n",
    "    plage = range(a, b+1)\n",
    "    for k in plage:\n",
    "        km = KMeans(n_clusters=k).fit(X)\n",
    "        inertie.append(km.inertia_)\n",
    "    plt.plot(plage, inertie)\n",
    "    plt.xlabel(\"Nombre de clusters\")\n",
    "    plt.ylabel(\"Inertie en fonction du nombre de cluster\")\n",
    "    plt.show()\n",
    "\n",
    "kOptimal(1, 10, res)\n",
    "# le coude semble se situer à 3"
   ]
  },
  {
   "cell_type": "code",
   "execution_count": null,
   "metadata": {},
   "outputs": [
    {
     "data": {
      "text/html": [
       "<style>#sk-14366d8d-bd46-46bd-8474-47b54d355a4c {color: black;background-color: white;}#sk-14366d8d-bd46-46bd-8474-47b54d355a4c pre{padding: 0;}#sk-14366d8d-bd46-46bd-8474-47b54d355a4c div.sk-toggleable {background-color: white;}#sk-14366d8d-bd46-46bd-8474-47b54d355a4c label.sk-toggleable__label {cursor: pointer;display: block;width: 100%;margin-bottom: 0;padding: 0.3em;box-sizing: border-box;text-align: center;}#sk-14366d8d-bd46-46bd-8474-47b54d355a4c label.sk-toggleable__label-arrow:before {content: \"▸\";float: left;margin-right: 0.25em;color: #696969;}#sk-14366d8d-bd46-46bd-8474-47b54d355a4c label.sk-toggleable__label-arrow:hover:before {color: black;}#sk-14366d8d-bd46-46bd-8474-47b54d355a4c div.sk-estimator:hover label.sk-toggleable__label-arrow:before {color: black;}#sk-14366d8d-bd46-46bd-8474-47b54d355a4c div.sk-toggleable__content {max-height: 0;max-width: 0;overflow: hidden;text-align: left;background-color: #f0f8ff;}#sk-14366d8d-bd46-46bd-8474-47b54d355a4c div.sk-toggleable__content pre {margin: 0.2em;color: black;border-radius: 0.25em;background-color: #f0f8ff;}#sk-14366d8d-bd46-46bd-8474-47b54d355a4c input.sk-toggleable__control:checked~div.sk-toggleable__content {max-height: 200px;max-width: 100%;overflow: auto;}#sk-14366d8d-bd46-46bd-8474-47b54d355a4c input.sk-toggleable__control:checked~label.sk-toggleable__label-arrow:before {content: \"▾\";}#sk-14366d8d-bd46-46bd-8474-47b54d355a4c div.sk-estimator input.sk-toggleable__control:checked~label.sk-toggleable__label {background-color: #d4ebff;}#sk-14366d8d-bd46-46bd-8474-47b54d355a4c div.sk-label input.sk-toggleable__control:checked~label.sk-toggleable__label {background-color: #d4ebff;}#sk-14366d8d-bd46-46bd-8474-47b54d355a4c input.sk-hidden--visually {border: 0;clip: rect(1px 1px 1px 1px);clip: rect(1px, 1px, 1px, 1px);height: 1px;margin: -1px;overflow: hidden;padding: 0;position: absolute;width: 1px;}#sk-14366d8d-bd46-46bd-8474-47b54d355a4c div.sk-estimator {font-family: monospace;background-color: #f0f8ff;border: 1px dotted black;border-radius: 0.25em;box-sizing: border-box;margin-bottom: 0.5em;}#sk-14366d8d-bd46-46bd-8474-47b54d355a4c div.sk-estimator:hover {background-color: #d4ebff;}#sk-14366d8d-bd46-46bd-8474-47b54d355a4c div.sk-parallel-item::after {content: \"\";width: 100%;border-bottom: 1px solid gray;flex-grow: 1;}#sk-14366d8d-bd46-46bd-8474-47b54d355a4c div.sk-label:hover label.sk-toggleable__label {background-color: #d4ebff;}#sk-14366d8d-bd46-46bd-8474-47b54d355a4c div.sk-serial::before {content: \"\";position: absolute;border-left: 1px solid gray;box-sizing: border-box;top: 2em;bottom: 0;left: 50%;}#sk-14366d8d-bd46-46bd-8474-47b54d355a4c div.sk-serial {display: flex;flex-direction: column;align-items: center;background-color: white;padding-right: 0.2em;padding-left: 0.2em;}#sk-14366d8d-bd46-46bd-8474-47b54d355a4c div.sk-item {z-index: 1;}#sk-14366d8d-bd46-46bd-8474-47b54d355a4c div.sk-parallel {display: flex;align-items: stretch;justify-content: center;background-color: white;}#sk-14366d8d-bd46-46bd-8474-47b54d355a4c div.sk-parallel::before {content: \"\";position: absolute;border-left: 1px solid gray;box-sizing: border-box;top: 2em;bottom: 0;left: 50%;}#sk-14366d8d-bd46-46bd-8474-47b54d355a4c div.sk-parallel-item {display: flex;flex-direction: column;position: relative;background-color: white;}#sk-14366d8d-bd46-46bd-8474-47b54d355a4c div.sk-parallel-item:first-child::after {align-self: flex-end;width: 50%;}#sk-14366d8d-bd46-46bd-8474-47b54d355a4c div.sk-parallel-item:last-child::after {align-self: flex-start;width: 50%;}#sk-14366d8d-bd46-46bd-8474-47b54d355a4c div.sk-parallel-item:only-child::after {width: 0;}#sk-14366d8d-bd46-46bd-8474-47b54d355a4c div.sk-dashed-wrapped {border: 1px dashed gray;margin: 0 0.4em 0.5em 0.4em;box-sizing: border-box;padding-bottom: 0.4em;background-color: white;position: relative;}#sk-14366d8d-bd46-46bd-8474-47b54d355a4c div.sk-label label {font-family: monospace;font-weight: bold;background-color: white;display: inline-block;line-height: 1.2em;}#sk-14366d8d-bd46-46bd-8474-47b54d355a4c div.sk-label-container {position: relative;z-index: 2;text-align: center;}#sk-14366d8d-bd46-46bd-8474-47b54d355a4c div.sk-container {/* jupyter's `normalize.less` sets `[hidden] { display: none; }` but bootstrap.min.css set `[hidden] { display: none !important; }` so we also need the `!important` here to be able to override the default hidden behavior on the sphinx rendered scikit-learn.org. See: https://github.com/scikit-learn/scikit-learn/issues/21755 */display: inline-block !important;position: relative;}#sk-14366d8d-bd46-46bd-8474-47b54d355a4c div.sk-text-repr-fallback {display: none;}</style><div id=\"sk-14366d8d-bd46-46bd-8474-47b54d355a4c\" class=\"sk-top-container\"><div class=\"sk-text-repr-fallback\"><pre>KMeans(n_clusters=3)</pre><b>Please rerun this cell to show the HTML repr or trust the notebook.</b></div><div class=\"sk-container\" hidden><div class=\"sk-item\"><div class=\"sk-estimator sk-toggleable\"><input class=\"sk-toggleable__control sk-hidden--visually\" id=\"486eb8bd-64c5-4fcf-95b9-4e198487846e\" type=\"checkbox\" checked><label for=\"486eb8bd-64c5-4fcf-95b9-4e198487846e\" class=\"sk-toggleable__label sk-toggleable__label-arrow\">KMeans</label><div class=\"sk-toggleable__content\"><pre>KMeans(n_clusters=3)</pre></div></div></div></div></div>"
      ],
      "text/plain": [
       "KMeans(n_clusters=3)"
      ]
     },
     "execution_count": 72,
     "metadata": {},
     "output_type": "execute_result"
    }
   ],
   "source": [
    "clustering = KMeans(n_clusters=3)\n",
    "clustering.fit(res)"
   ]
  },
  {
   "cell_type": "code",
   "execution_count": null,
   "metadata": {},
   "outputs": [],
   "source": [
    "# On ajoute la colonne de prédiction des groupes dans le dataframe\n",
    "df_250[\"clustering\"] = clustering.predict(res)"
   ]
  },
  {
   "cell_type": "code",
   "execution_count": null,
   "metadata": {},
   "outputs": [
    {
     "data": {
      "text/html": [
       "<div>\n",
       "<style scoped>\n",
       "    .dataframe tbody tr th:only-of-type {\n",
       "        vertical-align: middle;\n",
       "    }\n",
       "\n",
       "    .dataframe tbody tr th {\n",
       "        vertical-align: top;\n",
       "    }\n",
       "\n",
       "    .dataframe thead th {\n",
       "        text-align: right;\n",
       "    }\n",
       "</style>\n",
       "<table border=\"1\" class=\"dataframe\">\n",
       "  <thead>\n",
       "    <tr style=\"text-align: right;\">\n",
       "      <th></th>\n",
       "      <th>actors</th>\n",
       "      <th>averageRating</th>\n",
       "      <th>decade</th>\n",
       "      <th>runtimeMinutes</th>\n",
       "      <th>isAdult</th>\n",
       "      <th>genres</th>\n",
       "      <th>directors</th>\n",
       "      <th>actress</th>\n",
       "      <th>clustering</th>\n",
       "    </tr>\n",
       "  </thead>\n",
       "  <tbody>\n",
       "    <tr>\n",
       "      <th>1</th>\n",
       "      <td>nm0846894,nm1431224,nm3002376</td>\n",
       "      <td>6.0</td>\n",
       "      <td>190.0</td>\n",
       "      <td>70.0</td>\n",
       "      <td>0</td>\n",
       "      <td>Action,Adventure,Biography</td>\n",
       "      <td>nm0846879</td>\n",
       "      <td>nm0846887</td>\n",
       "      <td>2</td>\n",
       "    </tr>\n",
       "    <tr>\n",
       "      <th>29</th>\n",
       "      <td>nm0929925</td>\n",
       "      <td>6.9</td>\n",
       "      <td>193.0</td>\n",
       "      <td>79.0</td>\n",
       "      <td>0</td>\n",
       "      <td>Crime,Drama</td>\n",
       "      <td>nm0107854,nm0445033</td>\n",
       "      <td>nm0198847,nm0268225,nm0174051</td>\n",
       "      <td>2</td>\n",
       "    </tr>\n",
       "    <tr>\n",
       "      <th>41</th>\n",
       "      <td>nm0601596,nm0188357,nm0269493</td>\n",
       "      <td>6.2</td>\n",
       "      <td>192.0</td>\n",
       "      <td>70.0</td>\n",
       "      <td>0</td>\n",
       "      <td>Comedy,Drama</td>\n",
       "      <td>nm0377126</td>\n",
       "      <td>nm0203836</td>\n",
       "      <td>2</td>\n",
       "    </tr>\n",
       "    <tr>\n",
       "      <th>48</th>\n",
       "      <td>nm0001366,nm0000859,nm0000022</td>\n",
       "      <td>6.6</td>\n",
       "      <td>193.0</td>\n",
       "      <td>93.0</td>\n",
       "      <td>0</td>\n",
       "      <td>Crime,Drama,Romance</td>\n",
       "      <td>nm0113284</td>\n",
       "      <td>nm0790454</td>\n",
       "      <td>2</td>\n",
       "    </tr>\n",
       "    <tr>\n",
       "      <th>64</th>\n",
       "      <td>nm0359823,nm0156173,nm0914867,nm0603096,nm0163933</td>\n",
       "      <td>5.4</td>\n",
       "      <td>192.0</td>\n",
       "      <td>68.0</td>\n",
       "      <td>0</td>\n",
       "      <td>Adventure,Drama,Horror</td>\n",
       "      <td>nm0156173,nm0593180</td>\n",
       "      <td>nm0165744</td>\n",
       "      <td>2</td>\n",
       "    </tr>\n",
       "  </tbody>\n",
       "</table>\n",
       "</div>"
      ],
      "text/plain": [
       "                                               actors  averageRating  decade  \\\n",
       "1                       nm0846894,nm1431224,nm3002376            6.0   190.0   \n",
       "29                                          nm0929925            6.9   193.0   \n",
       "41                      nm0601596,nm0188357,nm0269493            6.2   192.0   \n",
       "48                      nm0001366,nm0000859,nm0000022            6.6   193.0   \n",
       "64  nm0359823,nm0156173,nm0914867,nm0603096,nm0163933            5.4   192.0   \n",
       "\n",
       "    runtimeMinutes  isAdult                      genres            directors  \\\n",
       "1             70.0        0  Action,Adventure,Biography            nm0846879   \n",
       "29            79.0        0                 Crime,Drama  nm0107854,nm0445033   \n",
       "41            70.0        0                Comedy,Drama            nm0377126   \n",
       "48            93.0        0         Crime,Drama,Romance            nm0113284   \n",
       "64            68.0        0      Adventure,Drama,Horror  nm0156173,nm0593180   \n",
       "\n",
       "                          actress  clustering  \n",
       "1                       nm0846887           2  \n",
       "29  nm0198847,nm0268225,nm0174051           2  \n",
       "41                      nm0203836           2  \n",
       "48                      nm0790454           2  \n",
       "64                      nm0165744           2  "
      ]
     },
     "execution_count": 75,
     "metadata": {},
     "output_type": "execute_result"
    }
   ],
   "source": [
    "df_250.head()"
   ]
  },
  {
   "cell_type": "code",
   "execution_count": null,
   "metadata": {},
   "outputs": [
    {
     "data": {
      "text/plain": [
       "count    64301.000000\n",
       "mean         0.601670\n",
       "std          0.815486\n",
       "min          0.000000\n",
       "25%          0.000000\n",
       "50%          0.000000\n",
       "75%          1.000000\n",
       "max          2.000000\n",
       "Name: clustering, dtype: float64"
      ]
     },
     "execution_count": 76,
     "metadata": {},
     "output_type": "execute_result"
    }
   ],
   "source": [
    "df_250.clustering.describe()"
   ]
  },
  {
   "attachments": {},
   "cell_type": "markdown",
   "metadata": {},
   "source": [
    "## (2) Création d'un dataset par cluster"
   ]
  },
  {
   "cell_type": "code",
   "execution_count": null,
   "metadata": {},
   "outputs": [],
   "source": [
    "# # creation d'un jeu de données par cluster\n",
    "# df_clust0 = df_250[df_250[\"clustering\"] == 0].drop(\"clustering\", axis =1)\n",
    "# df_clust1 = df_250[df_250[\"clustering\"] == 1].drop(\"clustering\", axis =1)\n",
    "# df_clust2 = df_250[df_250[\"clustering\"] == 2].drop(\"clustering\", axis =1)\n",
    "\n",
    "# df_250.to_csv('datasets/df_clustall_sylvine.csv')\n",
    "\n",
    "# df_clust0.to_csv('datasets/df_clust0_sylvine.csv')\n",
    "# df_clust1.to_csv('datasets/df_clust1_sylvine.csv')\n",
    "# df_clust2.to_csv('datasets/df_clust2_sylvine.csv')\n",
    "\n",
    "# cluster_datasets = [df_clust0, df_clust1, df_clust2]\n"
   ]
  },
  {
   "cell_type": "code",
   "execution_count": 23,
   "metadata": {},
   "outputs": [],
   "source": [
    "# import les datasets\n",
    "df_clust0 = pd.read_csv('../datasets/df_clust0_sylvine.csv', index_col=0)\n",
    "df_clust1 = pd.read_csv('../datasets/df_clust1_sylvine.csv', index_col=0)\n",
    "df_clust2 = pd.read_csv('../datasets/df_clust2_sylvine.csv', index_col=0)\n",
    "\n",
    "df_clustall = pd.read_csv('../datasets/df_clustall_sylvine.csv', index_col=0)\n",
    "\n",
    "cluster_datasets = [df_clust0, df_clust1, df_clust2]"
   ]
  },
  {
   "attachments": {},
   "cell_type": "markdown",
   "metadata": {},
   "source": [
    "## (3) Caractérisation des clusters"
   ]
  },
  {
   "cell_type": "code",
   "execution_count": 24,
   "metadata": {},
   "outputs": [
    {
     "name": "stdout",
     "output_type": "stream",
     "text": [
      "(13677, 8)\n",
      "(11333, 8)\n",
      "(39291, 8)\n",
      "(64301, 9)\n"
     ]
    }
   ],
   "source": [
    "print(df_clust0.shape)\n",
    "print(df_clust1.shape)\n",
    "print(df_clust2.shape)\n",
    "\n",
    "print(df_clustall.shape)"
   ]
  },
  {
   "cell_type": "code",
   "execution_count": 25,
   "metadata": {},
   "outputs": [
    {
     "data": {
      "image/png": "[encoded data removed]",
      "text/plain": [
       "<Figure size 640x480 with 1 Axes>"
      ]
     },
     "metadata": {},
     "output_type": "display_data"
    }
   ],
   "source": [
    "plt.pie((df_clust0.shape[0],df_clust1.shape[0],df_clust2.shape[0]), \n",
    "        labels = [\"cluster 0\",\"cluster 1\",\"cluster 2\"], \n",
    "        colors = [\"#FF7F7F\",\"#7FBF7F\",\"#7F7FFF\"], autopct='%.0f%%')\n",
    "plt.show()"
   ]
  },
  {
   "cell_type": "code",
   "execution_count": 26,
   "metadata": {},
   "outputs": [],
   "source": [
    "sns.set_palette(\"Set2\")"
   ]
  },
  {
   "cell_type": "code",
   "execution_count": 27,
   "metadata": {},
   "outputs": [
    {
     "data": {
      "image/png": "[encoded data removed]",
      "text/plain": [
       "<Figure size 640x480 with 1 Axes>"
      ]
     },
     "metadata": {},
     "output_type": "display_data"
    }
   ],
   "source": [
    "df_clust0.isAdult.value_counts().plot(kind=\"pie\", legend=True, autopct='%1.1f%%')\n",
    "plt.show()"
   ]
  },
  {
   "cell_type": "code",
   "execution_count": 28,
   "metadata": {},
   "outputs": [
    {
     "data": {
      "image/png": "[encoded data removed]",
      "text/plain": [
       "<Figure size 640x480 with 1 Axes>"
      ]
     },
     "metadata": {},
     "output_type": "display_data"
    }
   ],
   "source": [
    "df_clust1.isAdult.value_counts().plot(kind=\"pie\", legend=True, autopct='%1.1f%%')\n",
    "plt.show()"
   ]
  },
  {
   "cell_type": "code",
   "execution_count": 29,
   "metadata": {},
   "outputs": [
    {
     "data": {
      "image/png": "[encoded data removed]",
      "text/plain": [
       "<Figure size 640x480 with 1 Axes>"
      ]
     },
     "metadata": {},
     "output_type": "display_data"
    }
   ],
   "source": [
    "df_clust2.isAdult.value_counts().plot(kind=\"pie\", legend=True, autopct='%1.1f%%')\n",
    "plt.show()"
   ]
  },
  {
   "cell_type": "code",
   "execution_count": 30,
   "metadata": {},
   "outputs": [
    {
     "data": {
      "text/plain": [
       "<AxesSubplot: xlabel='averageRating', ylabel='Count'>"
      ]
     },
     "execution_count": 30,
     "metadata": {},
     "output_type": "execute_result"
    },
    {
     "data": {
      "image/png": "[encoded data removed]",
      "text/plain": [
       "<Figure size 640x480 with 1 Axes>"
      ]
     },
     "metadata": {},
     "output_type": "display_data"
    }
   ],
   "source": [
    "sns.histplot(data=df_clustall, \n",
    "             x=\"averageRating\", \n",
    "             hue=\"clustering\",\n",
    "             palette = [\"red\",\"green\",\"blue\"])"
   ]
  },
  {
   "cell_type": "code",
   "execution_count": null,
   "metadata": {},
   "outputs": [
    {
     "data": {
      "text/plain": [
       "<AxesSubplot:xlabel='decade', ylabel='Count'>"
      ]
     },
     "execution_count": 21,
     "metadata": {},
     "output_type": "execute_result"
    },
    {
     "data": {
      "image/png": "[encoded data removed]",
      "text/plain": [
       "<Figure size 640x480 with 1 Axes>"
      ]
     },
     "metadata": {},
     "output_type": "display_data"
    }
   ],
   "source": [
    "sns.histplot(data=df_clustall, \n",
    "             x=\"decade\", \n",
    "             hue=\"clustering\",\n",
    "             palette = [\"red\",\"green\",\"blue\"])"
   ]
  },
  {
   "cell_type": "code",
   "execution_count": null,
   "metadata": {},
   "outputs": [
    {
     "data": {
      "text/plain": [
       "Index(['actors', 'averageRating', 'decade', 'runtimeMinutes', 'isAdult',\n",
       "       'genres', 'directors', 'actress', 'clustering'],\n",
       "      dtype='object')"
      ]
     },
     "execution_count": 23,
     "metadata": {},
     "output_type": "execute_result"
    }
   ],
   "source": [
    "df_clustall.columns"
   ]
  },
  {
   "cell_type": "code",
   "execution_count": null,
   "metadata": {},
   "outputs": [
    {
     "data": {
      "text/plain": [
       "<AxesSubplot:xlabel='runtimeMinutes', ylabel='Count'>"
      ]
     },
     "execution_count": 24,
     "metadata": {},
     "output_type": "execute_result"
    },
    {
     "data": {
      "image/png": "[encoded data removed]",
      "text/plain": [
       "<Figure size 640x480 with 1 Axes>"
      ]
     },
     "metadata": {},
     "output_type": "display_data"
    }
   ],
   "source": [
    "sns.histplot(data=df_clustall, \n",
    "             x=\"runtimeMinutes\", \n",
    "             hue=\"clustering\",\n",
    "             palette = [\"red\",\"green\",\"blue\"])"
   ]
  },
  {
   "attachments": {},
   "cell_type": "markdown",
   "metadata": {},
   "source": [
    " ## (4) Mise en place d'un modèle de régression par cluster"
   ]
  },
  {
   "attachments": {},
   "cell_type": "markdown",
   "metadata": {},
   "source": [
    "on regarde si le modèle très basique que j'ai donne des res différents selon le cluster"
   ]
  },
  {
   "cell_type": "code",
   "execution_count": null,
   "metadata": {},
   "outputs": [],
   "source": [
    "# cluster 0\n",
    "data = df_clust0\n",
    "model = GradientBoostingRegressor()\n",
    "parameters = {'model__n_estimators': range(140, 160, 10), 'model__max_depth': range(6,8)}\n",
    "\n",
    "model_testing(data, model, parameters)"
   ]
  },
  {
   "cell_type": "code",
   "execution_count": null,
   "metadata": {},
   "outputs": [
    {
     "name": "stdout",
     "output_type": "stream",
     "text": [
      "Fitting 5 folds for each of 1 candidates, totalling 5 fits\n",
      "CV parameters: {'model__max_depth': 6, 'model__n_estimators': 140}\n",
      "CV score - R2: 0.17922449388807649\n",
      "Test score r2 0.19369516169500844\n",
      "Test score MAE 0.7790508799228999\n"
     ]
    }
   ],
   "source": [
    "# cluster 1\n",
    "data = df_clust1\n",
    "model = GradientBoostingRegressor()\n",
    "parameters = {'model__n_estimators': range(140, 150, 10), 'model__max_depth': range(6,7)}\n",
    "\n",
    "model_testing(data, model, parameters)"
   ]
  },
  {
   "cell_type": "code",
   "execution_count": null,
   "metadata": {},
   "outputs": [
    {
     "name": "stdout",
     "output_type": "stream",
     "text": [
      "Fitting 5 folds for each of 1 candidates, totalling 5 fits\n",
      "CV parameters: {'model__max_depth': 6, 'model__n_estimators': 140}\n",
      "CV score - R2: 0.34392952807965266\n",
      "Test score r2 0.3335176816609453\n",
      "Test score MAE 0.6061740473082634\n"
     ]
    }
   ],
   "source": [
    "# cluster 2\n",
    "data = df_clust2\n",
    "model = GradientBoostingRegressor()\n",
    "parameters = {'model__n_estimators': range(140, 150, 10), 'model__max_depth': range(6,7)}\n",
    "\n",
    "model_testing(data, model, parameters)"
   ]
  },
  {
   "cell_type": "code",
   "execution_count": null,
   "metadata": {},
   "outputs": [
    {
     "name": "stdout",
     "output_type": "stream",
     "text": [
      "Fitting 3 folds for each of 9 candidates, totalling 27 fits\n"
     ]
    },
    {
     "name": "stderr",
     "output_type": "stream",
     "text": [
      "/home/sylvine/anaconda3/lib/python3.9/site-packages/sklearn/model_selection/_validation.py:372: FitFailedWarning: \n",
      "27 fits failed out of a total of 27.\n",
      "The score on these train-test partitions for these parameters will be set to nan.\n",
      "If these failures are not expected, you can try to debug them by setting error_score='raise'.\n",
      "\n",
      "Below are more details about the failures:\n",
      "--------------------------------------------------------------------------------\n",
      "27 fits failed with the following error:\n",
      "Traceback (most recent call last):\n",
      "  File \"/home/sylvine/anaconda3/lib/python3.9/site-packages/sklearn/model_selection/_validation.py\", line 680, in _fit_and_score\n",
      "    estimator.fit(X_train, y_train, **fit_params)\n",
      "  File \"/home/sylvine/anaconda3/lib/python3.9/site-packages/sklearn/pipeline.py\", line 394, in fit\n",
      "    self._final_estimator.fit(Xt, y, **fit_params_last_step)\n",
      "  File \"/home/sylvine/anaconda3/lib/python3.9/site-packages/sklearn/ensemble/_forest.py\", line 367, in fit\n",
      "    y, expanded_class_weight = self._validate_y_class_weight(y)\n",
      "  File \"/home/sylvine/anaconda3/lib/python3.9/site-packages/sklearn/ensemble/_forest.py\", line 734, in _validate_y_class_weight\n",
      "    check_classification_targets(y)\n",
      "  File \"/home/sylvine/anaconda3/lib/python3.9/site-packages/sklearn/utils/multiclass.py\", line 197, in check_classification_targets\n",
      "    raise ValueError(\"Unknown label type: %r\" % y_type)\n",
      "ValueError: Unknown label type: 'continuous'\n",
      "\n",
      "  warnings.warn(some_fits_failed_message, FitFailedWarning)\n",
      "/home/sylvine/anaconda3/lib/python3.9/site-packages/sklearn/model_selection/_search.py:969: UserWarning: One or more of the test scores are non-finite: [nan nan nan nan nan nan nan nan nan]\n",
      "  warnings.warn(\n"
     ]
    },
    {
     "ename": "ValueError",
     "evalue": "Unknown label type: 'continuous'",
     "output_type": "error",
     "traceback": [
      "\u001b[0;31m---------------------------------------------------------------------------\u001b[0m",
      "\u001b[0;31mValueError\u001b[0m                                Traceback (most recent call last)",
      "Cell \u001b[0;32mIn[117], line 6\u001b[0m\n\u001b[1;32m      3\u001b[0m model \u001b[39m=\u001b[39m RandomForestClassifier()\n\u001b[1;32m      4\u001b[0m parameters \u001b[39m=\u001b[39m {\u001b[39m'\u001b[39m\u001b[39mmodel__n_estimators\u001b[39m\u001b[39m'\u001b[39m: \u001b[39mrange\u001b[39m(\u001b[39m100\u001b[39m, \u001b[39m201\u001b[39m, \u001b[39m50\u001b[39m), \u001b[39m'\u001b[39m\u001b[39mmodel__max_depth\u001b[39m\u001b[39m'\u001b[39m: \u001b[39mrange\u001b[39m(\u001b[39m10\u001b[39m,\u001b[39m21\u001b[39m,\u001b[39m5\u001b[39m)}\n\u001b[0;32m----> 6\u001b[0m model_testing(data, model, parameters)\n",
      "Cell \u001b[0;32mIn[115], line 44\u001b[0m, in \u001b[0;36mmodel_testing\u001b[0;34m(data, model, parameters)\u001b[0m\n\u001b[1;32m     41\u001b[0m X_train, X_test, y_train, y_test \u001b[39m=\u001b[39m train_test_split(X, y, test_size\u001b[39m=\u001b[39m\u001b[39m0.2\u001b[39m, random_state\u001b[39m=\u001b[39m\u001b[39m0\u001b[39m)\n\u001b[1;32m     43\u001b[0m \u001b[39m# fit le gridsearch\u001b[39;00m\n\u001b[0;32m---> 44\u001b[0m grid\u001b[39m.\u001b[39;49mfit(X_train, y_train)\n\u001b[1;32m     47\u001b[0m \u001b[39m# print resultats:\u001b[39;00m\n\u001b[1;32m     48\u001b[0m \n\u001b[1;32m     49\u001b[0m \u001b[39m# Evaluate model performance with predictions\u001b[39;00m\n\u001b[1;32m     50\u001b[0m y_pred \u001b[39m=\u001b[39m grid\u001b[39m.\u001b[39mpredict(X_test)\n",
      "File \u001b[0;32m~/anaconda3/lib/python3.9/site-packages/sklearn/model_selection/_search.py:926\u001b[0m, in \u001b[0;36mBaseSearchCV.fit\u001b[0;34m(self, X, y, groups, **fit_params)\u001b[0m\n\u001b[1;32m    924\u001b[0m refit_start_time \u001b[39m=\u001b[39m time\u001b[39m.\u001b[39mtime()\n\u001b[1;32m    925\u001b[0m \u001b[39mif\u001b[39;00m y \u001b[39mis\u001b[39;00m \u001b[39mnot\u001b[39;00m \u001b[39mNone\u001b[39;00m:\n\u001b[0;32m--> 926\u001b[0m     \u001b[39mself\u001b[39;49m\u001b[39m.\u001b[39;49mbest_estimator_\u001b[39m.\u001b[39;49mfit(X, y, \u001b[39m*\u001b[39;49m\u001b[39m*\u001b[39;49mfit_params)\n\u001b[1;32m    927\u001b[0m \u001b[39melse\u001b[39;00m:\n\u001b[1;32m    928\u001b[0m     \u001b[39mself\u001b[39m\u001b[39m.\u001b[39mbest_estimator_\u001b[39m.\u001b[39mfit(X, \u001b[39m*\u001b[39m\u001b[39m*\u001b[39mfit_params)\n",
      "File \u001b[0;32m~/anaconda3/lib/python3.9/site-packages/sklearn/pipeline.py:394\u001b[0m, in \u001b[0;36mPipeline.fit\u001b[0;34m(self, X, y, **fit_params)\u001b[0m\n\u001b[1;32m    392\u001b[0m     \u001b[39mif\u001b[39;00m \u001b[39mself\u001b[39m\u001b[39m.\u001b[39m_final_estimator \u001b[39m!=\u001b[39m \u001b[39m\"\u001b[39m\u001b[39mpassthrough\u001b[39m\u001b[39m\"\u001b[39m:\n\u001b[1;32m    393\u001b[0m         fit_params_last_step \u001b[39m=\u001b[39m fit_params_steps[\u001b[39mself\u001b[39m\u001b[39m.\u001b[39msteps[\u001b[39m-\u001b[39m\u001b[39m1\u001b[39m][\u001b[39m0\u001b[39m]]\n\u001b[0;32m--> 394\u001b[0m         \u001b[39mself\u001b[39;49m\u001b[39m.\u001b[39;49m_final_estimator\u001b[39m.\u001b[39;49mfit(Xt, y, \u001b[39m*\u001b[39;49m\u001b[39m*\u001b[39;49mfit_params_last_step)\n\u001b[1;32m    396\u001b[0m \u001b[39mreturn\u001b[39;00m \u001b[39mself\u001b[39m\n",
      "File \u001b[0;32m~/anaconda3/lib/python3.9/site-packages/sklearn/ensemble/_forest.py:367\u001b[0m, in \u001b[0;36mBaseForest.fit\u001b[0;34m(self, X, y, sample_weight)\u001b[0m\n\u001b[1;32m    360\u001b[0m         \u001b[39mraise\u001b[39;00m \u001b[39mValueError\u001b[39;00m(\n\u001b[1;32m    361\u001b[0m             \u001b[39m\"\u001b[39m\u001b[39mSum of y is not strictly positive which \u001b[39m\u001b[39m\"\u001b[39m\n\u001b[1;32m    362\u001b[0m             \u001b[39m\"\u001b[39m\u001b[39mis necessary for Poisson regression.\u001b[39m\u001b[39m\"\u001b[39m\n\u001b[1;32m    363\u001b[0m         )\n\u001b[1;32m    365\u001b[0m \u001b[39mself\u001b[39m\u001b[39m.\u001b[39mn_outputs_ \u001b[39m=\u001b[39m y\u001b[39m.\u001b[39mshape[\u001b[39m1\u001b[39m]\n\u001b[0;32m--> 367\u001b[0m y, expanded_class_weight \u001b[39m=\u001b[39m \u001b[39mself\u001b[39;49m\u001b[39m.\u001b[39;49m_validate_y_class_weight(y)\n\u001b[1;32m    369\u001b[0m \u001b[39mif\u001b[39;00m \u001b[39mgetattr\u001b[39m(y, \u001b[39m\"\u001b[39m\u001b[39mdtype\u001b[39m\u001b[39m\"\u001b[39m, \u001b[39mNone\u001b[39;00m) \u001b[39m!=\u001b[39m DOUBLE \u001b[39mor\u001b[39;00m \u001b[39mnot\u001b[39;00m y\u001b[39m.\u001b[39mflags\u001b[39m.\u001b[39mcontiguous:\n\u001b[1;32m    370\u001b[0m     y \u001b[39m=\u001b[39m np\u001b[39m.\u001b[39mascontiguousarray(y, dtype\u001b[39m=\u001b[39mDOUBLE)\n",
      "File \u001b[0;32m~/anaconda3/lib/python3.9/site-packages/sklearn/ensemble/_forest.py:734\u001b[0m, in \u001b[0;36mForestClassifier._validate_y_class_weight\u001b[0;34m(self, y)\u001b[0m\n\u001b[1;32m    733\u001b[0m \u001b[39mdef\u001b[39;00m \u001b[39m_validate_y_class_weight\u001b[39m(\u001b[39mself\u001b[39m, y):\n\u001b[0;32m--> 734\u001b[0m     check_classification_targets(y)\n\u001b[1;32m    736\u001b[0m     y \u001b[39m=\u001b[39m np\u001b[39m.\u001b[39mcopy(y)\n\u001b[1;32m    737\u001b[0m     expanded_class_weight \u001b[39m=\u001b[39m \u001b[39mNone\u001b[39;00m\n",
      "File \u001b[0;32m~/anaconda3/lib/python3.9/site-packages/sklearn/utils/multiclass.py:197\u001b[0m, in \u001b[0;36mcheck_classification_targets\u001b[0;34m(y)\u001b[0m\n\u001b[1;32m    189\u001b[0m y_type \u001b[39m=\u001b[39m type_of_target(y)\n\u001b[1;32m    190\u001b[0m \u001b[39mif\u001b[39;00m y_type \u001b[39mnot\u001b[39;00m \u001b[39min\u001b[39;00m [\n\u001b[1;32m    191\u001b[0m     \u001b[39m\"\u001b[39m\u001b[39mbinary\u001b[39m\u001b[39m\"\u001b[39m,\n\u001b[1;32m    192\u001b[0m     \u001b[39m\"\u001b[39m\u001b[39mmulticlass\u001b[39m\u001b[39m\"\u001b[39m,\n\u001b[0;32m   (...)\u001b[0m\n\u001b[1;32m    195\u001b[0m     \u001b[39m\"\u001b[39m\u001b[39mmultilabel-sequences\u001b[39m\u001b[39m\"\u001b[39m,\n\u001b[1;32m    196\u001b[0m ]:\n\u001b[0;32m--> 197\u001b[0m     \u001b[39mraise\u001b[39;00m \u001b[39mValueError\u001b[39;00m(\u001b[39m\"\u001b[39m\u001b[39mUnknown label type: \u001b[39m\u001b[39m%r\u001b[39;00m\u001b[39m\"\u001b[39m \u001b[39m%\u001b[39m y_type)\n",
      "\u001b[0;31mValueError\u001b[0m: Unknown label type: 'continuous'"
     ]
    }
   ],
   "source": [
    "# cluster 2 test sur randomforest\n",
    "data = df_clust2\n",
    "model = RandomForestClassifier()\n",
    "parameters = {'model__n_estimators': range(100, 201, 50), 'model__max_depth': range(10,21,5)}\n",
    "\n",
    "model_testing(data, model, parameters)"
   ]
  },
  {
   "attachments": {},
   "cell_type": "markdown",
   "metadata": {},
   "source": [
    "## (5) Recherche du meilleur modèle ar cluster, les 3 clusters en meme temps"
   ]
  },
  {
   "attachments": {},
   "cell_type": "markdown",
   "metadata": {},
   "source": [
    "Régressions classiques"
   ]
  },
  {
   "cell_type": "code",
   "execution_count": null,
   "metadata": {},
   "outputs": [],
   "source": [
    "# reg lin ols\n",
    "model = LinearRegression()\n",
    "parameters = {}\n",
    "\n",
    "model_testing_cluster(cluster_datasets, model, parameters)"
   ]
  },
  {
   "cell_type": "code",
   "execution_count": null,
   "metadata": {},
   "outputs": [
    {
     "name": "stdout",
     "output_type": "stream",
     "text": [
      "_______________________________________\n",
      "Pour le dataset 0, le meilleur modèle est:\n",
      "Fitting 3 folds for each of 5 candidates, totalling 15 fits\n",
      "CV parameters: {'model__alpha': 0.06}\n",
      "CV score - R2: 0.31018963148519635\n",
      "Test score r2 0.2979497166501973\n",
      "Test score MAE 0.8112072105481336\n",
      "_______________________________________\n",
      "Pour le dataset 0, le meilleur modèle est:\n",
      "Fitting 3 folds for each of 5 candidates, totalling 15 fits\n",
      "CV parameters: {'model__alpha': 0.06}\n",
      "CV score - R2: -0.07377910350311685\n",
      "Test score r2 -0.17304302608564703\n",
      "Test score MAE 0.9338234886459864\n",
      "_______________________________________\n",
      "Pour le dataset 0, le meilleur modèle est:\n",
      "Fitting 3 folds for each of 5 candidates, totalling 15 fits\n",
      "CV parameters: {'model__alpha': 0.06}\n",
      "CV score - R2: 0.13836729031707176\n",
      "Test score r2 0.1671626899145584\n",
      "Test score MAE 0.6997837832598723\n"
     ]
    }
   ],
   "source": [
    "# Ridge\n",
    "model = Ridge()\n",
    "parameters = {'model__alpha': [3, 3.5, 4, 4.5, 5, 5.5, 6, 6.5, 7]}\n",
    "\n",
    "model_testing_cluster(cluster_datasets, model, parameters)"
   ]
  },
  {
   "cell_type": "code",
   "execution_count": null,
   "metadata": {},
   "outputs": [
    {
     "name": "stdout",
     "output_type": "stream",
     "text": [
      "__________________________________________\n",
      "Pour le dataset 0, le meilleur modèle est:\n",
      "Fitting 3 folds for each of 5 candidates, totalling 15 fits\n",
      "CV parameters: {'model__alpha': 550}\n",
      "CV score - R2: -0.0001522949659423419\n",
      "Test score r2 -0.0005785809412013343\n",
      "Test score MAE 0.9894418005178947\n",
      "__________________________________________\n",
      "Pour le dataset 1, le meilleur modèle est:\n",
      "Fitting 3 folds for each of 5 candidates, totalling 15 fits\n",
      "CV parameters: {'model__alpha': 550}\n",
      "CV score - R2: -6.755874466546352e-05\n",
      "Test score r2 -2.4222094296977303e-05\n",
      "Test score MAE 0.8862798554841922\n",
      "__________________________________________\n",
      "Pour le dataset 2, le meilleur modèle est:\n",
      "Fitting 3 folds for each of 5 candidates, totalling 15 fits\n",
      "CV parameters: {'model__alpha': 550}\n",
      "CV score - R2: -0.00021048779149975458\n",
      "Test score r2 -0.0011694223872520393\n",
      "Test score MAE 0.746292959102166\n"
     ]
    }
   ],
   "source": [
    "# Lasso\n",
    "model = Lasso()\n",
    "parameters = {'model__alpha': [0.0001, 0.0002, 0.003]}\n",
    "\n",
    "model_testing_cluster(cluster_datasets, model, parameters)"
   ]
  },
  {
   "cell_type": "code",
   "execution_count": null,
   "metadata": {},
   "outputs": [],
   "source": [
    "# ElasticNet\n",
    "model = ElasticNet()\n",
    "parameters = {\"model__alpha\": [0.0001, 1, 100],\"model__l1_ratio\": np.arange(0.0, 1.0, 0.2)}\n",
    "#parameters = {\"model__alpha\": [0.0001, 0.001, 0.01, 0.1, 1, 10, 100],\"model__l1_ratio\": np.arange(0.0, 1.0, 0.1)}\n",
    "\n",
    "model_testing_cluster(cluster_datasets, model, parameters)\n",
    "\n",
    "# a relancer avec un maxiter plus grand"
   ]
  },
  {
   "attachments": {},
   "cell_type": "markdown",
   "metadata": {},
   "source": [
    "Méthodes d'ensemble"
   ]
  },
  {
   "cell_type": "code",
   "execution_count": null,
   "metadata": {},
   "outputs": [
    {
     "name": "stdout",
     "output_type": "stream",
     "text": [
      "_______________________________________\n",
      "Pour le dataset 0, le meilleur modèle est:\n",
      "Fitting 5 folds for each of 15 candidates, totalling 75 fits\n",
      "CV parameters: {'model__max_depth': 11, 'model__n_estimators': 180}\n",
      "CV score - R2: 0.3600195382334911\n",
      "Test score r2 0.3714714727778695\n",
      "Test score MAE 0.7563478153381318\n",
      "_______________________________________\n",
      "Pour le dataset 0, le meilleur modèle est:\n",
      "Fitting 5 folds for each of 15 candidates, totalling 75 fits\n",
      "CV parameters: {'model__max_depth': 21, 'model__n_estimators': 180}\n",
      "CV score - R2: 0.19474716672197256\n",
      "Test score r2 0.2233475473042461\n",
      "Test score MAE 0.7596942041309867\n",
      "_______________________________________\n",
      "Pour le dataset 0, le meilleur modèle est:\n",
      "Fitting 5 folds for each of 15 candidates, totalling 75 fits\n",
      "CV parameters: {'model__max_depth': 11, 'model__n_estimators': 180}\n",
      "CV score - R2: 0.3747029122960102\n",
      "Test score r2 0.361936473649382\n",
      "Test score MAE 0.585234411450113\n"
     ]
    }
   ],
   "source": [
    "# gradient boosting\n",
    "model = GradientBoostingRegressor()\n",
    "parameters = {'model__n_estimators': range(100, 181, 20), 'model__max_depth': range(1,31,10)}\n",
    "# 'model__learning_rate': range(0,11,2), \n",
    "model_testing_cluster(cluster_datasets, model, parameters)"
   ]
  },
  {
   "cell_type": "code",
   "execution_count": null,
   "metadata": {},
   "outputs": [],
   "source": [
    "# AdaBoost\n",
    "model = AdaBoostRegressor()\n",
    "parameters = {'model__n_estimators': [157, 158]}\n",
    "model_testing(df_clust0, model, parameters)"
   ]
  },
  {
   "cell_type": "code",
   "execution_count": null,
   "metadata": {},
   "outputs": [],
   "source": [
    "# randomForest\n",
    "from sklearn.ensemble import RandomForestRegressor\n",
    "\n",
    "model = RandomForestRegressor()\n",
    "parameters = {'model__n_estimators': range(100, 201, 100), 'model__max_depth': range(10,21,10)}\n",
    "\n",
    "model_testing_cluster(cluster_datasets, model, parameters)"
   ]
  }
 ],
 "metadata": {
  "kernelspec": {
   "display_name": "Netfloox",
   "language": "python",
   "name": "python3"
  },
  "language_info": {
   "codemirror_mode": {
    "name": "ipython",
    "version": 3
   },
   "file_extension": ".py",
   "mimetype": "text/x-python",
   "name": "python",
   "nbconvert_exporter": "python",
   "pygments_lexer": "ipython3",
   "version": "3.9.16"
  },
  "orig_nbformat": 4,
  "vscode": {
   "interpreter": {
    "hash": "150f8bce8a0ed1f6707cea83ffc3775a25deaf29f2e3120fc9d158fd4b5e952f"
   }
  }
 },
 "nbformat": 4,
 "nbformat_minor": 2
}
