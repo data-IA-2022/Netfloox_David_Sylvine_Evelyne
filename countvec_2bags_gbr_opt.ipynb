{
  "cells": [
    {
      "cell_type": "code",
      "execution_count": 40,
      "metadata": {
        "id": "5yyRJeTW6IrF"
      },
      "outputs": [],
      "source": [
        "import pandas as pd\n",
        "import numpy as np\n",
        "from sklearn.linear_model import SGDRegressor\n",
        "from sklearn.ensemble import RandomForestRegressor, AdaBoostRegressor, GradientBoostingRegressor, HistGradientBoostingRegressor\n",
        "from sklearn.preprocessing import RobustScaler\n",
        "from sklearn.pipeline import Pipeline\n",
        "from sklearn.impute import SimpleImputer\n",
        "from sklearn.preprocessing import OneHotEncoder\n",
        "from sklearn.compose import ColumnTransformer\n",
        "from sklearn.model_selection import train_test_split, GridSearchCV\n",
        "from sklearn import metrics\n",
        "from sklearn.decomposition import TruncatedSVD\n",
        "from sklearn.decomposition import PCA\n",
        "from sklearn.feature_extraction.text import CountVectorizer\n",
        "from sklearn import set_config\n",
        "from sklearn.preprocessing import FunctionTransformer\n",
        "from sklearn.metrics import r2_score, mean_absolute_error\n",
        "from matplotlib import pyplot as plt\n",
        "import pickle "
      ]
    },
    {
      "cell_type": "code",
      "execution_count": 41,
      "metadata": {
        "colab": {
          "base_uri": "https://localhost:8080/",
          "height": 609
        },
        "id": "dCXwVRpu6IrO",
        "outputId": "318cfb60-a80b-4e93-b29f-ac86239e1a38"
      },
      "outputs": [
        {
          "data": {
            "text/html": [
              "<div>\n",
              "<style scoped>\n",
              "    .dataframe tbody tr th:only-of-type {\n",
              "        vertical-align: middle;\n",
              "    }\n",
              "\n",
              "    .dataframe tbody tr th {\n",
              "        vertical-align: top;\n",
              "    }\n",
              "\n",
              "    .dataframe thead th {\n",
              "        text-align: right;\n",
              "    }\n",
              "</style>\n",
              "<table border=\"1\" class=\"dataframe\">\n",
              "  <thead>\n",
              "    <tr style=\"text-align: right;\">\n",
              "      <th></th>\n",
              "      <th>decade</th>\n",
              "      <th>runtimeMinutes</th>\n",
              "      <th>genres</th>\n",
              "      <th>nconst</th>\n",
              "      <th>averageRating</th>\n",
              "      <th>numVotes</th>\n",
              "    </tr>\n",
              "  </thead>\n",
              "  <tbody>\n",
              "    <tr>\n",
              "      <th>7</th>\n",
              "      <td>192.0</td>\n",
              "      <td>106.0</td>\n",
              "      <td>Drama Romance</td>\n",
              "      <td>nm0909066 nm0948806 nm0497372 nm0245078 nm0401...</td>\n",
              "      <td>6.0</td>\n",
              "      <td>496</td>\n",
              "    </tr>\n",
              "    <tr>\n",
              "      <th>9</th>\n",
              "      <td>192.0</td>\n",
              "      <td>127.0</td>\n",
              "      <td>Drama War</td>\n",
              "      <td>nm0412014 nm0409109 nm0348705 nm0214113 nm2227...</td>\n",
              "      <td>7.0</td>\n",
              "      <td>2188</td>\n",
              "    </tr>\n",
              "    <tr>\n",
              "      <th>12</th>\n",
              "      <td>193.0</td>\n",
              "      <td>79.0</td>\n",
              "      <td>Drama Romance</td>\n",
              "      <td>nm0719686 nm1393139 nm1393547 nm1394878 nm1394...</td>\n",
              "      <td>6.1</td>\n",
              "      <td>1062</td>\n",
              "    </tr>\n",
              "    <tr>\n",
              "      <th>13</th>\n",
              "      <td>193.0</td>\n",
              "      <td>83.0</td>\n",
              "      <td>Biography Drama Music</td>\n",
              "      <td>nm0250439 nm0923146 nm0440169</td>\n",
              "      <td>6.3</td>\n",
              "      <td>444</td>\n",
              "    </tr>\n",
              "    <tr>\n",
              "      <th>17</th>\n",
              "      <td>193.0</td>\n",
              "      <td>85.0</td>\n",
              "      <td>Drama Romance</td>\n",
              "      <td>nm0801209</td>\n",
              "      <td>6.7</td>\n",
              "      <td>523</td>\n",
              "    </tr>\n",
              "    <tr>\n",
              "      <th>...</th>\n",
              "      <td>...</td>\n",
              "      <td>...</td>\n",
              "      <td>...</td>\n",
              "      <td>...</td>\n",
              "      <td>...</td>\n",
              "      <td>...</td>\n",
              "    </tr>\n",
              "    <tr>\n",
              "      <th>286796</th>\n",
              "      <td>200.0</td>\n",
              "      <td>105.0</td>\n",
              "      <td>Comedy</td>\n",
              "      <td>nm1910698 nm1901451 nm2056354 nm2103617 nm1924...</td>\n",
              "      <td>5.2</td>\n",
              "      <td>8567</td>\n",
              "    </tr>\n",
              "    <tr>\n",
              "      <th>286798</th>\n",
              "      <td>201.0</td>\n",
              "      <td>98.0</td>\n",
              "      <td>Comedy Drama Horror</td>\n",
              "      <td>nm0816003 nm1335461 nm1324246 nm1997974 nm4147...</td>\n",
              "      <td>2.9</td>\n",
              "      <td>1819</td>\n",
              "    </tr>\n",
              "    <tr>\n",
              "      <th>286801</th>\n",
              "      <td>202.0</td>\n",
              "      <td>107.0</td>\n",
              "      <td>Drama Horror</td>\n",
              "      <td>nm11777181 nm3631020 nm13926845 nm9278354 nm10...</td>\n",
              "      <td>5.3</td>\n",
              "      <td>4044</td>\n",
              "    </tr>\n",
              "    <tr>\n",
              "      <th>286804</th>\n",
              "      <td>201.0</td>\n",
              "      <td>85.0</td>\n",
              "      <td>Comedy Crime Drama</td>\n",
              "      <td>nm11470103 nm2543454 nm6598458 nm6599739 nm094...</td>\n",
              "      <td>6.5</td>\n",
              "      <td>1433</td>\n",
              "    </tr>\n",
              "    <tr>\n",
              "      <th>286805</th>\n",
              "      <td>202.0</td>\n",
              "      <td>122.0</td>\n",
              "      <td>Action Drama War</td>\n",
              "      <td>nm8366730 nm8326463 nm12268795 nm11671653 nm11...</td>\n",
              "      <td>5.5</td>\n",
              "      <td>901</td>\n",
              "    </tr>\n",
              "  </tbody>\n",
              "</table>\n",
              "<p>64604 rows × 6 columns</p>\n",
              "</div>"
            ],
            "text/plain": [
              "        decade  runtimeMinutes                 genres  \\\n",
              "7        192.0           106.0          Drama Romance   \n",
              "9        192.0           127.0              Drama War   \n",
              "12       193.0            79.0          Drama Romance   \n",
              "13       193.0            83.0  Biography Drama Music   \n",
              "17       193.0            85.0          Drama Romance   \n",
              "...        ...             ...                    ...   \n",
              "286796   200.0           105.0                 Comedy   \n",
              "286798   201.0            98.0    Comedy Drama Horror   \n",
              "286801   202.0           107.0           Drama Horror   \n",
              "286804   201.0            85.0     Comedy Crime Drama   \n",
              "286805   202.0           122.0       Action Drama War   \n",
              "\n",
              "                                                   nconst  averageRating  \\\n",
              "7       nm0909066 nm0948806 nm0497372 nm0245078 nm0401...            6.0   \n",
              "9       nm0412014 nm0409109 nm0348705 nm0214113 nm2227...            7.0   \n",
              "12      nm0719686 nm1393139 nm1393547 nm1394878 nm1394...            6.1   \n",
              "13                          nm0250439 nm0923146 nm0440169            6.3   \n",
              "17                                              nm0801209            6.7   \n",
              "...                                                   ...            ...   \n",
              "286796  nm1910698 nm1901451 nm2056354 nm2103617 nm1924...            5.2   \n",
              "286798  nm0816003 nm1335461 nm1324246 nm1997974 nm4147...            2.9   \n",
              "286801  nm11777181 nm3631020 nm13926845 nm9278354 nm10...            5.3   \n",
              "286804  nm11470103 nm2543454 nm6598458 nm6599739 nm094...            6.5   \n",
              "286805  nm8366730 nm8326463 nm12268795 nm11671653 nm11...            5.5   \n",
              "\n",
              "        numVotes  \n",
              "7            496  \n",
              "9           2188  \n",
              "12          1062  \n",
              "13           444  \n",
              "17           523  \n",
              "...          ...  \n",
              "286796      8567  \n",
              "286798      1819  \n",
              "286801      4044  \n",
              "286804      1433  \n",
              "286805       901  \n",
              "\n",
              "[64604 rows x 6 columns]"
            ]
          },
          "execution_count": 41,
          "metadata": {},
          "output_type": "execute_result"
        }
      ],
      "source": [
        "# Import de la jointure contenant les données des tables title_basics, name.basics et title.ratings\n",
        "df = pd.read_csv('datasets/basics_knownForTitles_ratings.csv', index_col=0)\n",
        "(df.tconst.value_counts() == 1).all()\n",
        "df = df.query('numVotes >= 375')\n",
        "df = df.dropna()\n",
        "df = df.query('isAdult == 0')\n",
        "df = df.drop(columns=['tconst', 'primaryTitle','isAdult'], axis=1)\n",
        "df['nconst'] = df['nconst'].str.replace(',', ' ')\n",
        "df['genres'] = df['genres'].str.replace(',', ' ')\n",
        "df"
      ]
    },
    {
      "cell_type": "code",
      "execution_count": 42,
      "metadata": {
        "id": "ZVxB-LnsjVaR"
      },
      "outputs": [],
      "source": [
        "# Numerical variables\n",
        "column_num = ['decade', 'runtimeMinutes']\n",
        "transfo_num = Pipeline(steps=[\n",
        "    ('scaling', RobustScaler())\n",
        "])"
      ]
    },
    {
      "cell_type": "code",
      "execution_count": 43,
      "metadata": {
        "id": "iMoMjnI3g2T1"
      },
      "outputs": [],
      "source": [
        "# Categorical variables\n",
        "column_tex1 = 'genres'\n",
        "column_tex2 = 'nconst'\n",
        "transfo_tex = Pipeline(steps=[\n",
        "    ('countvec', CountVectorizer()), \n",
        "    ('dr', TruncatedSVD())    \n",
        "    ])"
      ]
    },
    {
      "cell_type": "code",
      "execution_count": 44,
      "metadata": {
        "id": "xlBb4nikkEhy"
      },
      "outputs": [],
      "source": [
        "# Class ColumnTransformer : apply alls steps on the whole dataset\n",
        "preparation = ColumnTransformer(\n",
        "    transformers=[\n",
        "        ('data_tex1', transfo_tex , column_tex1),\n",
        "        ('data_tex2', transfo_tex , column_tex2),\n",
        "        ('data_num', transfo_num , column_num)\n",
        "    ])"
      ]
    },
    {
      "cell_type": "code",
      "execution_count": 45,
      "metadata": {
        "id": "nFKMGmxKlf3p"
      },
      "outputs": [],
      "source": [
        "# Declare the pipeline\n",
        "pipe = Pipeline(steps=[('preparation', preparation),\n",
        "                        ('model', HistGradientBoostingRegressor())])"
      ]
    },
    {
      "cell_type": "code",
      "execution_count": 46,
      "metadata": {
        "colab": {
          "base_uri": "https://localhost:8080/"
        },
        "id": "iPR2ATmG3g3O",
        "outputId": "4b8f7de8-51a1-44fe-9c1d-4b5662c01926"
      },
      "outputs": [
        {
          "data": {
            "text/plain": [
              "dict_keys(['memory', 'steps', 'verbose', 'preparation', 'model', 'preparation__n_jobs', 'preparation__remainder', 'preparation__sparse_threshold', 'preparation__transformer_weights', 'preparation__transformers', 'preparation__verbose', 'preparation__verbose_feature_names_out', 'preparation__data_tex1', 'preparation__data_tex2', 'preparation__data_num', 'preparation__data_tex1__memory', 'preparation__data_tex1__steps', 'preparation__data_tex1__verbose', 'preparation__data_tex1__countvec', 'preparation__data_tex1__dr', 'preparation__data_tex1__countvec__analyzer', 'preparation__data_tex1__countvec__binary', 'preparation__data_tex1__countvec__decode_error', 'preparation__data_tex1__countvec__dtype', 'preparation__data_tex1__countvec__encoding', 'preparation__data_tex1__countvec__input', 'preparation__data_tex1__countvec__lowercase', 'preparation__data_tex1__countvec__max_df', 'preparation__data_tex1__countvec__max_features', 'preparation__data_tex1__countvec__min_df', 'preparation__data_tex1__countvec__ngram_range', 'preparation__data_tex1__countvec__preprocessor', 'preparation__data_tex1__countvec__stop_words', 'preparation__data_tex1__countvec__strip_accents', 'preparation__data_tex1__countvec__token_pattern', 'preparation__data_tex1__countvec__tokenizer', 'preparation__data_tex1__countvec__vocabulary', 'preparation__data_tex1__dr__algorithm', 'preparation__data_tex1__dr__n_components', 'preparation__data_tex1__dr__n_iter', 'preparation__data_tex1__dr__n_oversamples', 'preparation__data_tex1__dr__power_iteration_normalizer', 'preparation__data_tex1__dr__random_state', 'preparation__data_tex1__dr__tol', 'preparation__data_tex2__memory', 'preparation__data_tex2__steps', 'preparation__data_tex2__verbose', 'preparation__data_tex2__countvec', 'preparation__data_tex2__dr', 'preparation__data_tex2__countvec__analyzer', 'preparation__data_tex2__countvec__binary', 'preparation__data_tex2__countvec__decode_error', 'preparation__data_tex2__countvec__dtype', 'preparation__data_tex2__countvec__encoding', 'preparation__data_tex2__countvec__input', 'preparation__data_tex2__countvec__lowercase', 'preparation__data_tex2__countvec__max_df', 'preparation__data_tex2__countvec__max_features', 'preparation__data_tex2__countvec__min_df', 'preparation__data_tex2__countvec__ngram_range', 'preparation__data_tex2__countvec__preprocessor', 'preparation__data_tex2__countvec__stop_words', 'preparation__data_tex2__countvec__strip_accents', 'preparation__data_tex2__countvec__token_pattern', 'preparation__data_tex2__countvec__tokenizer', 'preparation__data_tex2__countvec__vocabulary', 'preparation__data_tex2__dr__algorithm', 'preparation__data_tex2__dr__n_components', 'preparation__data_tex2__dr__n_iter', 'preparation__data_tex2__dr__n_oversamples', 'preparation__data_tex2__dr__power_iteration_normalizer', 'preparation__data_tex2__dr__random_state', 'preparation__data_tex2__dr__tol', 'preparation__data_num__memory', 'preparation__data_num__steps', 'preparation__data_num__verbose', 'preparation__data_num__scaling', 'preparation__data_num__scaling__copy', 'preparation__data_num__scaling__quantile_range', 'preparation__data_num__scaling__unit_variance', 'preparation__data_num__scaling__with_centering', 'preparation__data_num__scaling__with_scaling', 'model__categorical_features', 'model__early_stopping', 'model__interaction_cst', 'model__l2_regularization', 'model__learning_rate', 'model__loss', 'model__max_bins', 'model__max_depth', 'model__max_iter', 'model__max_leaf_nodes', 'model__min_samples_leaf', 'model__monotonic_cst', 'model__n_iter_no_change', 'model__quantile', 'model__random_state', 'model__scoring', 'model__tol', 'model__validation_fraction', 'model__verbose', 'model__warm_start'])"
            ]
          },
          "execution_count": 46,
          "metadata": {},
          "output_type": "execute_result"
        }
      ],
      "source": [
        "pipe.get_params().keys()"
      ]
    },
    {
      "cell_type": "code",
      "execution_count": 47,
      "metadata": {
        "id": "rxnpJWNcnNXo"
      },
      "outputs": [],
      "source": [
        "# Declare model and parameter for Grid Search\n",
        "parameters = {'model__learning_rate': [ 0.001, 0.05], 'model__max_iter' : range(160, 190, 10), 'model__max_leaf_nodes': range(100, 110, 10), 'model__max_depth': range(11, 12), 'model__min_samples_leaf' : range(40, 50, 10)}"
      ]
    },
    {
      "cell_type": "code",
      "execution_count": 48,
      "metadata": {
        "id": "uH2yYqVMnQST"
      },
      "outputs": [],
      "source": [
        "# Declare the Grid Search method\n",
        "grid = GridSearchCV(pipe, parameters, scoring=['r2', 'neg_mean_absolute_error'], refit='r2', cv = 3, n_jobs =-1, verbose = 1)"
      ]
    },
    {
      "cell_type": "code",
      "execution_count": 49,
      "metadata": {
        "colab": {
          "base_uri": "https://localhost:8080/",
          "height": 153
        },
        "id": "KZOnm-OQkb2k",
        "outputId": "af14d55b-3be7-4aa5-8daa-c572e99911a4"
      },
      "outputs": [
        {
          "data": {
            "text/html": [
              "<style>#sk-container-id-3 {color: black;background-color: white;}#sk-container-id-3 pre{padding: 0;}#sk-container-id-3 div.sk-toggleable {background-color: white;}#sk-container-id-3 label.sk-toggleable__label {cursor: pointer;display: block;width: 100%;margin-bottom: 0;padding: 0.3em;box-sizing: border-box;text-align: center;}#sk-container-id-3 label.sk-toggleable__label-arrow:before {content: \"▸\";float: left;margin-right: 0.25em;color: #696969;}#sk-container-id-3 label.sk-toggleable__label-arrow:hover:before {color: black;}#sk-container-id-3 div.sk-estimator:hover label.sk-toggleable__label-arrow:before {color: black;}#sk-container-id-3 div.sk-toggleable__content {max-height: 0;max-width: 0;overflow: hidden;text-align: left;background-color: #f0f8ff;}#sk-container-id-3 div.sk-toggleable__content pre {margin: 0.2em;color: black;border-radius: 0.25em;background-color: #f0f8ff;}#sk-container-id-3 input.sk-toggleable__control:checked~div.sk-toggleable__content {max-height: 200px;max-width: 100%;overflow: auto;}#sk-container-id-3 input.sk-toggleable__control:checked~label.sk-toggleable__label-arrow:before {content: \"▾\";}#sk-container-id-3 div.sk-estimator input.sk-toggleable__control:checked~label.sk-toggleable__label {background-color: #d4ebff;}#sk-container-id-3 div.sk-label input.sk-toggleable__control:checked~label.sk-toggleable__label {background-color: #d4ebff;}#sk-container-id-3 input.sk-hidden--visually {border: 0;clip: rect(1px 1px 1px 1px);clip: rect(1px, 1px, 1px, 1px);height: 1px;margin: -1px;overflow: hidden;padding: 0;position: absolute;width: 1px;}#sk-container-id-3 div.sk-estimator {font-family: monospace;background-color: #f0f8ff;border: 1px dotted black;border-radius: 0.25em;box-sizing: border-box;margin-bottom: 0.5em;}#sk-container-id-3 div.sk-estimator:hover {background-color: #d4ebff;}#sk-container-id-3 div.sk-parallel-item::after {content: \"\";width: 100%;border-bottom: 1px solid gray;flex-grow: 1;}#sk-container-id-3 div.sk-label:hover label.sk-toggleable__label {background-color: #d4ebff;}#sk-container-id-3 div.sk-serial::before {content: \"\";position: absolute;border-left: 1px solid gray;box-sizing: border-box;top: 0;bottom: 0;left: 50%;z-index: 0;}#sk-container-id-3 div.sk-serial {display: flex;flex-direction: column;align-items: center;background-color: white;padding-right: 0.2em;padding-left: 0.2em;position: relative;}#sk-container-id-3 div.sk-item {position: relative;z-index: 1;}#sk-container-id-3 div.sk-parallel {display: flex;align-items: stretch;justify-content: center;background-color: white;position: relative;}#sk-container-id-3 div.sk-item::before, #sk-container-id-3 div.sk-parallel-item::before {content: \"\";position: absolute;border-left: 1px solid gray;box-sizing: border-box;top: 0;bottom: 0;left: 50%;z-index: -1;}#sk-container-id-3 div.sk-parallel-item {display: flex;flex-direction: column;z-index: 1;position: relative;background-color: white;}#sk-container-id-3 div.sk-parallel-item:first-child::after {align-self: flex-end;width: 50%;}#sk-container-id-3 div.sk-parallel-item:last-child::after {align-self: flex-start;width: 50%;}#sk-container-id-3 div.sk-parallel-item:only-child::after {width: 0;}#sk-container-id-3 div.sk-dashed-wrapped {border: 1px dashed gray;margin: 0 0.4em 0.5em 0.4em;box-sizing: border-box;padding-bottom: 0.4em;background-color: white;}#sk-container-id-3 div.sk-label label {font-family: monospace;font-weight: bold;display: inline-block;line-height: 1.2em;}#sk-container-id-3 div.sk-label-container {text-align: center;}#sk-container-id-3 div.sk-container {/* jupyter's `normalize.less` sets `[hidden] { display: none; }` but bootstrap.min.css set `[hidden] { display: none !important; }` so we also need the `!important` here to be able to override the default hidden behavior on the sphinx rendered scikit-learn.org. See: https://github.com/scikit-learn/scikit-learn/issues/21755 */display: inline-block !important;position: relative;}#sk-container-id-3 div.sk-text-repr-fallback {display: none;}</style><div id=\"sk-container-id-3\" class=\"sk-top-container\"><div class=\"sk-text-repr-fallback\"><pre>ColumnTransformer(transformers=[(&#x27;data_tex1&#x27;,\n",
              "                                 Pipeline(steps=[(&#x27;countvec&#x27;,\n",
              "                                                  CountVectorizer()),\n",
              "                                                 (&#x27;dr&#x27;, TruncatedSVD())]),\n",
              "                                 &#x27;genres&#x27;),\n",
              "                                (&#x27;data_tex2&#x27;,\n",
              "                                 Pipeline(steps=[(&#x27;countvec&#x27;,\n",
              "                                                  CountVectorizer()),\n",
              "                                                 (&#x27;dr&#x27;, TruncatedSVD())]),\n",
              "                                 &#x27;nconst&#x27;),\n",
              "                                (&#x27;data_num&#x27;,\n",
              "                                 Pipeline(steps=[(&#x27;scaling&#x27;, RobustScaler())]),\n",
              "                                 [&#x27;decade&#x27;, &#x27;runtimeMinutes&#x27;])])</pre><b>In a Jupyter environment, please rerun this cell to show the HTML representation or trust the notebook. <br />On GitHub, the HTML representation is unable to render, please try loading this page with nbviewer.org.</b></div><div class=\"sk-container\" hidden><div class=\"sk-item sk-dashed-wrapped\"><div class=\"sk-label-container\"><div class=\"sk-label sk-toggleable\"><input class=\"sk-toggleable__control sk-hidden--visually\" id=\"sk-estimator-id-19\" type=\"checkbox\" ><label for=\"sk-estimator-id-19\" class=\"sk-toggleable__label sk-toggleable__label-arrow\">ColumnTransformer</label><div class=\"sk-toggleable__content\"><pre>ColumnTransformer(transformers=[(&#x27;data_tex1&#x27;,\n",
              "                                 Pipeline(steps=[(&#x27;countvec&#x27;,\n",
              "                                                  CountVectorizer()),\n",
              "                                                 (&#x27;dr&#x27;, TruncatedSVD())]),\n",
              "                                 &#x27;genres&#x27;),\n",
              "                                (&#x27;data_tex2&#x27;,\n",
              "                                 Pipeline(steps=[(&#x27;countvec&#x27;,\n",
              "                                                  CountVectorizer()),\n",
              "                                                 (&#x27;dr&#x27;, TruncatedSVD())]),\n",
              "                                 &#x27;nconst&#x27;),\n",
              "                                (&#x27;data_num&#x27;,\n",
              "                                 Pipeline(steps=[(&#x27;scaling&#x27;, RobustScaler())]),\n",
              "                                 [&#x27;decade&#x27;, &#x27;runtimeMinutes&#x27;])])</pre></div></div></div><div class=\"sk-parallel\"><div class=\"sk-parallel-item\"><div class=\"sk-item\"><div class=\"sk-label-container\"><div class=\"sk-label sk-toggleable\"><input class=\"sk-toggleable__control sk-hidden--visually\" id=\"sk-estimator-id-20\" type=\"checkbox\" ><label for=\"sk-estimator-id-20\" class=\"sk-toggleable__label sk-toggleable__label-arrow\">data_tex1</label><div class=\"sk-toggleable__content\"><pre>genres</pre></div></div></div><div class=\"sk-serial\"><div class=\"sk-item\"><div class=\"sk-serial\"><div class=\"sk-item\"><div class=\"sk-estimator sk-toggleable\"><input class=\"sk-toggleable__control sk-hidden--visually\" id=\"sk-estimator-id-21\" type=\"checkbox\" ><label for=\"sk-estimator-id-21\" class=\"sk-toggleable__label sk-toggleable__label-arrow\">CountVectorizer</label><div class=\"sk-toggleable__content\"><pre>CountVectorizer()</pre></div></div></div><div class=\"sk-item\"><div class=\"sk-estimator sk-toggleable\"><input class=\"sk-toggleable__control sk-hidden--visually\" id=\"sk-estimator-id-22\" type=\"checkbox\" ><label for=\"sk-estimator-id-22\" class=\"sk-toggleable__label sk-toggleable__label-arrow\">TruncatedSVD</label><div class=\"sk-toggleable__content\"><pre>TruncatedSVD()</pre></div></div></div></div></div></div></div></div><div class=\"sk-parallel-item\"><div class=\"sk-item\"><div class=\"sk-label-container\"><div class=\"sk-label sk-toggleable\"><input class=\"sk-toggleable__control sk-hidden--visually\" id=\"sk-estimator-id-23\" type=\"checkbox\" ><label for=\"sk-estimator-id-23\" class=\"sk-toggleable__label sk-toggleable__label-arrow\">data_tex2</label><div class=\"sk-toggleable__content\"><pre>nconst</pre></div></div></div><div class=\"sk-serial\"><div class=\"sk-item\"><div class=\"sk-serial\"><div class=\"sk-item\"><div class=\"sk-estimator sk-toggleable\"><input class=\"sk-toggleable__control sk-hidden--visually\" id=\"sk-estimator-id-24\" type=\"checkbox\" ><label for=\"sk-estimator-id-24\" class=\"sk-toggleable__label sk-toggleable__label-arrow\">CountVectorizer</label><div class=\"sk-toggleable__content\"><pre>CountVectorizer()</pre></div></div></div><div class=\"sk-item\"><div class=\"sk-estimator sk-toggleable\"><input class=\"sk-toggleable__control sk-hidden--visually\" id=\"sk-estimator-id-25\" type=\"checkbox\" ><label for=\"sk-estimator-id-25\" class=\"sk-toggleable__label sk-toggleable__label-arrow\">TruncatedSVD</label><div class=\"sk-toggleable__content\"><pre>TruncatedSVD()</pre></div></div></div></div></div></div></div></div><div class=\"sk-parallel-item\"><div class=\"sk-item\"><div class=\"sk-label-container\"><div class=\"sk-label sk-toggleable\"><input class=\"sk-toggleable__control sk-hidden--visually\" id=\"sk-estimator-id-26\" type=\"checkbox\" ><label for=\"sk-estimator-id-26\" class=\"sk-toggleable__label sk-toggleable__label-arrow\">data_num</label><div class=\"sk-toggleable__content\"><pre>[&#x27;decade&#x27;, &#x27;runtimeMinutes&#x27;]</pre></div></div></div><div class=\"sk-serial\"><div class=\"sk-item\"><div class=\"sk-serial\"><div class=\"sk-item\"><div class=\"sk-estimator sk-toggleable\"><input class=\"sk-toggleable__control sk-hidden--visually\" id=\"sk-estimator-id-27\" type=\"checkbox\" ><label for=\"sk-estimator-id-27\" class=\"sk-toggleable__label sk-toggleable__label-arrow\">RobustScaler</label><div class=\"sk-toggleable__content\"><pre>RobustScaler()</pre></div></div></div></div></div></div></div></div></div></div></div></div>"
            ],
            "text/plain": [
              "ColumnTransformer(transformers=[('data_tex1',\n",
              "                                 Pipeline(steps=[('countvec',\n",
              "                                                  CountVectorizer()),\n",
              "                                                 ('dr', TruncatedSVD())]),\n",
              "                                 'genres'),\n",
              "                                ('data_tex2',\n",
              "                                 Pipeline(steps=[('countvec',\n",
              "                                                  CountVectorizer()),\n",
              "                                                 ('dr', TruncatedSVD())]),\n",
              "                                 'nconst'),\n",
              "                                ('data_num',\n",
              "                                 Pipeline(steps=[('scaling', RobustScaler())]),\n",
              "                                 ['decade', 'runtimeMinutes'])])"
            ]
          },
          "execution_count": 49,
          "metadata": {},
          "output_type": "execute_result"
        }
      ],
      "source": [
        "# Display diagram\n",
        "set_config(display=\"diagram\")\n",
        "preparation"
      ]
    },
    {
      "cell_type": "code",
      "execution_count": 50,
      "metadata": {
        "colab": {
          "base_uri": "https://localhost:8080/",
          "height": 245
        },
        "id": "3qDKD0rhrb1r",
        "outputId": "db4e4491-3d45-4939-ac91-120220bcd2dd"
      },
      "outputs": [
        {
          "name": "stdout",
          "output_type": "stream",
          "text": [
            "Fitting 3 folds for each of 6 candidates, totalling 18 fits\n"
          ]
        }
      ],
      "source": [
        "# Fit the model\n",
        "y = df['averageRating']\n",
        "X = df.drop(columns='averageRating')\n",
        "X_train, X_test, y_train, y_test = train_test_split(X, y, test_size=0.4, random_state=0)\n",
        "model = grid.fit(X_train, y_train)"
      ]
    },
    {
      "cell_type": "code",
      "execution_count": 51,
      "metadata": {},
      "outputs": [],
      "source": [
        "pickle_out = open(\"model.pkl\", \"wb\")\n",
        "pickle.dump(model, pickle_out)\n",
        "pickle_out.close() "
      ]
    },
    {
      "cell_type": "code",
      "execution_count": 52,
      "metadata": {
        "colab": {
          "base_uri": "https://localhost:8080/"
        },
        "id": "fKH2xlNM9fqN",
        "outputId": "011aa940-84fa-4f12-e4b7-3bb52efbcdfc"
      },
      "outputs": [
        {
          "name": "stdout",
          "output_type": "stream",
          "text": [
            "CV score: 0.3547884749222536\n"
          ]
        }
      ],
      "source": [
        "# Evaluate cross validation performance \n",
        "print(\"CV score:\", grid.best_score_)"
      ]
    },
    {
      "cell_type": "code",
      "execution_count": 53,
      "metadata": {
        "colab": {
          "base_uri": "https://localhost:8080/"
        },
        "id": "Lgt232jdK6Gy",
        "outputId": "fe922761-182c-4c56-b9f7-f811e72fca2e"
      },
      "outputs": [
        {
          "name": "stdout",
          "output_type": "stream",
          "text": [
            "CV parameters: {'model__learning_rate': 0.05, 'model__max_depth': 11, 'model__max_iter': 180, 'model__max_leaf_nodes': 100, 'model__min_samples_leaf': 40}\n"
          ]
        }
      ],
      "source": [
        "# Find the best parameters \n",
        "print(\"CV parameters:\", grid.best_params_)"
      ]
    },
    {
      "cell_type": "code",
      "execution_count": 54,
      "metadata": {
        "id": "WHjAPK0l9lmH"
      },
      "outputs": [],
      "source": [
        "# Make predictions\n",
        "y_pred = grid.predict(X_test)"
      ]
    },
    {
      "cell_type": "code",
      "execution_count": 55,
      "metadata": {
        "colab": {
          "base_uri": "https://localhost:8080/"
        },
        "id": "Xp98_LLv9pGM",
        "outputId": "563ff7d1-efcf-4f8a-9b3b-753a4b40b65c"
      },
      "outputs": [
        {
          "name": "stdout",
          "output_type": "stream",
          "text": [
            "R2 score 0.3749683769103265\n",
            "MAE 0.7354239462687218\n"
          ]
        }
      ],
      "source": [
        "# Evaluate model performance\n",
        "print(\"R2 score\", r2_score(y_test, y_pred))\n",
        "print(\"MAE\", mean_absolute_error(y_test, y_pred))"
      ]
    },
    {
      "cell_type": "code",
      "execution_count": 56,
      "metadata": {
        "colab": {
          "base_uri": "https://localhost:8080/",
          "height": 298
        },
        "id": "KmN3JRgk7_qj",
        "outputId": "1632ec23-a393-4725-90e1-75c94d4061ea"
      },
      "outputs": [
        {
          "data": {
            "text/plain": [
              "Text(0.5, 1.0, 'Distribution Exponentielle de la MAE')"
            ]
          },
          "execution_count": 56,
          "metadata": {},
          "output_type": "execute_result"
        },
        {
          "data": {
            "image/png": "[encoded data removed]",
            "text/plain": [
              "<Figure size 640x480 with 1 Axes>"
            ]
          },
          "metadata": {},
          "output_type": "display_data"
        }
      ],
      "source": [
        "fig1, ax1 = plt.subplots()\n",
        "err_hist = np.abs(y_test - y_pred)\n",
        "plt.hist(err_hist, bins=50)\n",
        "ax1.set_title('Distribution Exponentielle de la MAE')"
      ]
    },
    {
      "cell_type": "code",
      "execution_count": 57,
      "metadata": {
        "colab": {
          "base_uri": "https://localhost:8080/",
          "height": 420
        },
        "id": "4u5ujjRN9tkd",
        "outputId": "edee459f-8a6a-4b99-a5b5-39de0b6f4236"
      },
      "outputs": [
        {
          "data": {
            "text/plain": [
              "{'whiskers': [<matplotlib.lines.Line2D at 0x7f8dc9d471c0>,\n",
              "  <matplotlib.lines.Line2D at 0x7f8dc9d47460>],\n",
              " 'caps': [<matplotlib.lines.Line2D at 0x7f8dc9d47700>,\n",
              "  <matplotlib.lines.Line2D at 0x7f8dc9d479a0>],\n",
              " 'boxes': [<matplotlib.lines.Line2D at 0x7f8db2efeeb0>],\n",
              " 'medians': [<matplotlib.lines.Line2D at 0x7f8dc9d47c40>],\n",
              " 'fliers': [<matplotlib.lines.Line2D at 0x7f8dc9d47ee0>],\n",
              " 'means': []}"
            ]
          },
          "execution_count": 57,
          "metadata": {},
          "output_type": "execute_result"
        },
        {
          "data": {
            "image/png": "[encoded data removed]",
            "text/plain": [
              "<Figure size 640x480 with 1 Axes>"
            ]
          },
          "metadata": {},
          "output_type": "display_data"
        }
      ],
      "source": [
        "fig1, ax1 = plt.subplots()\n",
        "ax1.set_title('MAE Boxplot')\n",
        "ax1.boxplot(err_hist)"
      ]
    }
  ],
  "metadata": {
    "accelerator": "TPU",
    "colab": {
      "provenance": []
    },
    "gpuClass": "standard",
    "kernelspec": {
      "display_name": "Netfloox",
      "language": "python",
      "name": "python3"
    },
    "language_info": {
      "codemirror_mode": {
        "name": "ipython",
        "version": 3
      },
      "file_extension": ".py",
      "mimetype": "text/x-python",
      "name": "python",
      "nbconvert_exporter": "python",
      "pygments_lexer": "ipython3",
      "version": "3.9.16"
    },
    "vscode": {
      "interpreter": {
        "hash": "150f8bce8a0ed1f6707cea83ffc3775a25deaf29f2e3120fc9d158fd4b5e952f"
      }
    }
  },
  "nbformat": 4,
  "nbformat_minor": 0
}
