{
  "cells": [
    {
      "cell_type": "code",
      "execution_count": 35,
      "metadata": {
        "id": "5yyRJeTW6IrF"
      },
      "outputs": [],
      "source": [
        "import pandas as pd\n",
        "import numpy as np\n",
        "from sklearn.linear_model import SGDRegressor\n",
        "from sklearn.ensemble import RandomForestRegressor, AdaBoostRegressor\n",
        "from sklearn.preprocessing import RobustScaler\n",
        "from sklearn.pipeline import Pipeline\n",
        "from sklearn.impute import SimpleImputer\n",
        "from sklearn.preprocessing import OneHotEncoder\n",
        "from sklearn.compose import ColumnTransformer\n",
        "from sklearn.model_selection import train_test_split, GridSearchCV\n",
        "from sklearn import metrics\n",
        "from sklearn.decomposition import TruncatedSVD\n",
        "from sklearn.decomposition import PCA\n",
        "from sklearn.feature_extraction.text import CountVectorizer\n",
        "from sklearn import set_config\n",
        "from sklearn.preprocessing import FunctionTransformer\n",
        "from sklearn.metrics import r2_score"
      ]
    },
    {
      "cell_type": "code",
      "source": [
        "# mount GoogleDrive and set the files path\n",
        "from google.colab import drive\n",
        "drive.mount('/content/drive')\n",
        "%cd '/content/drive/MyDrive/NETFLOOX'"
      ],
      "metadata": {
        "colab": {
          "base_uri": "https://localhost:8080/"
        },
        "id": "7WKsHqaN6Nqm",
        "outputId": "bb968377-6180-4947-b589-566b18de111c"
      },
      "execution_count": 4,
      "outputs": [
        {
          "output_type": "stream",
          "name": "stdout",
          "text": [
            "Mounted at /content/drive\n",
            "/content/drive/MyDrive/NETFLOOX\n"
          ]
        }
      ]
    },
    {
      "cell_type": "code",
      "execution_count": 5,
      "metadata": {
        "colab": {
          "base_uri": "https://localhost:8080/",
          "height": 423
        },
        "id": "dCXwVRpu6IrO",
        "outputId": "793e72e5-22bf-411f-9f61-c1eebdc784d1"
      },
      "outputs": [
        {
          "output_type": "execute_result",
          "data": {
            "text/plain": [
              "            tconst                   genres  runtimeMinutes  averageRating  \\\n",
              "0       tt19730260                  Musical           154.0            9.0   \n",
              "7       tt14691678                    Drama           147.0            8.3   \n",
              "8       tt12716284           Comedy,Romance             NaN            5.1   \n",
              "10       tt9130460            Action,Comedy             NaN            4.7   \n",
              "11      tt14333040                    Drama           153.0            4.3   \n",
              "...            ...                      ...             ...            ...   \n",
              "900014  tt19712468                    Drama            70.0            8.9   \n",
              "900017   tt1971393    Action,Drama,Thriller            92.0            5.3   \n",
              "900020  tt19715754              Documentary             NaN            8.5   \n",
              "900030  tt19727878  Horror,Mystery,Thriller           118.0            4.8   \n",
              "900037   tt1972816             Comedy,Drama            55.0            6.1   \n",
              "\n",
              "               director_name  \n",
              "0                  Haricheth  \n",
              "7                S. Mahendar  \n",
              "8                Dinesh Babu  \n",
              "10            Om Sai Prakash  \n",
              "11            Om Sai Prakash  \n",
              "...                      ...  \n",
              "900014       S.S. Jishnu Dev  \n",
              "900017      Fernando A. Mico  \n",
              "900020  Ali Necati Kumcuoglu  \n",
              "900030             Any Gacha  \n",
              "900037       Markus Aaltonen  \n",
              "\n",
              "[196229 rows x 5 columns]"
            ],
            "text/html": [
              "\n",
              "  <div id=\"df-5b80e36a-2077-4c10-b4e8-5a604dfaf20b\">\n",
              "    <div class=\"colab-df-container\">\n",
              "      <div>\n",
              "<style scoped>\n",
              "    .dataframe tbody tr th:only-of-type {\n",
              "        vertical-align: middle;\n",
              "    }\n",
              "\n",
              "    .dataframe tbody tr th {\n",
              "        vertical-align: top;\n",
              "    }\n",
              "\n",
              "    .dataframe thead th {\n",
              "        text-align: right;\n",
              "    }\n",
              "</style>\n",
              "<table border=\"1\" class=\"dataframe\">\n",
              "  <thead>\n",
              "    <tr style=\"text-align: right;\">\n",
              "      <th></th>\n",
              "      <th>tconst</th>\n",
              "      <th>genres</th>\n",
              "      <th>runtimeMinutes</th>\n",
              "      <th>averageRating</th>\n",
              "      <th>director_name</th>\n",
              "    </tr>\n",
              "  </thead>\n",
              "  <tbody>\n",
              "    <tr>\n",
              "      <th>0</th>\n",
              "      <td>tt19730260</td>\n",
              "      <td>Musical</td>\n",
              "      <td>154.0</td>\n",
              "      <td>9.0</td>\n",
              "      <td>Haricheth</td>\n",
              "    </tr>\n",
              "    <tr>\n",
              "      <th>7</th>\n",
              "      <td>tt14691678</td>\n",
              "      <td>Drama</td>\n",
              "      <td>147.0</td>\n",
              "      <td>8.3</td>\n",
              "      <td>S. Mahendar</td>\n",
              "    </tr>\n",
              "    <tr>\n",
              "      <th>8</th>\n",
              "      <td>tt12716284</td>\n",
              "      <td>Comedy,Romance</td>\n",
              "      <td>NaN</td>\n",
              "      <td>5.1</td>\n",
              "      <td>Dinesh Babu</td>\n",
              "    </tr>\n",
              "    <tr>\n",
              "      <th>10</th>\n",
              "      <td>tt9130460</td>\n",
              "      <td>Action,Comedy</td>\n",
              "      <td>NaN</td>\n",
              "      <td>4.7</td>\n",
              "      <td>Om Sai Prakash</td>\n",
              "    </tr>\n",
              "    <tr>\n",
              "      <th>11</th>\n",
              "      <td>tt14333040</td>\n",
              "      <td>Drama</td>\n",
              "      <td>153.0</td>\n",
              "      <td>4.3</td>\n",
              "      <td>Om Sai Prakash</td>\n",
              "    </tr>\n",
              "    <tr>\n",
              "      <th>...</th>\n",
              "      <td>...</td>\n",
              "      <td>...</td>\n",
              "      <td>...</td>\n",
              "      <td>...</td>\n",
              "      <td>...</td>\n",
              "    </tr>\n",
              "    <tr>\n",
              "      <th>900014</th>\n",
              "      <td>tt19712468</td>\n",
              "      <td>Drama</td>\n",
              "      <td>70.0</td>\n",
              "      <td>8.9</td>\n",
              "      <td>S.S. Jishnu Dev</td>\n",
              "    </tr>\n",
              "    <tr>\n",
              "      <th>900017</th>\n",
              "      <td>tt1971393</td>\n",
              "      <td>Action,Drama,Thriller</td>\n",
              "      <td>92.0</td>\n",
              "      <td>5.3</td>\n",
              "      <td>Fernando A. Mico</td>\n",
              "    </tr>\n",
              "    <tr>\n",
              "      <th>900020</th>\n",
              "      <td>tt19715754</td>\n",
              "      <td>Documentary</td>\n",
              "      <td>NaN</td>\n",
              "      <td>8.5</td>\n",
              "      <td>Ali Necati Kumcuoglu</td>\n",
              "    </tr>\n",
              "    <tr>\n",
              "      <th>900030</th>\n",
              "      <td>tt19727878</td>\n",
              "      <td>Horror,Mystery,Thriller</td>\n",
              "      <td>118.0</td>\n",
              "      <td>4.8</td>\n",
              "      <td>Any Gacha</td>\n",
              "    </tr>\n",
              "    <tr>\n",
              "      <th>900037</th>\n",
              "      <td>tt1972816</td>\n",
              "      <td>Comedy,Drama</td>\n",
              "      <td>55.0</td>\n",
              "      <td>6.1</td>\n",
              "      <td>Markus Aaltonen</td>\n",
              "    </tr>\n",
              "  </tbody>\n",
              "</table>\n",
              "<p>196229 rows × 5 columns</p>\n",
              "</div>\n",
              "      <button class=\"colab-df-convert\" onclick=\"convertToInteractive('df-5b80e36a-2077-4c10-b4e8-5a604dfaf20b')\"\n",
              "              title=\"Convert this dataframe to an interactive table.\"\n",
              "              style=\"display:none;\">\n",
              "        \n",
              "  <svg xmlns=\"http://www.w3.org/2000/svg\" height=\"24px\"viewBox=\"0 0 24 24\"\n",
              "       width=\"24px\">\n",
              "    <path d=\"M0 0h24v24H0V0z\" fill=\"none\"/>\n",
              "    <path d=\"M18.56 5.44l.94 2.06.94-2.06 2.06-.94-2.06-.94-.94-2.06-.94 2.06-2.06.94zm-11 1L8.5 8.5l.94-2.06 2.06-.94-2.06-.94L8.5 2.5l-.94 2.06-2.06.94zm10 10l.94 2.06.94-2.06 2.06-.94-2.06-.94-.94-2.06-.94 2.06-2.06.94z\"/><path d=\"M17.41 7.96l-1.37-1.37c-.4-.4-.92-.59-1.43-.59-.52 0-1.04.2-1.43.59L10.3 9.45l-7.72 7.72c-.78.78-.78 2.05 0 2.83L4 21.41c.39.39.9.59 1.41.59.51 0 1.02-.2 1.41-.59l7.78-7.78 2.81-2.81c.8-.78.8-2.07 0-2.86zM5.41 20L4 18.59l7.72-7.72 1.47 1.35L5.41 20z\"/>\n",
              "  </svg>\n",
              "      </button>\n",
              "      \n",
              "  <style>\n",
              "    .colab-df-container {\n",
              "      display:flex;\n",
              "      flex-wrap:wrap;\n",
              "      gap: 12px;\n",
              "    }\n",
              "\n",
              "    .colab-df-convert {\n",
              "      background-color: #E8F0FE;\n",
              "      border: none;\n",
              "      border-radius: 50%;\n",
              "      cursor: pointer;\n",
              "      display: none;\n",
              "      fill: #1967D2;\n",
              "      height: 32px;\n",
              "      padding: 0 0 0 0;\n",
              "      width: 32px;\n",
              "    }\n",
              "\n",
              "    .colab-df-convert:hover {\n",
              "      background-color: #E2EBFA;\n",
              "      box-shadow: 0px 1px 2px rgba(60, 64, 67, 0.3), 0px 1px 3px 1px rgba(60, 64, 67, 0.15);\n",
              "      fill: #174EA6;\n",
              "    }\n",
              "\n",
              "    [theme=dark] .colab-df-convert {\n",
              "      background-color: #3B4455;\n",
              "      fill: #D2E3FC;\n",
              "    }\n",
              "\n",
              "    [theme=dark] .colab-df-convert:hover {\n",
              "      background-color: #434B5C;\n",
              "      box-shadow: 0px 1px 3px 1px rgba(0, 0, 0, 0.15);\n",
              "      filter: drop-shadow(0px 1px 2px rgba(0, 0, 0, 0.3));\n",
              "      fill: #FFFFFF;\n",
              "    }\n",
              "  </style>\n",
              "\n",
              "      <script>\n",
              "        const buttonEl =\n",
              "          document.querySelector('#df-5b80e36a-2077-4c10-b4e8-5a604dfaf20b button.colab-df-convert');\n",
              "        buttonEl.style.display =\n",
              "          google.colab.kernel.accessAllowed ? 'block' : 'none';\n",
              "\n",
              "        async function convertToInteractive(key) {\n",
              "          const element = document.querySelector('#df-5b80e36a-2077-4c10-b4e8-5a604dfaf20b');\n",
              "          const dataTable =\n",
              "            await google.colab.kernel.invokeFunction('convertToInteractive',\n",
              "                                                     [key], {});\n",
              "          if (!dataTable) return;\n",
              "\n",
              "          const docLinkHtml = 'Like what you see? Visit the ' +\n",
              "            '<a target=\"_blank\" href=https://colab.research.google.com/notebooks/data_table.ipynb>data table notebook</a>'\n",
              "            + ' to learn more about interactive tables.';\n",
              "          element.innerHTML = '';\n",
              "          dataTable['output_type'] = 'display_data';\n",
              "          await google.colab.output.renderOutput(dataTable, element);\n",
              "          const docLink = document.createElement('div');\n",
              "          docLink.innerHTML = docLinkHtml;\n",
              "          element.appendChild(docLink);\n",
              "        }\n",
              "      </script>\n",
              "    </div>\n",
              "  </div>\n",
              "  "
            ]
          },
          "metadata": {},
          "execution_count": 5
        }
      ],
      "source": [
        "df = pd.read_csv('data_regression.csv', index_col=0)\n",
        "df = df.drop(['actor_name', 'actress_name'], axis=1).drop_duplicates(subset='tconst')\n",
        "df"
      ]
    },
    {
      "cell_type": "code",
      "source": [
        "df.shape"
      ],
      "metadata": {
        "colab": {
          "base_uri": "https://localhost:8080/"
        },
        "id": "AuoiXKX1VRE6",
        "outputId": "24a651fc-cd73-4f03-c93d-a214ae631182"
      },
      "execution_count": 6,
      "outputs": [
        {
          "output_type": "execute_result",
          "data": {
            "text/plain": [
              "(196229, 5)"
            ]
          },
          "metadata": {},
          "execution_count": 6
        }
      ]
    },
    {
      "cell_type": "code",
      "source": [
        "# Exécution du dropna avant de separer y et X\n",
        "df.dropna(inplace=True)\n",
        "df.shape"
      ],
      "metadata": {
        "colab": {
          "base_uri": "https://localhost:8080/"
        },
        "id": "RYAcuZnoVOht",
        "outputId": "af2b17c0-ae5f-4984-88b5-832985766029"
      },
      "execution_count": 7,
      "outputs": [
        {
          "output_type": "execute_result",
          "data": {
            "text/plain": [
              "(173812, 5)"
            ]
          },
          "metadata": {},
          "execution_count": 7
        }
      ]
    },
    {
      "cell_type": "code",
      "source": [
        "# Création d'une colonne rassemblant le genre et le nom du réalisateur\n",
        "def concat_features(row):\n",
        "    return(row['genres'].replace(\",\", \" \") + \" \" + row['director_name'].replace(\" \", \"\"))\n",
        "df['movie_features'] = df.apply(concat_features, axis=1)\n",
        "df"
      ],
      "metadata": {
        "colab": {
          "base_uri": "https://localhost:8080/",
          "height": 423
        },
        "id": "p7E58zxIZMtz",
        "outputId": "9d15e776-d8ab-4bf6-caff-ace95d43e44d"
      },
      "execution_count": 8,
      "outputs": [
        {
          "output_type": "execute_result",
          "data": {
            "text/plain": [
              "            tconst                   genres  runtimeMinutes  averageRating  \\\n",
              "0       tt19730260                  Musical           154.0            9.0   \n",
              "7       tt14691678                    Drama           147.0            8.3   \n",
              "11      tt14333040                    Drama           153.0            4.3   \n",
              "12      tt14338500                    Drama           155.0            6.9   \n",
              "13       tt4903314                    Drama           142.0            3.0   \n",
              "...            ...                      ...             ...            ...   \n",
              "900011  tt19711858                    Drama            81.0            5.9   \n",
              "900014  tt19712468                    Drama            70.0            8.9   \n",
              "900017   tt1971393    Action,Drama,Thriller            92.0            5.3   \n",
              "900030  tt19727878  Horror,Mystery,Thriller           118.0            4.8   \n",
              "900037   tt1972816             Comedy,Drama            55.0            6.1   \n",
              "\n",
              "           director_name                        movie_features  \n",
              "0              Haricheth                     Musical Haricheth  \n",
              "7            S. Mahendar                      Drama S.Mahendar  \n",
              "11        Om Sai Prakash                    Drama OmSaiPrakash  \n",
              "12       V. Ravichandran                  Drama V.Ravichandran  \n",
              "13       S.V. Suresh Raj                   Drama S.V.SureshRaj  \n",
              "...                  ...                                   ...  \n",
              "900011  Fabian Hernández                 Drama FabianHernández  \n",
              "900014   S.S. Jishnu Dev                   Drama S.S.JishnuDev  \n",
              "900017  Fernando A. Mico  Action Drama Thriller FernandoA.Mico  \n",
              "900030         Any Gacha      Horror Mystery Thriller AnyGacha  \n",
              "900037   Markus Aaltonen           Comedy Drama MarkusAaltonen  \n",
              "\n",
              "[173812 rows x 6 columns]"
            ],
            "text/html": [
              "\n",
              "  <div id=\"df-7e143463-df67-406d-97ae-ec7a25ca69c3\">\n",
              "    <div class=\"colab-df-container\">\n",
              "      <div>\n",
              "<style scoped>\n",
              "    .dataframe tbody tr th:only-of-type {\n",
              "        vertical-align: middle;\n",
              "    }\n",
              "\n",
              "    .dataframe tbody tr th {\n",
              "        vertical-align: top;\n",
              "    }\n",
              "\n",
              "    .dataframe thead th {\n",
              "        text-align: right;\n",
              "    }\n",
              "</style>\n",
              "<table border=\"1\" class=\"dataframe\">\n",
              "  <thead>\n",
              "    <tr style=\"text-align: right;\">\n",
              "      <th></th>\n",
              "      <th>tconst</th>\n",
              "      <th>genres</th>\n",
              "      <th>runtimeMinutes</th>\n",
              "      <th>averageRating</th>\n",
              "      <th>director_name</th>\n",
              "      <th>movie_features</th>\n",
              "    </tr>\n",
              "  </thead>\n",
              "  <tbody>\n",
              "    <tr>\n",
              "      <th>0</th>\n",
              "      <td>tt19730260</td>\n",
              "      <td>Musical</td>\n",
              "      <td>154.0</td>\n",
              "      <td>9.0</td>\n",
              "      <td>Haricheth</td>\n",
              "      <td>Musical Haricheth</td>\n",
              "    </tr>\n",
              "    <tr>\n",
              "      <th>7</th>\n",
              "      <td>tt14691678</td>\n",
              "      <td>Drama</td>\n",
              "      <td>147.0</td>\n",
              "      <td>8.3</td>\n",
              "      <td>S. Mahendar</td>\n",
              "      <td>Drama S.Mahendar</td>\n",
              "    </tr>\n",
              "    <tr>\n",
              "      <th>11</th>\n",
              "      <td>tt14333040</td>\n",
              "      <td>Drama</td>\n",
              "      <td>153.0</td>\n",
              "      <td>4.3</td>\n",
              "      <td>Om Sai Prakash</td>\n",
              "      <td>Drama OmSaiPrakash</td>\n",
              "    </tr>\n",
              "    <tr>\n",
              "      <th>12</th>\n",
              "      <td>tt14338500</td>\n",
              "      <td>Drama</td>\n",
              "      <td>155.0</td>\n",
              "      <td>6.9</td>\n",
              "      <td>V. Ravichandran</td>\n",
              "      <td>Drama V.Ravichandran</td>\n",
              "    </tr>\n",
              "    <tr>\n",
              "      <th>13</th>\n",
              "      <td>tt4903314</td>\n",
              "      <td>Drama</td>\n",
              "      <td>142.0</td>\n",
              "      <td>3.0</td>\n",
              "      <td>S.V. Suresh Raj</td>\n",
              "      <td>Drama S.V.SureshRaj</td>\n",
              "    </tr>\n",
              "    <tr>\n",
              "      <th>...</th>\n",
              "      <td>...</td>\n",
              "      <td>...</td>\n",
              "      <td>...</td>\n",
              "      <td>...</td>\n",
              "      <td>...</td>\n",
              "      <td>...</td>\n",
              "    </tr>\n",
              "    <tr>\n",
              "      <th>900011</th>\n",
              "      <td>tt19711858</td>\n",
              "      <td>Drama</td>\n",
              "      <td>81.0</td>\n",
              "      <td>5.9</td>\n",
              "      <td>Fabian Hernández</td>\n",
              "      <td>Drama FabianHernández</td>\n",
              "    </tr>\n",
              "    <tr>\n",
              "      <th>900014</th>\n",
              "      <td>tt19712468</td>\n",
              "      <td>Drama</td>\n",
              "      <td>70.0</td>\n",
              "      <td>8.9</td>\n",
              "      <td>S.S. Jishnu Dev</td>\n",
              "      <td>Drama S.S.JishnuDev</td>\n",
              "    </tr>\n",
              "    <tr>\n",
              "      <th>900017</th>\n",
              "      <td>tt1971393</td>\n",
              "      <td>Action,Drama,Thriller</td>\n",
              "      <td>92.0</td>\n",
              "      <td>5.3</td>\n",
              "      <td>Fernando A. Mico</td>\n",
              "      <td>Action Drama Thriller FernandoA.Mico</td>\n",
              "    </tr>\n",
              "    <tr>\n",
              "      <th>900030</th>\n",
              "      <td>tt19727878</td>\n",
              "      <td>Horror,Mystery,Thriller</td>\n",
              "      <td>118.0</td>\n",
              "      <td>4.8</td>\n",
              "      <td>Any Gacha</td>\n",
              "      <td>Horror Mystery Thriller AnyGacha</td>\n",
              "    </tr>\n",
              "    <tr>\n",
              "      <th>900037</th>\n",
              "      <td>tt1972816</td>\n",
              "      <td>Comedy,Drama</td>\n",
              "      <td>55.0</td>\n",
              "      <td>6.1</td>\n",
              "      <td>Markus Aaltonen</td>\n",
              "      <td>Comedy Drama MarkusAaltonen</td>\n",
              "    </tr>\n",
              "  </tbody>\n",
              "</table>\n",
              "<p>173812 rows × 6 columns</p>\n",
              "</div>\n",
              "      <button class=\"colab-df-convert\" onclick=\"convertToInteractive('df-7e143463-df67-406d-97ae-ec7a25ca69c3')\"\n",
              "              title=\"Convert this dataframe to an interactive table.\"\n",
              "              style=\"display:none;\">\n",
              "        \n",
              "  <svg xmlns=\"http://www.w3.org/2000/svg\" height=\"24px\"viewBox=\"0 0 24 24\"\n",
              "       width=\"24px\">\n",
              "    <path d=\"M0 0h24v24H0V0z\" fill=\"none\"/>\n",
              "    <path d=\"M18.56 5.44l.94 2.06.94-2.06 2.06-.94-2.06-.94-.94-2.06-.94 2.06-2.06.94zm-11 1L8.5 8.5l.94-2.06 2.06-.94-2.06-.94L8.5 2.5l-.94 2.06-2.06.94zm10 10l.94 2.06.94-2.06 2.06-.94-2.06-.94-.94-2.06-.94 2.06-2.06.94z\"/><path d=\"M17.41 7.96l-1.37-1.37c-.4-.4-.92-.59-1.43-.59-.52 0-1.04.2-1.43.59L10.3 9.45l-7.72 7.72c-.78.78-.78 2.05 0 2.83L4 21.41c.39.39.9.59 1.41.59.51 0 1.02-.2 1.41-.59l7.78-7.78 2.81-2.81c.8-.78.8-2.07 0-2.86zM5.41 20L4 18.59l7.72-7.72 1.47 1.35L5.41 20z\"/>\n",
              "  </svg>\n",
              "      </button>\n",
              "      \n",
              "  <style>\n",
              "    .colab-df-container {\n",
              "      display:flex;\n",
              "      flex-wrap:wrap;\n",
              "      gap: 12px;\n",
              "    }\n",
              "\n",
              "    .colab-df-convert {\n",
              "      background-color: #E8F0FE;\n",
              "      border: none;\n",
              "      border-radius: 50%;\n",
              "      cursor: pointer;\n",
              "      display: none;\n",
              "      fill: #1967D2;\n",
              "      height: 32px;\n",
              "      padding: 0 0 0 0;\n",
              "      width: 32px;\n",
              "    }\n",
              "\n",
              "    .colab-df-convert:hover {\n",
              "      background-color: #E2EBFA;\n",
              "      box-shadow: 0px 1px 2px rgba(60, 64, 67, 0.3), 0px 1px 3px 1px rgba(60, 64, 67, 0.15);\n",
              "      fill: #174EA6;\n",
              "    }\n",
              "\n",
              "    [theme=dark] .colab-df-convert {\n",
              "      background-color: #3B4455;\n",
              "      fill: #D2E3FC;\n",
              "    }\n",
              "\n",
              "    [theme=dark] .colab-df-convert:hover {\n",
              "      background-color: #434B5C;\n",
              "      box-shadow: 0px 1px 3px 1px rgba(0, 0, 0, 0.15);\n",
              "      filter: drop-shadow(0px 1px 2px rgba(0, 0, 0, 0.3));\n",
              "      fill: #FFFFFF;\n",
              "    }\n",
              "  </style>\n",
              "\n",
              "      <script>\n",
              "        const buttonEl =\n",
              "          document.querySelector('#df-7e143463-df67-406d-97ae-ec7a25ca69c3 button.colab-df-convert');\n",
              "        buttonEl.style.display =\n",
              "          google.colab.kernel.accessAllowed ? 'block' : 'none';\n",
              "\n",
              "        async function convertToInteractive(key) {\n",
              "          const element = document.querySelector('#df-7e143463-df67-406d-97ae-ec7a25ca69c3');\n",
              "          const dataTable =\n",
              "            await google.colab.kernel.invokeFunction('convertToInteractive',\n",
              "                                                     [key], {});\n",
              "          if (!dataTable) return;\n",
              "\n",
              "          const docLinkHtml = 'Like what you see? Visit the ' +\n",
              "            '<a target=\"_blank\" href=https://colab.research.google.com/notebooks/data_table.ipynb>data table notebook</a>'\n",
              "            + ' to learn more about interactive tables.';\n",
              "          element.innerHTML = '';\n",
              "          dataTable['output_type'] = 'display_data';\n",
              "          await google.colab.output.renderOutput(dataTable, element);\n",
              "          const docLink = document.createElement('div');\n",
              "          docLink.innerHTML = docLinkHtml;\n",
              "          element.appendChild(docLink);\n",
              "        }\n",
              "      </script>\n",
              "    </div>\n",
              "  </div>\n",
              "  "
            ]
          },
          "metadata": {},
          "execution_count": 8
        }
      ]
    },
    {
      "cell_type": "code",
      "source": [
        "# Suppression des colonnes 'genres' et 'director_name'\n",
        "df.drop(columns=['tconst', 'genres', 'director_name'], inplace=True)\n",
        "df"
      ],
      "metadata": {
        "colab": {
          "base_uri": "https://localhost:8080/",
          "height": 423
        },
        "id": "ACnI-UsAaES4",
        "outputId": "58ac5263-ced2-4484-e509-7d4adec3479a"
      },
      "execution_count": 9,
      "outputs": [
        {
          "output_type": "execute_result",
          "data": {
            "text/plain": [
              "        runtimeMinutes  averageRating                        movie_features\n",
              "0                154.0            9.0                     Musical Haricheth\n",
              "7                147.0            8.3                      Drama S.Mahendar\n",
              "11               153.0            4.3                    Drama OmSaiPrakash\n",
              "12               155.0            6.9                  Drama V.Ravichandran\n",
              "13               142.0            3.0                   Drama S.V.SureshRaj\n",
              "...                ...            ...                                   ...\n",
              "900011            81.0            5.9                 Drama FabianHernández\n",
              "900014            70.0            8.9                   Drama S.S.JishnuDev\n",
              "900017            92.0            5.3  Action Drama Thriller FernandoA.Mico\n",
              "900030           118.0            4.8      Horror Mystery Thriller AnyGacha\n",
              "900037            55.0            6.1           Comedy Drama MarkusAaltonen\n",
              "\n",
              "[173812 rows x 3 columns]"
            ],
            "text/html": [
              "\n",
              "  <div id=\"df-a65522fc-16cf-45ec-8eb0-d9e7b8f03b67\">\n",
              "    <div class=\"colab-df-container\">\n",
              "      <div>\n",
              "<style scoped>\n",
              "    .dataframe tbody tr th:only-of-type {\n",
              "        vertical-align: middle;\n",
              "    }\n",
              "\n",
              "    .dataframe tbody tr th {\n",
              "        vertical-align: top;\n",
              "    }\n",
              "\n",
              "    .dataframe thead th {\n",
              "        text-align: right;\n",
              "    }\n",
              "</style>\n",
              "<table border=\"1\" class=\"dataframe\">\n",
              "  <thead>\n",
              "    <tr style=\"text-align: right;\">\n",
              "      <th></th>\n",
              "      <th>runtimeMinutes</th>\n",
              "      <th>averageRating</th>\n",
              "      <th>movie_features</th>\n",
              "    </tr>\n",
              "  </thead>\n",
              "  <tbody>\n",
              "    <tr>\n",
              "      <th>0</th>\n",
              "      <td>154.0</td>\n",
              "      <td>9.0</td>\n",
              "      <td>Musical Haricheth</td>\n",
              "    </tr>\n",
              "    <tr>\n",
              "      <th>7</th>\n",
              "      <td>147.0</td>\n",
              "      <td>8.3</td>\n",
              "      <td>Drama S.Mahendar</td>\n",
              "    </tr>\n",
              "    <tr>\n",
              "      <th>11</th>\n",
              "      <td>153.0</td>\n",
              "      <td>4.3</td>\n",
              "      <td>Drama OmSaiPrakash</td>\n",
              "    </tr>\n",
              "    <tr>\n",
              "      <th>12</th>\n",
              "      <td>155.0</td>\n",
              "      <td>6.9</td>\n",
              "      <td>Drama V.Ravichandran</td>\n",
              "    </tr>\n",
              "    <tr>\n",
              "      <th>13</th>\n",
              "      <td>142.0</td>\n",
              "      <td>3.0</td>\n",
              "      <td>Drama S.V.SureshRaj</td>\n",
              "    </tr>\n",
              "    <tr>\n",
              "      <th>...</th>\n",
              "      <td>...</td>\n",
              "      <td>...</td>\n",
              "      <td>...</td>\n",
              "    </tr>\n",
              "    <tr>\n",
              "      <th>900011</th>\n",
              "      <td>81.0</td>\n",
              "      <td>5.9</td>\n",
              "      <td>Drama FabianHernández</td>\n",
              "    </tr>\n",
              "    <tr>\n",
              "      <th>900014</th>\n",
              "      <td>70.0</td>\n",
              "      <td>8.9</td>\n",
              "      <td>Drama S.S.JishnuDev</td>\n",
              "    </tr>\n",
              "    <tr>\n",
              "      <th>900017</th>\n",
              "      <td>92.0</td>\n",
              "      <td>5.3</td>\n",
              "      <td>Action Drama Thriller FernandoA.Mico</td>\n",
              "    </tr>\n",
              "    <tr>\n",
              "      <th>900030</th>\n",
              "      <td>118.0</td>\n",
              "      <td>4.8</td>\n",
              "      <td>Horror Mystery Thriller AnyGacha</td>\n",
              "    </tr>\n",
              "    <tr>\n",
              "      <th>900037</th>\n",
              "      <td>55.0</td>\n",
              "      <td>6.1</td>\n",
              "      <td>Comedy Drama MarkusAaltonen</td>\n",
              "    </tr>\n",
              "  </tbody>\n",
              "</table>\n",
              "<p>173812 rows × 3 columns</p>\n",
              "</div>\n",
              "      <button class=\"colab-df-convert\" onclick=\"convertToInteractive('df-a65522fc-16cf-45ec-8eb0-d9e7b8f03b67')\"\n",
              "              title=\"Convert this dataframe to an interactive table.\"\n",
              "              style=\"display:none;\">\n",
              "        \n",
              "  <svg xmlns=\"http://www.w3.org/2000/svg\" height=\"24px\"viewBox=\"0 0 24 24\"\n",
              "       width=\"24px\">\n",
              "    <path d=\"M0 0h24v24H0V0z\" fill=\"none\"/>\n",
              "    <path d=\"M18.56 5.44l.94 2.06.94-2.06 2.06-.94-2.06-.94-.94-2.06-.94 2.06-2.06.94zm-11 1L8.5 8.5l.94-2.06 2.06-.94-2.06-.94L8.5 2.5l-.94 2.06-2.06.94zm10 10l.94 2.06.94-2.06 2.06-.94-2.06-.94-.94-2.06-.94 2.06-2.06.94z\"/><path d=\"M17.41 7.96l-1.37-1.37c-.4-.4-.92-.59-1.43-.59-.52 0-1.04.2-1.43.59L10.3 9.45l-7.72 7.72c-.78.78-.78 2.05 0 2.83L4 21.41c.39.39.9.59 1.41.59.51 0 1.02-.2 1.41-.59l7.78-7.78 2.81-2.81c.8-.78.8-2.07 0-2.86zM5.41 20L4 18.59l7.72-7.72 1.47 1.35L5.41 20z\"/>\n",
              "  </svg>\n",
              "      </button>\n",
              "      \n",
              "  <style>\n",
              "    .colab-df-container {\n",
              "      display:flex;\n",
              "      flex-wrap:wrap;\n",
              "      gap: 12px;\n",
              "    }\n",
              "\n",
              "    .colab-df-convert {\n",
              "      background-color: #E8F0FE;\n",
              "      border: none;\n",
              "      border-radius: 50%;\n",
              "      cursor: pointer;\n",
              "      display: none;\n",
              "      fill: #1967D2;\n",
              "      height: 32px;\n",
              "      padding: 0 0 0 0;\n",
              "      width: 32px;\n",
              "    }\n",
              "\n",
              "    .colab-df-convert:hover {\n",
              "      background-color: #E2EBFA;\n",
              "      box-shadow: 0px 1px 2px rgba(60, 64, 67, 0.3), 0px 1px 3px 1px rgba(60, 64, 67, 0.15);\n",
              "      fill: #174EA6;\n",
              "    }\n",
              "\n",
              "    [theme=dark] .colab-df-convert {\n",
              "      background-color: #3B4455;\n",
              "      fill: #D2E3FC;\n",
              "    }\n",
              "\n",
              "    [theme=dark] .colab-df-convert:hover {\n",
              "      background-color: #434B5C;\n",
              "      box-shadow: 0px 1px 3px 1px rgba(0, 0, 0, 0.15);\n",
              "      filter: drop-shadow(0px 1px 2px rgba(0, 0, 0, 0.3));\n",
              "      fill: #FFFFFF;\n",
              "    }\n",
              "  </style>\n",
              "\n",
              "      <script>\n",
              "        const buttonEl =\n",
              "          document.querySelector('#df-a65522fc-16cf-45ec-8eb0-d9e7b8f03b67 button.colab-df-convert');\n",
              "        buttonEl.style.display =\n",
              "          google.colab.kernel.accessAllowed ? 'block' : 'none';\n",
              "\n",
              "        async function convertToInteractive(key) {\n",
              "          const element = document.querySelector('#df-a65522fc-16cf-45ec-8eb0-d9e7b8f03b67');\n",
              "          const dataTable =\n",
              "            await google.colab.kernel.invokeFunction('convertToInteractive',\n",
              "                                                     [key], {});\n",
              "          if (!dataTable) return;\n",
              "\n",
              "          const docLinkHtml = 'Like what you see? Visit the ' +\n",
              "            '<a target=\"_blank\" href=https://colab.research.google.com/notebooks/data_table.ipynb>data table notebook</a>'\n",
              "            + ' to learn more about interactive tables.';\n",
              "          element.innerHTML = '';\n",
              "          dataTable['output_type'] = 'display_data';\n",
              "          await google.colab.output.renderOutput(dataTable, element);\n",
              "          const docLink = document.createElement('div');\n",
              "          docLink.innerHTML = docLinkHtml;\n",
              "          element.appendChild(docLink);\n",
              "        }\n",
              "      </script>\n",
              "    </div>\n",
              "  </div>\n",
              "  "
            ]
          },
          "metadata": {},
          "execution_count": 9
        }
      ]
    },
    {
      "cell_type": "code",
      "source": [
        "# Categorical variables\n",
        "column_tex = 'movie_features'\n",
        "transfo_tex = Pipeline(steps=[\n",
        "    ('countvec', CountVectorizer()),\n",
        "    ('dr', TruncatedSVD())    \n",
        "    ])"
      ],
      "metadata": {
        "id": "iMoMjnI3g2T1"
      },
      "execution_count": 19,
      "outputs": []
    },
    {
      "cell_type": "code",
      "source": [
        "# Numerical variables\n",
        "column_num = ['runtimeMinutes']\n",
        "transfo_num = Pipeline(steps=[\n",
        "    ('scaling', RobustScaler())\n",
        "])"
      ],
      "metadata": {
        "id": "ZVxB-LnsjVaR"
      },
      "execution_count": 20,
      "outputs": []
    },
    {
      "cell_type": "code",
      "source": [
        "# Class ColumnTransformer : apply alls steps on the whole dataset\n",
        "preparation = ColumnTransformer(\n",
        "    transformers=[\n",
        "        ('data_tex', transfo_tex , column_tex),\n",
        "        ('data_num', transfo_num , column_num)\n",
        "    ])"
      ],
      "metadata": {
        "id": "xlBb4nikkEhy"
      },
      "execution_count": 21,
      "outputs": []
    },
    {
      "cell_type": "code",
      "source": [
        "# Display diagram\n",
        "set_config(display=\"diagram\")\n",
        "preparation"
      ],
      "metadata": {
        "colab": {
          "base_uri": "https://localhost:8080/",
          "height": 151
        },
        "id": "KZOnm-OQkb2k",
        "outputId": "4eb226c9-6be1-41be-d3ed-250df96c82f1"
      },
      "execution_count": 22,
      "outputs": [
        {
          "output_type": "execute_result",
          "data": {
            "text/plain": [
              "ColumnTransformer(transformers=[('data_tex',\n",
              "                                 Pipeline(steps=[('countvec',\n",
              "                                                  CountVectorizer()),\n",
              "                                                 ('dr', TruncatedSVD())]),\n",
              "                                 'movie_features'),\n",
              "                                ('data_num',\n",
              "                                 Pipeline(steps=[('scaling', RobustScaler())]),\n",
              "                                 ['runtimeMinutes'])])"
            ],
            "text/html": [
              "<style>#sk-259afef8-bde1-4ac2-8c1c-6cf396d47047 {color: black;background-color: white;}#sk-259afef8-bde1-4ac2-8c1c-6cf396d47047 pre{padding: 0;}#sk-259afef8-bde1-4ac2-8c1c-6cf396d47047 div.sk-toggleable {background-color: white;}#sk-259afef8-bde1-4ac2-8c1c-6cf396d47047 label.sk-toggleable__label {cursor: pointer;display: block;width: 100%;margin-bottom: 0;padding: 0.3em;box-sizing: border-box;text-align: center;}#sk-259afef8-bde1-4ac2-8c1c-6cf396d47047 label.sk-toggleable__label-arrow:before {content: \"▸\";float: left;margin-right: 0.25em;color: #696969;}#sk-259afef8-bde1-4ac2-8c1c-6cf396d47047 label.sk-toggleable__label-arrow:hover:before {color: black;}#sk-259afef8-bde1-4ac2-8c1c-6cf396d47047 div.sk-estimator:hover label.sk-toggleable__label-arrow:before {color: black;}#sk-259afef8-bde1-4ac2-8c1c-6cf396d47047 div.sk-toggleable__content {max-height: 0;max-width: 0;overflow: hidden;text-align: left;background-color: #f0f8ff;}#sk-259afef8-bde1-4ac2-8c1c-6cf396d47047 div.sk-toggleable__content pre {margin: 0.2em;color: black;border-radius: 0.25em;background-color: #f0f8ff;}#sk-259afef8-bde1-4ac2-8c1c-6cf396d47047 input.sk-toggleable__control:checked~div.sk-toggleable__content {max-height: 200px;max-width: 100%;overflow: auto;}#sk-259afef8-bde1-4ac2-8c1c-6cf396d47047 input.sk-toggleable__control:checked~label.sk-toggleable__label-arrow:before {content: \"▾\";}#sk-259afef8-bde1-4ac2-8c1c-6cf396d47047 div.sk-estimator input.sk-toggleable__control:checked~label.sk-toggleable__label {background-color: #d4ebff;}#sk-259afef8-bde1-4ac2-8c1c-6cf396d47047 div.sk-label input.sk-toggleable__control:checked~label.sk-toggleable__label {background-color: #d4ebff;}#sk-259afef8-bde1-4ac2-8c1c-6cf396d47047 input.sk-hidden--visually {border: 0;clip: rect(1px 1px 1px 1px);clip: rect(1px, 1px, 1px, 1px);height: 1px;margin: -1px;overflow: hidden;padding: 0;position: absolute;width: 1px;}#sk-259afef8-bde1-4ac2-8c1c-6cf396d47047 div.sk-estimator {font-family: monospace;background-color: #f0f8ff;border: 1px dotted black;border-radius: 0.25em;box-sizing: border-box;margin-bottom: 0.5em;}#sk-259afef8-bde1-4ac2-8c1c-6cf396d47047 div.sk-estimator:hover {background-color: #d4ebff;}#sk-259afef8-bde1-4ac2-8c1c-6cf396d47047 div.sk-parallel-item::after {content: \"\";width: 100%;border-bottom: 1px solid gray;flex-grow: 1;}#sk-259afef8-bde1-4ac2-8c1c-6cf396d47047 div.sk-label:hover label.sk-toggleable__label {background-color: #d4ebff;}#sk-259afef8-bde1-4ac2-8c1c-6cf396d47047 div.sk-serial::before {content: \"\";position: absolute;border-left: 1px solid gray;box-sizing: border-box;top: 2em;bottom: 0;left: 50%;}#sk-259afef8-bde1-4ac2-8c1c-6cf396d47047 div.sk-serial {display: flex;flex-direction: column;align-items: center;background-color: white;padding-right: 0.2em;padding-left: 0.2em;}#sk-259afef8-bde1-4ac2-8c1c-6cf396d47047 div.sk-item {z-index: 1;}#sk-259afef8-bde1-4ac2-8c1c-6cf396d47047 div.sk-parallel {display: flex;align-items: stretch;justify-content: center;background-color: white;}#sk-259afef8-bde1-4ac2-8c1c-6cf396d47047 div.sk-parallel::before {content: \"\";position: absolute;border-left: 1px solid gray;box-sizing: border-box;top: 2em;bottom: 0;left: 50%;}#sk-259afef8-bde1-4ac2-8c1c-6cf396d47047 div.sk-parallel-item {display: flex;flex-direction: column;position: relative;background-color: white;}#sk-259afef8-bde1-4ac2-8c1c-6cf396d47047 div.sk-parallel-item:first-child::after {align-self: flex-end;width: 50%;}#sk-259afef8-bde1-4ac2-8c1c-6cf396d47047 div.sk-parallel-item:last-child::after {align-self: flex-start;width: 50%;}#sk-259afef8-bde1-4ac2-8c1c-6cf396d47047 div.sk-parallel-item:only-child::after {width: 0;}#sk-259afef8-bde1-4ac2-8c1c-6cf396d47047 div.sk-dashed-wrapped {border: 1px dashed gray;margin: 0 0.4em 0.5em 0.4em;box-sizing: border-box;padding-bottom: 0.4em;background-color: white;position: relative;}#sk-259afef8-bde1-4ac2-8c1c-6cf396d47047 div.sk-label label {font-family: monospace;font-weight: bold;background-color: white;display: inline-block;line-height: 1.2em;}#sk-259afef8-bde1-4ac2-8c1c-6cf396d47047 div.sk-label-container {position: relative;z-index: 2;text-align: center;}#sk-259afef8-bde1-4ac2-8c1c-6cf396d47047 div.sk-container {/* jupyter's `normalize.less` sets `[hidden] { display: none; }` but bootstrap.min.css set `[hidden] { display: none !important; }` so we also need the `!important` here to be able to override the default hidden behavior on the sphinx rendered scikit-learn.org. See: https://github.com/scikit-learn/scikit-learn/issues/21755 */display: inline-block !important;position: relative;}#sk-259afef8-bde1-4ac2-8c1c-6cf396d47047 div.sk-text-repr-fallback {display: none;}</style><div id=\"sk-259afef8-bde1-4ac2-8c1c-6cf396d47047\" class=\"sk-top-container\"><div class=\"sk-text-repr-fallback\"><pre>ColumnTransformer(transformers=[(&#x27;data_tex&#x27;,\n",
              "                                 Pipeline(steps=[(&#x27;countvec&#x27;,\n",
              "                                                  CountVectorizer()),\n",
              "                                                 (&#x27;dr&#x27;, TruncatedSVD())]),\n",
              "                                 &#x27;movie_features&#x27;),\n",
              "                                (&#x27;data_num&#x27;,\n",
              "                                 Pipeline(steps=[(&#x27;scaling&#x27;, RobustScaler())]),\n",
              "                                 [&#x27;runtimeMinutes&#x27;])])</pre><b>Please rerun this cell to show the HTML repr or trust the notebook.</b></div><div class=\"sk-container\" hidden><div class=\"sk-item sk-dashed-wrapped\"><div class=\"sk-label-container\"><div class=\"sk-label sk-toggleable\"><input class=\"sk-toggleable__control sk-hidden--visually\" id=\"d83b09e2-a9cb-4cd7-9e66-311f875c0436\" type=\"checkbox\" ><label for=\"d83b09e2-a9cb-4cd7-9e66-311f875c0436\" class=\"sk-toggleable__label sk-toggleable__label-arrow\">ColumnTransformer</label><div class=\"sk-toggleable__content\"><pre>ColumnTransformer(transformers=[(&#x27;data_tex&#x27;,\n",
              "                                 Pipeline(steps=[(&#x27;countvec&#x27;,\n",
              "                                                  CountVectorizer()),\n",
              "                                                 (&#x27;dr&#x27;, TruncatedSVD())]),\n",
              "                                 &#x27;movie_features&#x27;),\n",
              "                                (&#x27;data_num&#x27;,\n",
              "                                 Pipeline(steps=[(&#x27;scaling&#x27;, RobustScaler())]),\n",
              "                                 [&#x27;runtimeMinutes&#x27;])])</pre></div></div></div><div class=\"sk-parallel\"><div class=\"sk-parallel-item\"><div class=\"sk-item\"><div class=\"sk-label-container\"><div class=\"sk-label sk-toggleable\"><input class=\"sk-toggleable__control sk-hidden--visually\" id=\"6c73bd4d-0c8d-43c2-b3f3-5929d161ab60\" type=\"checkbox\" ><label for=\"6c73bd4d-0c8d-43c2-b3f3-5929d161ab60\" class=\"sk-toggleable__label sk-toggleable__label-arrow\">data_tex</label><div class=\"sk-toggleable__content\"><pre>movie_features</pre></div></div></div><div class=\"sk-serial\"><div class=\"sk-item\"><div class=\"sk-serial\"><div class=\"sk-item\"><div class=\"sk-estimator sk-toggleable\"><input class=\"sk-toggleable__control sk-hidden--visually\" id=\"1a594cc1-ffb2-4327-9a0e-dd6c678f2902\" type=\"checkbox\" ><label for=\"1a594cc1-ffb2-4327-9a0e-dd6c678f2902\" class=\"sk-toggleable__label sk-toggleable__label-arrow\">CountVectorizer</label><div class=\"sk-toggleable__content\"><pre>CountVectorizer()</pre></div></div></div><div class=\"sk-item\"><div class=\"sk-estimator sk-toggleable\"><input class=\"sk-toggleable__control sk-hidden--visually\" id=\"ff0fea57-05f8-4b16-8495-b082847fbe98\" type=\"checkbox\" ><label for=\"ff0fea57-05f8-4b16-8495-b082847fbe98\" class=\"sk-toggleable__label sk-toggleable__label-arrow\">TruncatedSVD</label><div class=\"sk-toggleable__content\"><pre>TruncatedSVD()</pre></div></div></div></div></div></div></div></div><div class=\"sk-parallel-item\"><div class=\"sk-item\"><div class=\"sk-label-container\"><div class=\"sk-label sk-toggleable\"><input class=\"sk-toggleable__control sk-hidden--visually\" id=\"98f652df-78f4-4af5-a83d-c2a14c5d6293\" type=\"checkbox\" ><label for=\"98f652df-78f4-4af5-a83d-c2a14c5d6293\" class=\"sk-toggleable__label sk-toggleable__label-arrow\">data_num</label><div class=\"sk-toggleable__content\"><pre>[&#x27;runtimeMinutes&#x27;]</pre></div></div></div><div class=\"sk-serial\"><div class=\"sk-item\"><div class=\"sk-serial\"><div class=\"sk-item\"><div class=\"sk-estimator sk-toggleable\"><input class=\"sk-toggleable__control sk-hidden--visually\" id=\"398d0e62-57c7-4975-b679-6980e6aed8c2\" type=\"checkbox\" ><label for=\"398d0e62-57c7-4975-b679-6980e6aed8c2\" class=\"sk-toggleable__label sk-toggleable__label-arrow\">RobustScaler</label><div class=\"sk-toggleable__content\"><pre>RobustScaler()</pre></div></div></div></div></div></div></div></div></div></div></div></div>"
            ]
          },
          "metadata": {},
          "execution_count": 22
        }
      ]
    },
    {
      "cell_type": "code",
      "source": [
        "# Declare the pipeline\n",
        "pipe = Pipeline(steps=[('preparation', preparation), # ACP,\n",
        "                        ('model', AdaBoostRegressor())])"
      ],
      "metadata": {
        "id": "nFKMGmxKlf3p"
      },
      "execution_count": 23,
      "outputs": []
    },
    {
      "cell_type": "code",
      "source": [
        "pipe.get_params().keys()"
      ],
      "metadata": {
        "colab": {
          "base_uri": "https://localhost:8080/"
        },
        "id": "iPR2ATmG3g3O",
        "outputId": "8f1e3a2c-4ac6-4e17-d8aa-a81ade01bf2c"
      },
      "execution_count": 24,
      "outputs": [
        {
          "output_type": "execute_result",
          "data": {
            "text/plain": [
              "dict_keys(['memory', 'steps', 'verbose', 'preparation', 'model', 'preparation__n_jobs', 'preparation__remainder', 'preparation__sparse_threshold', 'preparation__transformer_weights', 'preparation__transformers', 'preparation__verbose', 'preparation__verbose_feature_names_out', 'preparation__data_tex', 'preparation__data_num', 'preparation__data_tex__memory', 'preparation__data_tex__steps', 'preparation__data_tex__verbose', 'preparation__data_tex__countvec', 'preparation__data_tex__dr', 'preparation__data_tex__countvec__analyzer', 'preparation__data_tex__countvec__binary', 'preparation__data_tex__countvec__decode_error', 'preparation__data_tex__countvec__dtype', 'preparation__data_tex__countvec__encoding', 'preparation__data_tex__countvec__input', 'preparation__data_tex__countvec__lowercase', 'preparation__data_tex__countvec__max_df', 'preparation__data_tex__countvec__max_features', 'preparation__data_tex__countvec__min_df', 'preparation__data_tex__countvec__ngram_range', 'preparation__data_tex__countvec__preprocessor', 'preparation__data_tex__countvec__stop_words', 'preparation__data_tex__countvec__strip_accents', 'preparation__data_tex__countvec__token_pattern', 'preparation__data_tex__countvec__tokenizer', 'preparation__data_tex__countvec__vocabulary', 'preparation__data_tex__dr__algorithm', 'preparation__data_tex__dr__n_components', 'preparation__data_tex__dr__n_iter', 'preparation__data_tex__dr__random_state', 'preparation__data_tex__dr__tol', 'preparation__data_num__memory', 'preparation__data_num__steps', 'preparation__data_num__verbose', 'preparation__data_num__scaling', 'preparation__data_num__scaling__copy', 'preparation__data_num__scaling__quantile_range', 'preparation__data_num__scaling__unit_variance', 'preparation__data_num__scaling__with_centering', 'preparation__data_num__scaling__with_scaling', 'model__base_estimator', 'model__learning_rate', 'model__loss', 'model__n_estimators', 'model__random_state'])"
            ]
          },
          "metadata": {},
          "execution_count": 24
        }
      ]
    },
    {
      "cell_type": "code",
      "source": [
        "# Declare model and parameter for Grid Search\n",
        "parameters = {'model__n_estimators': range(50, 301, 50)}"
      ],
      "metadata": {
        "id": "rxnpJWNcnNXo"
      },
      "execution_count": 64,
      "outputs": []
    },
    {
      "cell_type": "code",
      "source": [
        "# Declare the Grid Search method\n",
        "grid = GridSearchCV(pipe, parameters, scoring='r2', cv = 5, n_jobs =-1, verbose = 1)"
      ],
      "metadata": {
        "id": "uH2yYqVMnQST"
      },
      "execution_count": 65,
      "outputs": []
    },
    {
      "cell_type": "code",
      "source": [
        "# Fit the model\n",
        "y = df['averageRating']\n",
        "X = df.drop(columns='averageRating')\n",
        "X_train, X_test, y_train, y_test = train_test_split(X, y, test_size=0.4, random_state=0)\n",
        "grid.fit(X_train, y_train)"
      ],
      "metadata": {
        "colab": {
          "base_uri": "https://localhost:8080/",
          "height": 243
        },
        "id": "3qDKD0rhrb1r",
        "outputId": "690316f1-4f45-4fca-c566-5fa163e9072b"
      },
      "execution_count": 66,
      "outputs": [
        {
          "output_type": "stream",
          "name": "stdout",
          "text": [
            "Fitting 5 folds for each of 6 candidates, totalling 30 fits\n"
          ]
        },
        {
          "output_type": "execute_result",
          "data": {
            "text/plain": [
              "GridSearchCV(cv=5,\n",
              "             estimator=Pipeline(steps=[('preparation',\n",
              "                                        ColumnTransformer(transformers=[('data_tex',\n",
              "                                                                         Pipeline(steps=[('countvec',\n",
              "                                                                                          CountVectorizer()),\n",
              "                                                                                         ('dr',\n",
              "                                                                                          TruncatedSVD())]),\n",
              "                                                                         'movie_features'),\n",
              "                                                                        ('data_num',\n",
              "                                                                         Pipeline(steps=[('scaling',\n",
              "                                                                                          RobustScaler())]),\n",
              "                                                                         ['runtimeMinutes'])])),\n",
              "                                       ('model', AdaBoostRegressor())]),\n",
              "             n_jobs=-1, param_grid={'model__n_estimators': range(50, 301, 50)},\n",
              "             scoring='r2', verbose=1)"
            ],
            "text/html": [
              "<style>#sk-de0863ab-5f3b-4446-8454-6971b1585eed {color: black;background-color: white;}#sk-de0863ab-5f3b-4446-8454-6971b1585eed pre{padding: 0;}#sk-de0863ab-5f3b-4446-8454-6971b1585eed div.sk-toggleable {background-color: white;}#sk-de0863ab-5f3b-4446-8454-6971b1585eed label.sk-toggleable__label {cursor: pointer;display: block;width: 100%;margin-bottom: 0;padding: 0.3em;box-sizing: border-box;text-align: center;}#sk-de0863ab-5f3b-4446-8454-6971b1585eed label.sk-toggleable__label-arrow:before {content: \"▸\";float: left;margin-right: 0.25em;color: #696969;}#sk-de0863ab-5f3b-4446-8454-6971b1585eed label.sk-toggleable__label-arrow:hover:before {color: black;}#sk-de0863ab-5f3b-4446-8454-6971b1585eed div.sk-estimator:hover label.sk-toggleable__label-arrow:before {color: black;}#sk-de0863ab-5f3b-4446-8454-6971b1585eed div.sk-toggleable__content {max-height: 0;max-width: 0;overflow: hidden;text-align: left;background-color: #f0f8ff;}#sk-de0863ab-5f3b-4446-8454-6971b1585eed div.sk-toggleable__content pre {margin: 0.2em;color: black;border-radius: 0.25em;background-color: #f0f8ff;}#sk-de0863ab-5f3b-4446-8454-6971b1585eed input.sk-toggleable__control:checked~div.sk-toggleable__content {max-height: 200px;max-width: 100%;overflow: auto;}#sk-de0863ab-5f3b-4446-8454-6971b1585eed input.sk-toggleable__control:checked~label.sk-toggleable__label-arrow:before {content: \"▾\";}#sk-de0863ab-5f3b-4446-8454-6971b1585eed div.sk-estimator input.sk-toggleable__control:checked~label.sk-toggleable__label {background-color: #d4ebff;}#sk-de0863ab-5f3b-4446-8454-6971b1585eed div.sk-label input.sk-toggleable__control:checked~label.sk-toggleable__label {background-color: #d4ebff;}#sk-de0863ab-5f3b-4446-8454-6971b1585eed input.sk-hidden--visually {border: 0;clip: rect(1px 1px 1px 1px);clip: rect(1px, 1px, 1px, 1px);height: 1px;margin: -1px;overflow: hidden;padding: 0;position: absolute;width: 1px;}#sk-de0863ab-5f3b-4446-8454-6971b1585eed div.sk-estimator {font-family: monospace;background-color: #f0f8ff;border: 1px dotted black;border-radius: 0.25em;box-sizing: border-box;margin-bottom: 0.5em;}#sk-de0863ab-5f3b-4446-8454-6971b1585eed div.sk-estimator:hover {background-color: #d4ebff;}#sk-de0863ab-5f3b-4446-8454-6971b1585eed div.sk-parallel-item::after {content: \"\";width: 100%;border-bottom: 1px solid gray;flex-grow: 1;}#sk-de0863ab-5f3b-4446-8454-6971b1585eed div.sk-label:hover label.sk-toggleable__label {background-color: #d4ebff;}#sk-de0863ab-5f3b-4446-8454-6971b1585eed div.sk-serial::before {content: \"\";position: absolute;border-left: 1px solid gray;box-sizing: border-box;top: 2em;bottom: 0;left: 50%;}#sk-de0863ab-5f3b-4446-8454-6971b1585eed div.sk-serial {display: flex;flex-direction: column;align-items: center;background-color: white;padding-right: 0.2em;padding-left: 0.2em;}#sk-de0863ab-5f3b-4446-8454-6971b1585eed div.sk-item {z-index: 1;}#sk-de0863ab-5f3b-4446-8454-6971b1585eed div.sk-parallel {display: flex;align-items: stretch;justify-content: center;background-color: white;}#sk-de0863ab-5f3b-4446-8454-6971b1585eed div.sk-parallel::before {content: \"\";position: absolute;border-left: 1px solid gray;box-sizing: border-box;top: 2em;bottom: 0;left: 50%;}#sk-de0863ab-5f3b-4446-8454-6971b1585eed div.sk-parallel-item {display: flex;flex-direction: column;position: relative;background-color: white;}#sk-de0863ab-5f3b-4446-8454-6971b1585eed div.sk-parallel-item:first-child::after {align-self: flex-end;width: 50%;}#sk-de0863ab-5f3b-4446-8454-6971b1585eed div.sk-parallel-item:last-child::after {align-self: flex-start;width: 50%;}#sk-de0863ab-5f3b-4446-8454-6971b1585eed div.sk-parallel-item:only-child::after {width: 0;}#sk-de0863ab-5f3b-4446-8454-6971b1585eed div.sk-dashed-wrapped {border: 1px dashed gray;margin: 0 0.4em 0.5em 0.4em;box-sizing: border-box;padding-bottom: 0.4em;background-color: white;position: relative;}#sk-de0863ab-5f3b-4446-8454-6971b1585eed div.sk-label label {font-family: monospace;font-weight: bold;background-color: white;display: inline-block;line-height: 1.2em;}#sk-de0863ab-5f3b-4446-8454-6971b1585eed div.sk-label-container {position: relative;z-index: 2;text-align: center;}#sk-de0863ab-5f3b-4446-8454-6971b1585eed div.sk-container {/* jupyter's `normalize.less` sets `[hidden] { display: none; }` but bootstrap.min.css set `[hidden] { display: none !important; }` so we also need the `!important` here to be able to override the default hidden behavior on the sphinx rendered scikit-learn.org. See: https://github.com/scikit-learn/scikit-learn/issues/21755 */display: inline-block !important;position: relative;}#sk-de0863ab-5f3b-4446-8454-6971b1585eed div.sk-text-repr-fallback {display: none;}</style><div id=\"sk-de0863ab-5f3b-4446-8454-6971b1585eed\" class=\"sk-top-container\"><div class=\"sk-text-repr-fallback\"><pre>GridSearchCV(cv=5,\n",
              "             estimator=Pipeline(steps=[(&#x27;preparation&#x27;,\n",
              "                                        ColumnTransformer(transformers=[(&#x27;data_tex&#x27;,\n",
              "                                                                         Pipeline(steps=[(&#x27;countvec&#x27;,\n",
              "                                                                                          CountVectorizer()),\n",
              "                                                                                         (&#x27;dr&#x27;,\n",
              "                                                                                          TruncatedSVD())]),\n",
              "                                                                         &#x27;movie_features&#x27;),\n",
              "                                                                        (&#x27;data_num&#x27;,\n",
              "                                                                         Pipeline(steps=[(&#x27;scaling&#x27;,\n",
              "                                                                                          RobustScaler())]),\n",
              "                                                                         [&#x27;runtimeMinutes&#x27;])])),\n",
              "                                       (&#x27;model&#x27;, AdaBoostRegressor())]),\n",
              "             n_jobs=-1, param_grid={&#x27;model__n_estimators&#x27;: range(50, 301, 50)},\n",
              "             scoring=&#x27;r2&#x27;, verbose=1)</pre><b>Please rerun this cell to show the HTML repr or trust the notebook.</b></div><div class=\"sk-container\" hidden><div class=\"sk-item sk-dashed-wrapped\"><div class=\"sk-label-container\"><div class=\"sk-label sk-toggleable\"><input class=\"sk-toggleable__control sk-hidden--visually\" id=\"ab7ef1d4-f5ac-4d30-9b10-b08c4fe4fd28\" type=\"checkbox\" ><label for=\"ab7ef1d4-f5ac-4d30-9b10-b08c4fe4fd28\" class=\"sk-toggleable__label sk-toggleable__label-arrow\">GridSearchCV</label><div class=\"sk-toggleable__content\"><pre>GridSearchCV(cv=5,\n",
              "             estimator=Pipeline(steps=[(&#x27;preparation&#x27;,\n",
              "                                        ColumnTransformer(transformers=[(&#x27;data_tex&#x27;,\n",
              "                                                                         Pipeline(steps=[(&#x27;countvec&#x27;,\n",
              "                                                                                          CountVectorizer()),\n",
              "                                                                                         (&#x27;dr&#x27;,\n",
              "                                                                                          TruncatedSVD())]),\n",
              "                                                                         &#x27;movie_features&#x27;),\n",
              "                                                                        (&#x27;data_num&#x27;,\n",
              "                                                                         Pipeline(steps=[(&#x27;scaling&#x27;,\n",
              "                                                                                          RobustScaler())]),\n",
              "                                                                         [&#x27;runtimeMinutes&#x27;])])),\n",
              "                                       (&#x27;model&#x27;, AdaBoostRegressor())]),\n",
              "             n_jobs=-1, param_grid={&#x27;model__n_estimators&#x27;: range(50, 301, 50)},\n",
              "             scoring=&#x27;r2&#x27;, verbose=1)</pre></div></div></div><div class=\"sk-parallel\"><div class=\"sk-parallel-item\"><div class=\"sk-item\"><div class=\"sk-serial\"><div class=\"sk-item\"><div class=\"sk-serial\"><div class=\"sk-item sk-dashed-wrapped\"><div class=\"sk-label-container\"><div class=\"sk-label sk-toggleable\"><input class=\"sk-toggleable__control sk-hidden--visually\" id=\"0b3fe214-49df-4afb-b88e-c9d47412fd6b\" type=\"checkbox\" ><label for=\"0b3fe214-49df-4afb-b88e-c9d47412fd6b\" class=\"sk-toggleable__label sk-toggleable__label-arrow\">preparation: ColumnTransformer</label><div class=\"sk-toggleable__content\"><pre>ColumnTransformer(transformers=[(&#x27;data_tex&#x27;,\n",
              "                                 Pipeline(steps=[(&#x27;countvec&#x27;,\n",
              "                                                  CountVectorizer()),\n",
              "                                                 (&#x27;dr&#x27;, TruncatedSVD())]),\n",
              "                                 &#x27;movie_features&#x27;),\n",
              "                                (&#x27;data_num&#x27;,\n",
              "                                 Pipeline(steps=[(&#x27;scaling&#x27;, RobustScaler())]),\n",
              "                                 [&#x27;runtimeMinutes&#x27;])])</pre></div></div></div><div class=\"sk-parallel\"><div class=\"sk-parallel-item\"><div class=\"sk-item\"><div class=\"sk-label-container\"><div class=\"sk-label sk-toggleable\"><input class=\"sk-toggleable__control sk-hidden--visually\" id=\"07779484-24fd-4423-b988-c06acf58d28c\" type=\"checkbox\" ><label for=\"07779484-24fd-4423-b988-c06acf58d28c\" class=\"sk-toggleable__label sk-toggleable__label-arrow\">data_tex</label><div class=\"sk-toggleable__content\"><pre>movie_features</pre></div></div></div><div class=\"sk-serial\"><div class=\"sk-item\"><div class=\"sk-serial\"><div class=\"sk-item\"><div class=\"sk-estimator sk-toggleable\"><input class=\"sk-toggleable__control sk-hidden--visually\" id=\"1c7948f1-0a40-40da-a51e-f134cfb51a79\" type=\"checkbox\" ><label for=\"1c7948f1-0a40-40da-a51e-f134cfb51a79\" class=\"sk-toggleable__label sk-toggleable__label-arrow\">CountVectorizer</label><div class=\"sk-toggleable__content\"><pre>CountVectorizer()</pre></div></div></div><div class=\"sk-item\"><div class=\"sk-estimator sk-toggleable\"><input class=\"sk-toggleable__control sk-hidden--visually\" id=\"d13629e6-3eab-435b-910e-5ee6d9cc770e\" type=\"checkbox\" ><label for=\"d13629e6-3eab-435b-910e-5ee6d9cc770e\" class=\"sk-toggleable__label sk-toggleable__label-arrow\">TruncatedSVD</label><div class=\"sk-toggleable__content\"><pre>TruncatedSVD()</pre></div></div></div></div></div></div></div></div><div class=\"sk-parallel-item\"><div class=\"sk-item\"><div class=\"sk-label-container\"><div class=\"sk-label sk-toggleable\"><input class=\"sk-toggleable__control sk-hidden--visually\" id=\"7e815844-f93a-4c01-a4fd-8ff40b690aca\" type=\"checkbox\" ><label for=\"7e815844-f93a-4c01-a4fd-8ff40b690aca\" class=\"sk-toggleable__label sk-toggleable__label-arrow\">data_num</label><div class=\"sk-toggleable__content\"><pre>[&#x27;runtimeMinutes&#x27;]</pre></div></div></div><div class=\"sk-serial\"><div class=\"sk-item\"><div class=\"sk-serial\"><div class=\"sk-item\"><div class=\"sk-estimator sk-toggleable\"><input class=\"sk-toggleable__control sk-hidden--visually\" id=\"3b9c3f7a-a6b2-45fa-8beb-f0214fe9742f\" type=\"checkbox\" ><label for=\"3b9c3f7a-a6b2-45fa-8beb-f0214fe9742f\" class=\"sk-toggleable__label sk-toggleable__label-arrow\">RobustScaler</label><div class=\"sk-toggleable__content\"><pre>RobustScaler()</pre></div></div></div></div></div></div></div></div></div></div><div class=\"sk-item\"><div class=\"sk-estimator sk-toggleable\"><input class=\"sk-toggleable__control sk-hidden--visually\" id=\"5a718004-3e2a-4a41-982f-e12ef6d9e81b\" type=\"checkbox\" ><label for=\"5a718004-3e2a-4a41-982f-e12ef6d9e81b\" class=\"sk-toggleable__label sk-toggleable__label-arrow\">AdaBoostRegressor</label><div class=\"sk-toggleable__content\"><pre>AdaBoostRegressor()</pre></div></div></div></div></div></div></div></div></div></div></div></div>"
            ]
          },
          "metadata": {},
          "execution_count": 66
        }
      ]
    },
    {
      "cell_type": "code",
      "source": [
        "# Evaluate cross validation performance \n",
        "print(\"CV score:\", grid.best_score_)"
      ],
      "metadata": {
        "colab": {
          "base_uri": "https://localhost:8080/"
        },
        "id": "fKH2xlNM9fqN",
        "outputId": "1ef3bafe-3a5b-4fac-ac2c-526fae6748dc"
      },
      "execution_count": 67,
      "outputs": [
        {
          "output_type": "stream",
          "name": "stdout",
          "text": [
            "CV score: 0.0780169887269383\n"
          ]
        }
      ]
    },
    {
      "cell_type": "code",
      "source": [
        "# Make predictions\n",
        "y_pred = grid.predict(X_test)"
      ],
      "metadata": {
        "id": "WHjAPK0l9lmH"
      },
      "execution_count": 68,
      "outputs": []
    },
    {
      "cell_type": "code",
      "source": [
        "# Evaluate model performance\n",
        "print(\"Test score\", r2_score(y_test, y_pred))"
      ],
      "metadata": {
        "colab": {
          "base_uri": "https://localhost:8080/"
        },
        "id": "Xp98_LLv9pGM",
        "outputId": "e0826137-a40c-411b-d59e-119edc6977d6"
      },
      "execution_count": 69,
      "outputs": [
        {
          "output_type": "stream",
          "name": "stdout",
          "text": [
            "Test score 0.09203097792620907\n"
          ]
        }
      ]
    }
  ],
  "metadata": {
    "kernelspec": {
      "display_name": "Netfloox",
      "language": "python",
      "name": "python3"
    },
    "language_info": {
      "codemirror_mode": {
        "name": "ipython",
        "version": 3
      },
      "file_extension": ".py",
      "mimetype": "text/x-python",
      "name": "python",
      "nbconvert_exporter": "python",
      "pygments_lexer": "ipython3",
      "version": "3.9.16"
    },
    "orig_nbformat": 4,
    "vscode": {
      "interpreter": {
        "hash": "150f8bce8a0ed1f6707cea83ffc3775a25deaf29f2e3120fc9d158fd4b5e952f"
      }
    },
    "colab": {
      "provenance": []
    },
    "accelerator": "TPU",
    "gpuClass": "standard"
  },
  "nbformat": 4,
  "nbformat_minor": 0
}