{
 "cells": [
  {
   "cell_type": "code",
   "execution_count": 169,
   "metadata": {},
   "outputs": [],
   "source": [
    "import pandas as pd\n",
    "import numpy as np\n",
    "from sklearn.linear_model import SGDRegressor\n",
    "from sklearn.ensemble import RandomForestRegressor\n",
    "from sklearn.preprocessing import RobustScaler\n",
    "from sklearn.pipeline import Pipeline\n",
    "from sklearn.impute import SimpleImputer\n",
    "from sklearn.preprocessing import OneHotEncoder\n",
    "from sklearn.compose import ColumnTransformer\n",
    "from sklearn.model_selection import train_test_split, GridSearchCV\n",
    "from sklearn import metrics\n",
    "from sklearn.decomposition import TruncatedSVD\n",
    "from sklearn.decomposition import PCA"
   ]
  },
  {
   "cell_type": "code",
   "execution_count": 170,
   "metadata": {},
   "outputs": [],
   "source": [
    "def getRegressResults(regress, parameters, data):\n",
    "\n",
    "  # PREPROCESSING\n",
    "  # Target\n",
    "  y = data['averageRating'].dropna()\n",
    "\n",
    "  # Features preprocessing\n",
    "  X = data.drop(columns='averageRating')\n",
    "  transfo_cat = Pipeline(steps=[\n",
    "        ('imputation', SimpleImputer(strategy='most_frequent')),\n",
    "        ('onehot', OneHotEncoder(handle_unknown='ignore')),\n",
    "        ('dr', TruncatedSVD())\n",
    "  ])\n",
    "\n",
    "  transfo_num = Pipeline(steps=[\n",
    "      ('imputation', SimpleImputer(strategy='median')),\n",
    "      ('scaling', RobustScaler())\n",
    "  ])\n",
    "\n",
    "  preparation = ColumnTransformer(\n",
    "      transformers=[\n",
    "          ('data_cat', transfo_cat , X.select_dtypes(include=['object']).columns),\n",
    "          ('data_num', transfo_num , X.select_dtypes(exclude=['object']).columns)\n",
    "      ])\n",
    "\n",
    "  # train-test-split\t\n",
    "  X_train, X_test, y_train, y_test = train_test_split(X, y, test_size=0.2, random_state=2, stratify=y)\t\n",
    "\n",
    "  # Pipeline and Model\n",
    "  model = Pipeline(steps=[('preparation', preparation),\n",
    "                          ('model', regress)])\n",
    "\n",
    "  # Gridsearch\n",
    "  grid = GridSearchCV(estimator = model, param_grid = parameters, scoring = 'r2', cv = 5, n_jobs =-1, verbose = 0)\n",
    "  #grid = GridSearchCV(estimator = model, param_grid = parameters, scoring = 'r2', cv = 5, n_jobs =-1, verbose = 0)\n",
    "\n",
    "  # Fit\n",
    "  grid.fit(X_train, y_train)\n",
    "\n",
    "  # Predict\n",
    "  y_pred = grid.predict(X_test)\n",
    "  test_score = metrics.r2_score(y_test, y_pred)\n",
    "\n",
    "  # Results\n",
    "  regress_results = []\n",
    "  regress_results.append(grid.cv_results_['mean_fit_time'].mean().round(4))\n",
    "  regress_results.append(grid.best_score_.round(4))\n",
    "  regress_results.append(test_score.round(4))\n",
    "  regress_results.append(grid.best_params_)\n",
    "\n",
    "  return(regress_results)"
   ]
  },
  {
   "cell_type": "code",
   "execution_count": 171,
   "metadata": {},
   "outputs": [
    {
     "data": {
      "text/html": [
       "<div>\n",
       "<style scoped>\n",
       "    .dataframe tbody tr th:only-of-type {\n",
       "        vertical-align: middle;\n",
       "    }\n",
       "\n",
       "    .dataframe tbody tr th {\n",
       "        vertical-align: top;\n",
       "    }\n",
       "\n",
       "    .dataframe thead th {\n",
       "        text-align: right;\n",
       "    }\n",
       "</style>\n",
       "<table border=\"1\" class=\"dataframe\">\n",
       "  <thead>\n",
       "    <tr style=\"text-align: right;\">\n",
       "      <th></th>\n",
       "      <th>tconst</th>\n",
       "      <th>genres</th>\n",
       "      <th>runtimeMinutes</th>\n",
       "      <th>averageRating</th>\n",
       "      <th>director_name</th>\n",
       "    </tr>\n",
       "  </thead>\n",
       "  <tbody>\n",
       "    <tr>\n",
       "      <th>0</th>\n",
       "      <td>tt19730260</td>\n",
       "      <td>Musical</td>\n",
       "      <td>154.0</td>\n",
       "      <td>9.0</td>\n",
       "      <td>Haricheth</td>\n",
       "    </tr>\n",
       "    <tr>\n",
       "      <th>7</th>\n",
       "      <td>tt14691678</td>\n",
       "      <td>Drama</td>\n",
       "      <td>147.0</td>\n",
       "      <td>8.3</td>\n",
       "      <td>S. Mahendar</td>\n",
       "    </tr>\n",
       "    <tr>\n",
       "      <th>8</th>\n",
       "      <td>tt12716284</td>\n",
       "      <td>Comedy,Romance</td>\n",
       "      <td>NaN</td>\n",
       "      <td>5.1</td>\n",
       "      <td>Dinesh Babu</td>\n",
       "    </tr>\n",
       "    <tr>\n",
       "      <th>10</th>\n",
       "      <td>tt9130460</td>\n",
       "      <td>Action,Comedy</td>\n",
       "      <td>NaN</td>\n",
       "      <td>4.7</td>\n",
       "      <td>Om Sai Prakash</td>\n",
       "    </tr>\n",
       "    <tr>\n",
       "      <th>11</th>\n",
       "      <td>tt14333040</td>\n",
       "      <td>Drama</td>\n",
       "      <td>153.0</td>\n",
       "      <td>4.3</td>\n",
       "      <td>Om Sai Prakash</td>\n",
       "    </tr>\n",
       "    <tr>\n",
       "      <th>...</th>\n",
       "      <td>...</td>\n",
       "      <td>...</td>\n",
       "      <td>...</td>\n",
       "      <td>...</td>\n",
       "      <td>...</td>\n",
       "    </tr>\n",
       "    <tr>\n",
       "      <th>900014</th>\n",
       "      <td>tt19712468</td>\n",
       "      <td>Drama</td>\n",
       "      <td>70.0</td>\n",
       "      <td>8.9</td>\n",
       "      <td>S.S. Jishnu Dev</td>\n",
       "    </tr>\n",
       "    <tr>\n",
       "      <th>900017</th>\n",
       "      <td>tt1971393</td>\n",
       "      <td>Action,Drama,Thriller</td>\n",
       "      <td>92.0</td>\n",
       "      <td>5.3</td>\n",
       "      <td>Fernando A. Mico</td>\n",
       "    </tr>\n",
       "    <tr>\n",
       "      <th>900020</th>\n",
       "      <td>tt19715754</td>\n",
       "      <td>Documentary</td>\n",
       "      <td>NaN</td>\n",
       "      <td>8.5</td>\n",
       "      <td>Ali Necati Kumcuoglu</td>\n",
       "    </tr>\n",
       "    <tr>\n",
       "      <th>900030</th>\n",
       "      <td>tt19727878</td>\n",
       "      <td>Horror,Mystery,Thriller</td>\n",
       "      <td>118.0</td>\n",
       "      <td>4.8</td>\n",
       "      <td>Any Gacha</td>\n",
       "    </tr>\n",
       "    <tr>\n",
       "      <th>900037</th>\n",
       "      <td>tt1972816</td>\n",
       "      <td>Comedy,Drama</td>\n",
       "      <td>55.0</td>\n",
       "      <td>6.1</td>\n",
       "      <td>Markus Aaltonen</td>\n",
       "    </tr>\n",
       "  </tbody>\n",
       "</table>\n",
       "<p>196229 rows × 5 columns</p>\n",
       "</div>"
      ],
      "text/plain": [
       "            tconst                   genres  runtimeMinutes  averageRating  \\\n",
       "0       tt19730260                  Musical           154.0            9.0   \n",
       "7       tt14691678                    Drama           147.0            8.3   \n",
       "8       tt12716284           Comedy,Romance             NaN            5.1   \n",
       "10       tt9130460            Action,Comedy             NaN            4.7   \n",
       "11      tt14333040                    Drama           153.0            4.3   \n",
       "...            ...                      ...             ...            ...   \n",
       "900014  tt19712468                    Drama            70.0            8.9   \n",
       "900017   tt1971393    Action,Drama,Thriller            92.0            5.3   \n",
       "900020  tt19715754              Documentary             NaN            8.5   \n",
       "900030  tt19727878  Horror,Mystery,Thriller           118.0            4.8   \n",
       "900037   tt1972816             Comedy,Drama            55.0            6.1   \n",
       "\n",
       "               director_name  \n",
       "0                  Haricheth  \n",
       "7                S. Mahendar  \n",
       "8                Dinesh Babu  \n",
       "10            Om Sai Prakash  \n",
       "11            Om Sai Prakash  \n",
       "...                      ...  \n",
       "900014       S.S. Jishnu Dev  \n",
       "900017      Fernando A. Mico  \n",
       "900020  Ali Necati Kumcuoglu  \n",
       "900030             Any Gacha  \n",
       "900037       Markus Aaltonen  \n",
       "\n",
       "[196229 rows x 5 columns]"
      ]
     },
     "execution_count": 171,
     "metadata": {},
     "output_type": "execute_result"
    }
   ],
   "source": [
    "df = pd.read_csv('data_regression.csv', index_col=0)\n",
    "df = df.drop(['actor_name', 'actress_name'], axis=1).drop_duplicates(subset='tconst')\n",
    "df"
   ]
  },
  {
   "cell_type": "code",
   "execution_count": 176,
   "metadata": {},
   "outputs": [],
   "source": [
    "model = SGDRegressor()\n",
    "parameters = {\n",
    "    \"model__loss\": ['squared_error']\n",
    "}"
   ]
  },
  {
   "cell_type": "code",
   "execution_count": 177,
   "metadata": {},
   "outputs": [
    {
     "data": {
      "text/plain": [
       "[3.9679, -0.0203, 0.0402, {'model__loss': 'squared_error'}]"
      ]
     },
     "execution_count": 177,
     "metadata": {},
     "output_type": "execute_result"
    }
   ],
   "source": [
    "getRegressResults(model, parameters, data=df)"
   ]
  },
  {
   "cell_type": "code",
   "execution_count": 178,
   "metadata": {},
   "outputs": [],
   "source": [
    "model = RandomForestRegressor()\n",
    "parameters = {\n",
    "    \"model__n_estimators\": [n for n in range(50, 150, 50)]\n",
    "}"
   ]
  },
  {
   "cell_type": "code",
   "execution_count": 179,
   "metadata": {},
   "outputs": [
    {
     "data": {
      "text/plain": [
       "[29.1322, 0.0355, 0.0414, {'model__n_estimators': 100}]"
      ]
     },
     "execution_count": 179,
     "metadata": {},
     "output_type": "execute_result"
    }
   ],
   "source": [
    "getRegressResults(model, parameters, data=df)"
   ]
  }
 ],
 "metadata": {
  "kernelspec": {
   "display_name": "Netfloox",
   "language": "python",
   "name": "python3"
  },
  "language_info": {
   "codemirror_mode": {
    "name": "ipython",
    "version": 3
   },
   "file_extension": ".py",
   "mimetype": "text/x-python",
   "name": "python",
   "nbconvert_exporter": "python",
   "pygments_lexer": "ipython3",
   "version": "3.9.16"
  },
  "orig_nbformat": 4,
  "vscode": {
   "interpreter": {
    "hash": "150f8bce8a0ed1f6707cea83ffc3775a25deaf29f2e3120fc9d158fd4b5e952f"
   }
  }
 },
 "nbformat": 4,
 "nbformat_minor": 2
}
